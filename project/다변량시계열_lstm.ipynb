{
  "nbformat": 4,
  "nbformat_minor": 0,
  "metadata": {
    "colab": {
      "name": "다변량시계열_lstm.ipynb",
      "provenance": [],
      "collapsed_sections": [],
      "include_colab_link": true
    },
    "kernelspec": {
      "name": "python3",
      "display_name": "Python 3"
    },
    "accelerator": "GPU"
  },
  "cells": [
    {
      "cell_type": "markdown",
      "metadata": {
        "id": "view-in-github",
        "colab_type": "text"
      },
      "source": [
        "<a href=\"https://colab.research.google.com/github/ggwnsghgg/Exchange_rate_prediction_Project/blob/main/%EB%8B%A4%EB%B3%80%EB%9F%89%EC%8B%9C%EA%B3%84%EC%97%B4_lstm.ipynb\" target=\"_parent\"><img src=\"https://colab.research.google.com/assets/colab-badge.svg\" alt=\"Open In Colab\"/></a>"
      ]
    },
    {
      "cell_type": "code",
      "metadata": {
        "id": "9J5uOwt6EWj2"
      },
      "source": [
        "import tensorflow as tf\r\n",
        "from tensorflow.keras.callbacks import CSVLogger, EarlyStopping\r\n",
        "\r\n",
        "import matplotlib.pyplot as plt\r\n",
        "import matplotlib as mpl\r\n",
        "import seaborn as sns\r\n",
        "import numpy as np\r\n",
        "import os \r\n",
        "import pandas as pd\r\n",
        "from google.colab import files\r\n",
        "import warnings\r\n",
        "from pandas import DataFrame\r\n",
        "from keras.models import Sequential\r\n",
        "from keras.layers import LSTM\r\n",
        "from keras.layers import Dense\r\n",
        "from keras.layers import concatenate\r\n",
        "from math import sqrt\r\n",
        "from sklearn import preprocessing\r\n",
        "import matplotlib.pyplot as plt\r\n",
        "from keras.utils import np_utils\r\n",
        "import pandas as pd\r\n",
        "\r\n",
        "\r\n",
        "warnings.simplefilter('ignore')\r\n",
        "\r\n",
        "mpl.rcParams['figure.figsize'] = (8, 6)\r\n",
        "mpl.rcParams['axes.grid'] = False"
      ],
      "execution_count": 294,
      "outputs": []
    },
    {
      "cell_type": "code",
      "metadata": {
        "colab": {
          "resources": {
            "http://localhost:8080/nbextensions/google.colab/files.js": {
              "data": "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",
              "ok": true,
              "headers": [
                [
                  "content-type",
                  "application/javascript"
                ]
              ],
              "status": 200,
              "status_text": ""
            }
          },
          "base_uri": "https://localhost:8080/",
          "height": 76
        },
        "id": "9UM7eAu4eKsw",
        "outputId": "5afe7b93-e79c-4b94-ddd9-0394b78fac7c"
      },
      "source": [
        "myfile = files.upload()"
      ],
      "execution_count": 295,
      "outputs": [
        {
          "output_type": "display_data",
          "data": {
            "text/html": [
              "\n",
              "     <input type=\"file\" id=\"files-e84504d1-2af5-4b2e-abf1-df3b186f4a59\" name=\"files[]\" multiple disabled\n",
              "        style=\"border:none\" />\n",
              "     <output id=\"result-e84504d1-2af5-4b2e-abf1-df3b186f4a59\">\n",
              "      Upload widget is only available when the cell has been executed in the\n",
              "      current browser session. Please rerun this cell to enable.\n",
              "      </output>\n",
              "      <script src=\"/nbextensions/google.colab/files.js\"></script> "
            ],
            "text/plain": [
              "<IPython.core.display.HTML object>"
            ]
          },
          "metadata": {
            "tags": []
          }
        },
        {
          "output_type": "stream",
          "text": [
            "Saving test.csv to test (4).csv\n"
          ],
          "name": "stdout"
        }
      ]
    },
    {
      "cell_type": "code",
      "metadata": {
        "colab": {
          "base_uri": "https://localhost:8080/",
          "height": 222
        },
        "id": "TQ0Z_Fa3EgC1",
        "outputId": "a7110d34-bdbe-4b70-f4da-beccd789cb6f"
      },
      "source": [
        "\r\n",
        "#데이터 읽자\r\n",
        "#천단위 콤마 제거 해주자 나중에 또 하기 귀찮으니까!(결정적으로 float형 유지를 위해)\r\n",
        "df = pd.read_csv('test.csv', thousands = ',')\r\n",
        "print(df.shape)\r\n",
        "df.tail()"
      ],
      "execution_count": 351,
      "outputs": [
        {
          "output_type": "stream",
          "text": [
            "(1762, 8)\n"
          ],
          "name": "stdout"
        },
        {
          "output_type": "execute_result",
          "data": {
            "text/html": [
              "<div>\n",
              "<style scoped>\n",
              "    .dataframe tbody tr th:only-of-type {\n",
              "        vertical-align: middle;\n",
              "    }\n",
              "\n",
              "    .dataframe tbody tr th {\n",
              "        vertical-align: top;\n",
              "    }\n",
              "\n",
              "    .dataframe thead th {\n",
              "        text-align: right;\n",
              "    }\n",
              "</style>\n",
              "<table border=\"1\" class=\"dataframe\">\n",
              "  <thead>\n",
              "    <tr style=\"text-align: right;\">\n",
              "      <th></th>\n",
              "      <th>Date</th>\n",
              "      <th>ExchangeRate</th>\n",
              "      <th>KRX100</th>\n",
              "      <th>KORIBOR</th>\n",
              "      <th>LIBOR</th>\n",
              "      <th>달러지수 (종가)</th>\n",
              "      <th>콜금리</th>\n",
              "      <th>KOSPI</th>\n",
              "    </tr>\n",
              "  </thead>\n",
              "  <tbody>\n",
              "    <tr>\n",
              "      <th>1757</th>\n",
              "      <td>2021.02.17</td>\n",
              "      <td>1,099.70</td>\n",
              "      <td>6764.11</td>\n",
              "      <td>0.87</td>\n",
              "      <td>NaN</td>\n",
              "      <td>90.95</td>\n",
              "      <td>0.47</td>\n",
              "      <td>3,133.73</td>\n",
              "    </tr>\n",
              "    <tr>\n",
              "      <th>1758</th>\n",
              "      <td>2021.02.18</td>\n",
              "      <td>1,107.70</td>\n",
              "      <td>6652.76</td>\n",
              "      <td>0.87</td>\n",
              "      <td>NaN</td>\n",
              "      <td>90.59</td>\n",
              "      <td>0.49</td>\n",
              "      <td>3,086.66</td>\n",
              "    </tr>\n",
              "    <tr>\n",
              "      <th>1759</th>\n",
              "      <td>2021.02.19</td>\n",
              "      <td>1,105.70</td>\n",
              "      <td>6712.32</td>\n",
              "      <td>0.86</td>\n",
              "      <td>NaN</td>\n",
              "      <td>90.36</td>\n",
              "      <td>0.51</td>\n",
              "      <td>3,107.62</td>\n",
              "    </tr>\n",
              "    <tr>\n",
              "      <th>1760</th>\n",
              "      <td>2021.02.22</td>\n",
              "      <td>1,107.10</td>\n",
              "      <td>6635.92</td>\n",
              "      <td>0.86</td>\n",
              "      <td>NaN</td>\n",
              "      <td>90.01</td>\n",
              "      <td>0.50</td>\n",
              "      <td>3,079.75</td>\n",
              "    </tr>\n",
              "    <tr>\n",
              "      <th>1761</th>\n",
              "      <td>2021.02.23</td>\n",
              "      <td>1,106.50</td>\n",
              "      <td>6607.24</td>\n",
              "      <td>0.86</td>\n",
              "      <td>NaN</td>\n",
              "      <td>90.17</td>\n",
              "      <td>0.49</td>\n",
              "      <td>3,070.09</td>\n",
              "    </tr>\n",
              "  </tbody>\n",
              "</table>\n",
              "</div>"
            ],
            "text/plain": [
              "            Date ExchangeRate   KRX100  ...  달러지수 (종가)   콜금리     KOSPI\n",
              "1757  2021.02.17     1,099.70  6764.11  ...      90.95  0.47  3,133.73\n",
              "1758  2021.02.18     1,107.70  6652.76  ...      90.59  0.49  3,086.66\n",
              "1759  2021.02.19     1,105.70  6712.32  ...      90.36  0.51  3,107.62\n",
              "1760  2021.02.22     1,107.10  6635.92  ...      90.01  0.50  3,079.75\n",
              "1761  2021.02.23     1,106.50  6607.24  ...      90.17  0.49  3,070.09\n",
              "\n",
              "[5 rows x 8 columns]"
            ]
          },
          "metadata": {
            "tags": []
          },
          "execution_count": 351
        }
      ]
    },
    {
      "cell_type": "code",
      "metadata": {
        "id": "WmHJpvgzE-CP"
      },
      "source": [
        "\r\n",
        "#열이름 한국어인거 영어로 변경하자\r\n",
        "name = [\"Date\", \"ExchangeRate\",\"KRX100\", \"KORIBOR\", \"LIBOR\", \"DollarRate\",\r\n",
        "       \"CallRate\",\"KOSPI\"]\r\n",
        "df1= df.rename(columns = dict(zip(df.columns,name)))"
      ],
      "execution_count": 352,
      "outputs": []
    },
    {
      "cell_type": "code",
      "metadata": {
        "colab": {
          "base_uri": "https://localhost:8080/",
          "height": 204
        },
        "id": "Y7VDshE_FK0G",
        "outputId": "953da72e-1ab0-4c1b-f6a8-ac289eed7cfa"
      },
      "source": [
        "#천단위 쉼표 제거\r\n",
        "df1['ExchangeRate'] = df1['ExchangeRate'].str.replace(',','')\r\n",
        "df1['KOSPI'] = df1['KOSPI'].str.replace(',','')\r\n",
        "df1.tail()"
      ],
      "execution_count": 353,
      "outputs": [
        {
          "output_type": "execute_result",
          "data": {
            "text/html": [
              "<div>\n",
              "<style scoped>\n",
              "    .dataframe tbody tr th:only-of-type {\n",
              "        vertical-align: middle;\n",
              "    }\n",
              "\n",
              "    .dataframe tbody tr th {\n",
              "        vertical-align: top;\n",
              "    }\n",
              "\n",
              "    .dataframe thead th {\n",
              "        text-align: right;\n",
              "    }\n",
              "</style>\n",
              "<table border=\"1\" class=\"dataframe\">\n",
              "  <thead>\n",
              "    <tr style=\"text-align: right;\">\n",
              "      <th></th>\n",
              "      <th>Date</th>\n",
              "      <th>ExchangeRate</th>\n",
              "      <th>KRX100</th>\n",
              "      <th>KORIBOR</th>\n",
              "      <th>LIBOR</th>\n",
              "      <th>DollarRate</th>\n",
              "      <th>CallRate</th>\n",
              "      <th>KOSPI</th>\n",
              "    </tr>\n",
              "  </thead>\n",
              "  <tbody>\n",
              "    <tr>\n",
              "      <th>1757</th>\n",
              "      <td>2021.02.17</td>\n",
              "      <td>1099.70</td>\n",
              "      <td>6764.11</td>\n",
              "      <td>0.87</td>\n",
              "      <td>NaN</td>\n",
              "      <td>90.95</td>\n",
              "      <td>0.47</td>\n",
              "      <td>3133.73</td>\n",
              "    </tr>\n",
              "    <tr>\n",
              "      <th>1758</th>\n",
              "      <td>2021.02.18</td>\n",
              "      <td>1107.70</td>\n",
              "      <td>6652.76</td>\n",
              "      <td>0.87</td>\n",
              "      <td>NaN</td>\n",
              "      <td>90.59</td>\n",
              "      <td>0.49</td>\n",
              "      <td>3086.66</td>\n",
              "    </tr>\n",
              "    <tr>\n",
              "      <th>1759</th>\n",
              "      <td>2021.02.19</td>\n",
              "      <td>1105.70</td>\n",
              "      <td>6712.32</td>\n",
              "      <td>0.86</td>\n",
              "      <td>NaN</td>\n",
              "      <td>90.36</td>\n",
              "      <td>0.51</td>\n",
              "      <td>3107.62</td>\n",
              "    </tr>\n",
              "    <tr>\n",
              "      <th>1760</th>\n",
              "      <td>2021.02.22</td>\n",
              "      <td>1107.10</td>\n",
              "      <td>6635.92</td>\n",
              "      <td>0.86</td>\n",
              "      <td>NaN</td>\n",
              "      <td>90.01</td>\n",
              "      <td>0.50</td>\n",
              "      <td>3079.75</td>\n",
              "    </tr>\n",
              "    <tr>\n",
              "      <th>1761</th>\n",
              "      <td>2021.02.23</td>\n",
              "      <td>1106.50</td>\n",
              "      <td>6607.24</td>\n",
              "      <td>0.86</td>\n",
              "      <td>NaN</td>\n",
              "      <td>90.17</td>\n",
              "      <td>0.49</td>\n",
              "      <td>3070.09</td>\n",
              "    </tr>\n",
              "  </tbody>\n",
              "</table>\n",
              "</div>"
            ],
            "text/plain": [
              "            Date ExchangeRate   KRX100  ...  DollarRate  CallRate    KOSPI\n",
              "1757  2021.02.17      1099.70  6764.11  ...       90.95      0.47  3133.73\n",
              "1758  2021.02.18      1107.70  6652.76  ...       90.59      0.49  3086.66\n",
              "1759  2021.02.19      1105.70  6712.32  ...       90.36      0.51  3107.62\n",
              "1760  2021.02.22      1107.10  6635.92  ...       90.01      0.50  3079.75\n",
              "1761  2021.02.23      1106.50  6607.24  ...       90.17      0.49  3070.09\n",
              "\n",
              "[5 rows x 8 columns]"
            ]
          },
          "metadata": {
            "tags": []
          },
          "execution_count": 353
        }
      ]
    },
    {
      "cell_type": "code",
      "metadata": {
        "id": "bNGGnVmTFMwm"
      },
      "source": [
        "\r\n",
        "#오브젝트형 데이터 실수로 형변환\r\n",
        "df1[\"KOSPI\"] = pd.to_numeric(df1.KOSPI, errors='coerce')\r\n",
        "df1[\"ExchangeRate\"] = pd.to_numeric(df1.ExchangeRate, errors='coerce')"
      ],
      "execution_count": 354,
      "outputs": []
    },
    {
      "cell_type": "code",
      "metadata": {
        "colab": {
          "base_uri": "https://localhost:8080/"
        },
        "id": "zpHyPRiNFOXA",
        "outputId": "9222cabc-979b-4d71-f320-4c126d8b650f"
      },
      "source": [
        "#결측값 확인\r\n",
        "df1.isna().sum()"
      ],
      "execution_count": 355,
      "outputs": [
        {
          "output_type": "execute_result",
          "data": {
            "text/plain": [
              "Date             0\n",
              "ExchangeRate     1\n",
              "KRX100           6\n",
              "KORIBOR          0\n",
              "LIBOR           92\n",
              "DollarRate       7\n",
              "CallRate         0\n",
              "KOSPI            7\n",
              "dtype: int64"
            ]
          },
          "metadata": {
            "tags": []
          },
          "execution_count": 355
        }
      ]
    },
    {
      "cell_type": "code",
      "metadata": {
        "colab": {
          "base_uri": "https://localhost:8080/",
          "height": 204
        },
        "id": "PgRywqn2FQO1",
        "outputId": "320f8461-dfaf-4d94-ca7f-49ebaf2d74ae"
      },
      "source": [
        "#결측치를 값에 선형 비례하는식으로 결측값을 보간해봤다\r\n",
        "df_intp = df1.interpolate(method = 'values')\r\n",
        "\r\n",
        "df_intp.tail()"
      ],
      "execution_count": 356,
      "outputs": [
        {
          "output_type": "execute_result",
          "data": {
            "text/html": [
              "<div>\n",
              "<style scoped>\n",
              "    .dataframe tbody tr th:only-of-type {\n",
              "        vertical-align: middle;\n",
              "    }\n",
              "\n",
              "    .dataframe tbody tr th {\n",
              "        vertical-align: top;\n",
              "    }\n",
              "\n",
              "    .dataframe thead th {\n",
              "        text-align: right;\n",
              "    }\n",
              "</style>\n",
              "<table border=\"1\" class=\"dataframe\">\n",
              "  <thead>\n",
              "    <tr style=\"text-align: right;\">\n",
              "      <th></th>\n",
              "      <th>Date</th>\n",
              "      <th>ExchangeRate</th>\n",
              "      <th>KRX100</th>\n",
              "      <th>KORIBOR</th>\n",
              "      <th>LIBOR</th>\n",
              "      <th>DollarRate</th>\n",
              "      <th>CallRate</th>\n",
              "      <th>KOSPI</th>\n",
              "    </tr>\n",
              "  </thead>\n",
              "  <tbody>\n",
              "    <tr>\n",
              "      <th>1757</th>\n",
              "      <td>2021.02.17</td>\n",
              "      <td>1099.7</td>\n",
              "      <td>6764.11</td>\n",
              "      <td>0.87</td>\n",
              "      <td>0.0815</td>\n",
              "      <td>90.95</td>\n",
              "      <td>0.47</td>\n",
              "      <td>3133.73</td>\n",
              "    </tr>\n",
              "    <tr>\n",
              "      <th>1758</th>\n",
              "      <td>2021.02.18</td>\n",
              "      <td>1107.7</td>\n",
              "      <td>6652.76</td>\n",
              "      <td>0.87</td>\n",
              "      <td>0.0815</td>\n",
              "      <td>90.59</td>\n",
              "      <td>0.49</td>\n",
              "      <td>3086.66</td>\n",
              "    </tr>\n",
              "    <tr>\n",
              "      <th>1759</th>\n",
              "      <td>2021.02.19</td>\n",
              "      <td>1105.7</td>\n",
              "      <td>6712.32</td>\n",
              "      <td>0.86</td>\n",
              "      <td>0.0815</td>\n",
              "      <td>90.36</td>\n",
              "      <td>0.51</td>\n",
              "      <td>3107.62</td>\n",
              "    </tr>\n",
              "    <tr>\n",
              "      <th>1760</th>\n",
              "      <td>2021.02.22</td>\n",
              "      <td>1107.1</td>\n",
              "      <td>6635.92</td>\n",
              "      <td>0.86</td>\n",
              "      <td>0.0815</td>\n",
              "      <td>90.01</td>\n",
              "      <td>0.50</td>\n",
              "      <td>3079.75</td>\n",
              "    </tr>\n",
              "    <tr>\n",
              "      <th>1761</th>\n",
              "      <td>2021.02.23</td>\n",
              "      <td>1106.5</td>\n",
              "      <td>6607.24</td>\n",
              "      <td>0.86</td>\n",
              "      <td>0.0815</td>\n",
              "      <td>90.17</td>\n",
              "      <td>0.49</td>\n",
              "      <td>3070.09</td>\n",
              "    </tr>\n",
              "  </tbody>\n",
              "</table>\n",
              "</div>"
            ],
            "text/plain": [
              "            Date  ExchangeRate   KRX100  ...  DollarRate  CallRate    KOSPI\n",
              "1757  2021.02.17        1099.7  6764.11  ...       90.95      0.47  3133.73\n",
              "1758  2021.02.18        1107.7  6652.76  ...       90.59      0.49  3086.66\n",
              "1759  2021.02.19        1105.7  6712.32  ...       90.36      0.51  3107.62\n",
              "1760  2021.02.22        1107.1  6635.92  ...       90.01      0.50  3079.75\n",
              "1761  2021.02.23        1106.5  6607.24  ...       90.17      0.49  3070.09\n",
              "\n",
              "[5 rows x 8 columns]"
            ]
          },
          "metadata": {
            "tags": []
          },
          "execution_count": 356
        }
      ]
    },
    {
      "cell_type": "code",
      "metadata": {
        "id": "HRlDKNAOFShK"
      },
      "source": [
        "#날짜 데이터타임형식으로 미리 변경해놓자\r\n",
        "df_intp['Date'] = pd.to_datetime(df_intp['Date'], errors='coerce')"
      ],
      "execution_count": 357,
      "outputs": []
    },
    {
      "cell_type": "code",
      "metadata": {
        "colab": {
          "base_uri": "https://localhost:8080/",
          "height": 235
        },
        "id": "20yMRdR6FUGz",
        "outputId": "08a23748-de95-4e62-b266-1d9aee6eee67"
      },
      "source": [
        "\r\n",
        "#날짜가 인덱스인 경우도 생성 해놓자\r\n",
        "df_date = df_intp.set_index('Date')\r\n",
        "df_date.head()"
      ],
      "execution_count": 358,
      "outputs": [
        {
          "output_type": "execute_result",
          "data": {
            "text/html": [
              "<div>\n",
              "<style scoped>\n",
              "    .dataframe tbody tr th:only-of-type {\n",
              "        vertical-align: middle;\n",
              "    }\n",
              "\n",
              "    .dataframe tbody tr th {\n",
              "        vertical-align: top;\n",
              "    }\n",
              "\n",
              "    .dataframe thead th {\n",
              "        text-align: right;\n",
              "    }\n",
              "</style>\n",
              "<table border=\"1\" class=\"dataframe\">\n",
              "  <thead>\n",
              "    <tr style=\"text-align: right;\">\n",
              "      <th></th>\n",
              "      <th>ExchangeRate</th>\n",
              "      <th>KRX100</th>\n",
              "      <th>KORIBOR</th>\n",
              "      <th>LIBOR</th>\n",
              "      <th>DollarRate</th>\n",
              "      <th>CallRate</th>\n",
              "      <th>KOSPI</th>\n",
              "    </tr>\n",
              "    <tr>\n",
              "      <th>Date</th>\n",
              "      <th></th>\n",
              "      <th></th>\n",
              "      <th></th>\n",
              "      <th></th>\n",
              "      <th></th>\n",
              "      <th></th>\n",
              "      <th></th>\n",
              "    </tr>\n",
              "  </thead>\n",
              "  <tbody>\n",
              "    <tr>\n",
              "      <th>2014-01-02</th>\n",
              "      <td>1055.3</td>\n",
              "      <td>4263.64</td>\n",
              "      <td>2.78</td>\n",
              "      <td>0.0956</td>\n",
              "      <td>80.79</td>\n",
              "      <td>2.51</td>\n",
              "      <td>1967.19</td>\n",
              "    </tr>\n",
              "    <tr>\n",
              "      <th>2014-01-03</th>\n",
              "      <td>1050.4</td>\n",
              "      <td>4209.03</td>\n",
              "      <td>2.78</td>\n",
              "      <td>0.0950</td>\n",
              "      <td>80.96</td>\n",
              "      <td>2.50</td>\n",
              "      <td>1946.14</td>\n",
              "    </tr>\n",
              "    <tr>\n",
              "      <th>2014-01-06</th>\n",
              "      <td>1054.1</td>\n",
              "      <td>4221.13</td>\n",
              "      <td>2.77</td>\n",
              "      <td>0.0945</td>\n",
              "      <td>80.81</td>\n",
              "      <td>2.48</td>\n",
              "      <td>1953.28</td>\n",
              "    </tr>\n",
              "    <tr>\n",
              "      <th>2014-01-07</th>\n",
              "      <td>1062.2</td>\n",
              "      <td>4233.05</td>\n",
              "      <td>2.75</td>\n",
              "      <td>0.0926</td>\n",
              "      <td>80.98</td>\n",
              "      <td>2.50</td>\n",
              "      <td>1959.44</td>\n",
              "    </tr>\n",
              "    <tr>\n",
              "      <th>2014-01-08</th>\n",
              "      <td>1067.9</td>\n",
              "      <td>4232.26</td>\n",
              "      <td>2.75</td>\n",
              "      <td>0.0925</td>\n",
              "      <td>81.16</td>\n",
              "      <td>2.49</td>\n",
              "      <td>1958.96</td>\n",
              "    </tr>\n",
              "  </tbody>\n",
              "</table>\n",
              "</div>"
            ],
            "text/plain": [
              "            ExchangeRate   KRX100  KORIBOR  ...  DollarRate  CallRate    KOSPI\n",
              "Date                                        ...                               \n",
              "2014-01-02        1055.3  4263.64     2.78  ...       80.79      2.51  1967.19\n",
              "2014-01-03        1050.4  4209.03     2.78  ...       80.96      2.50  1946.14\n",
              "2014-01-06        1054.1  4221.13     2.77  ...       80.81      2.48  1953.28\n",
              "2014-01-07        1062.2  4233.05     2.75  ...       80.98      2.50  1959.44\n",
              "2014-01-08        1067.9  4232.26     2.75  ...       81.16      2.49  1958.96\n",
              "\n",
              "[5 rows x 7 columns]"
            ]
          },
          "metadata": {
            "tags": []
          },
          "execution_count": 358
        }
      ]
    },
    {
      "cell_type": "code",
      "metadata": {
        "colab": {
          "base_uri": "https://localhost:8080/",
          "height": 581
        },
        "id": "eO4TFZEjFVqs",
        "outputId": "ca303166-8394-4464-9bd9-a40360ff0fcc"
      },
      "source": [
        "#시각화 해보자\r\n",
        "df_intp.plot(y='ExchangeRate', x='Date', figsize = (20,10))"
      ],
      "execution_count": 359,
      "outputs": [
        {
          "output_type": "execute_result",
          "data": {
            "text/plain": [
              "<matplotlib.axes._subplots.AxesSubplot at 0x7f669c2e8210>"
            ]
          },
          "metadata": {
            "tags": []
          },
          "execution_count": 359
        },
        {
          "output_type": "display_data",
          "data": {
            "image/png": "[encoded data removed]",
            "text/plain": [
              "<Figure size 1440x720 with 1 Axes>"
            ]
          },
          "metadata": {
            "tags": [],
            "needs_background": "light"
          }
        }
      ]
    },
    {
      "cell_type": "code",
      "metadata": {
        "colab": {
          "base_uri": "https://localhost:8080/",
          "height": 450
        },
        "id": "HtnUVFDmFYmC",
        "outputId": "ad5b59f0-2921-4afe-c4c1-c2fcb1c41857"
      },
      "source": [
        "from sklearn.preprocessing import MinMaxScaler\r\n",
        "\r\n",
        "#scaler 객체 생성\r\n",
        "scaler = MinMaxScaler()\r\n",
        "\r\n",
        "#데이터셋 변환\r\n",
        "scaler.fit(df_date)\r\n",
        "date_scaler = scaler.transform(df_date)\r\n",
        "\r\n",
        "#transform 변환을 하면 배열 형식으로 바뀌는데 그걸 다시 데이터 프레임 형식으로 넘기자\r\n",
        "df_scaler = pd.DataFrame(date_scaler, columns = df_date.columns, index = df_date.index)\r\n",
        "df_scaler"
      ],
      "execution_count": 360,
      "outputs": [
        {
          "output_type": "execute_result",
          "data": {
            "text/html": [
              "<div>\n",
              "<style scoped>\n",
              "    .dataframe tbody tr th:only-of-type {\n",
              "        vertical-align: middle;\n",
              "    }\n",
              "\n",
              "    .dataframe tbody tr th {\n",
              "        vertical-align: top;\n",
              "    }\n",
              "\n",
              "    .dataframe thead th {\n",
              "        text-align: right;\n",
              "    }\n",
              "</style>\n",
              "<table border=\"1\" class=\"dataframe\">\n",
              "  <thead>\n",
              "    <tr style=\"text-align: right;\">\n",
              "      <th></th>\n",
              "      <th>ExchangeRate</th>\n",
              "      <th>KRX100</th>\n",
              "      <th>KORIBOR</th>\n",
              "      <th>LIBOR</th>\n",
              "      <th>DollarRate</th>\n",
              "      <th>CallRate</th>\n",
              "      <th>KOSPI</th>\n",
              "    </tr>\n",
              "    <tr>\n",
              "      <th>Date</th>\n",
              "      <th></th>\n",
              "      <th></th>\n",
              "      <th></th>\n",
              "      <th></th>\n",
              "      <th></th>\n",
              "      <th></th>\n",
              "      <th></th>\n",
              "    </tr>\n",
              "  </thead>\n",
              "  <tbody>\n",
              "    <tr>\n",
              "      <th>2014-01-02</th>\n",
              "      <td>0.171091</td>\n",
              "      <td>0.277568</td>\n",
              "      <td>1.000000</td>\n",
              "      <td>0.019069</td>\n",
              "      <td>0.064449</td>\n",
              "      <td>0.995215</td>\n",
              "      <td>0.290947</td>\n",
              "    </tr>\n",
              "    <tr>\n",
              "      <th>2014-01-03</th>\n",
              "      <td>0.153024</td>\n",
              "      <td>0.262975</td>\n",
              "      <td>1.000000</td>\n",
              "      <td>0.018814</td>\n",
              "      <td>0.071518</td>\n",
              "      <td>0.990431</td>\n",
              "      <td>0.278928</td>\n",
              "    </tr>\n",
              "    <tr>\n",
              "      <th>2014-01-06</th>\n",
              "      <td>0.166667</td>\n",
              "      <td>0.266208</td>\n",
              "      <td>0.995025</td>\n",
              "      <td>0.018601</td>\n",
              "      <td>0.065281</td>\n",
              "      <td>0.980861</td>\n",
              "      <td>0.283005</td>\n",
              "    </tr>\n",
              "    <tr>\n",
              "      <th>2014-01-07</th>\n",
              "      <td>0.196534</td>\n",
              "      <td>0.269393</td>\n",
              "      <td>0.985075</td>\n",
              "      <td>0.017793</td>\n",
              "      <td>0.072349</td>\n",
              "      <td>0.990431</td>\n",
              "      <td>0.286522</td>\n",
              "    </tr>\n",
              "    <tr>\n",
              "      <th>2014-01-08</th>\n",
              "      <td>0.217552</td>\n",
              "      <td>0.269182</td>\n",
              "      <td>0.985075</td>\n",
              "      <td>0.017751</td>\n",
              "      <td>0.079834</td>\n",
              "      <td>0.985646</td>\n",
              "      <td>0.286248</td>\n",
              "    </tr>\n",
              "    <tr>\n",
              "      <th>...</th>\n",
              "      <td>...</td>\n",
              "      <td>...</td>\n",
              "      <td>...</td>\n",
              "      <td>...</td>\n",
              "      <td>...</td>\n",
              "      <td>...</td>\n",
              "      <td>...</td>\n",
              "    </tr>\n",
              "    <tr>\n",
              "      <th>2021-02-17</th>\n",
              "      <td>0.334808</td>\n",
              "      <td>0.945766</td>\n",
              "      <td>0.049751</td>\n",
              "      <td>0.013074</td>\n",
              "      <td>0.486902</td>\n",
              "      <td>0.019139</td>\n",
              "      <td>0.957027</td>\n",
              "    </tr>\n",
              "    <tr>\n",
              "      <th>2021-02-18</th>\n",
              "      <td>0.364307</td>\n",
              "      <td>0.916010</td>\n",
              "      <td>0.049751</td>\n",
              "      <td>0.013074</td>\n",
              "      <td>0.471933</td>\n",
              "      <td>0.028708</td>\n",
              "      <td>0.930151</td>\n",
              "    </tr>\n",
              "    <tr>\n",
              "      <th>2021-02-19</th>\n",
              "      <td>0.356932</td>\n",
              "      <td>0.931926</td>\n",
              "      <td>0.044776</td>\n",
              "      <td>0.013074</td>\n",
              "      <td>0.462370</td>\n",
              "      <td>0.038278</td>\n",
              "      <td>0.942119</td>\n",
              "    </tr>\n",
              "    <tr>\n",
              "      <th>2021-02-22</th>\n",
              "      <td>0.362094</td>\n",
              "      <td>0.911510</td>\n",
              "      <td>0.044776</td>\n",
              "      <td>0.013074</td>\n",
              "      <td>0.447817</td>\n",
              "      <td>0.033493</td>\n",
              "      <td>0.926205</td>\n",
              "    </tr>\n",
              "    <tr>\n",
              "      <th>2021-02-23</th>\n",
              "      <td>0.359882</td>\n",
              "      <td>0.903846</td>\n",
              "      <td>0.044776</td>\n",
              "      <td>0.013074</td>\n",
              "      <td>0.454470</td>\n",
              "      <td>0.028708</td>\n",
              "      <td>0.920690</td>\n",
              "    </tr>\n",
              "  </tbody>\n",
              "</table>\n",
              "<p>1762 rows × 7 columns</p>\n",
              "</div>"
            ],
            "text/plain": [
              "            ExchangeRate    KRX100   KORIBOR  ...  DollarRate  CallRate     KOSPI\n",
              "Date                                          ...                                \n",
              "2014-01-02      0.171091  0.277568  1.000000  ...    0.064449  0.995215  0.290947\n",
              "2014-01-03      0.153024  0.262975  1.000000  ...    0.071518  0.990431  0.278928\n",
              "2014-01-06      0.166667  0.266208  0.995025  ...    0.065281  0.980861  0.283005\n",
              "2014-01-07      0.196534  0.269393  0.985075  ...    0.072349  0.990431  0.286522\n",
              "2014-01-08      0.217552  0.269182  0.985075  ...    0.079834  0.985646  0.286248\n",
              "...                  ...       ...       ...  ...         ...       ...       ...\n",
              "2021-02-17      0.334808  0.945766  0.049751  ...    0.486902  0.019139  0.957027\n",
              "2021-02-18      0.364307  0.916010  0.049751  ...    0.471933  0.028708  0.930151\n",
              "2021-02-19      0.356932  0.931926  0.044776  ...    0.462370  0.038278  0.942119\n",
              "2021-02-22      0.362094  0.911510  0.044776  ...    0.447817  0.033493  0.926205\n",
              "2021-02-23      0.359882  0.903846  0.044776  ...    0.454470  0.028708  0.920690\n",
              "\n",
              "[1762 rows x 7 columns]"
            ]
          },
          "metadata": {
            "tags": []
          },
          "execution_count": 360
        }
      ]
    },
    {
      "cell_type": "code",
      "metadata": {
        "id": "wm4gQdCWFbl7"
      },
      "source": [
        ""
      ],
      "execution_count": 360,
      "outputs": []
    },
    {
      "cell_type": "markdown",
      "metadata": {
        "id": "7cyXKBfEFfXj"
      },
      "source": [
        "## 모델 지도학습화"
      ]
    },
    {
      "cell_type": "code",
      "metadata": {
        "id": "QeWH6gwZFi_5"
      },
      "source": [
        "def series_to_supervised(data, n_in=1, n_out=1, dropnan=True):\r\n",
        "  n_vars = 1 if type(data) is list else data.shape[1]\r\n",
        "  df = DataFrame(data)\r\n",
        "  cols, names = list(), list()\r\n",
        "  # input sequence (t-n, ... t-1)\r\n",
        "  for i in range(n_in, 0, -1):\r\n",
        "      cols.append(df.shift(i))\r\n",
        "      names += [('var%d(t-%d)' % (j+1, i)) for j in range(n_vars)]\r\n",
        "  # forecast sequence (t, t+1, ... t+n)\r\n",
        "  for i in range(0, n_out):\r\n",
        "      cols.append(df.shift(-i))\r\n",
        "      if i == 0:\r\n",
        "          names += [('var%d(t)' % (j+1)) for j in range(n_vars)]\r\n",
        "      else:\r\n",
        "          names += [('var%d(t+%d)' % (j+1, i)) for j in range(n_vars)]\r\n",
        "  # put it all together\r\n",
        "  agg = pd.concat(cols, axis=1)\r\n",
        "  agg.columns = names\r\n",
        "  # drop rows with NaN values\r\n",
        "  if dropnan:\r\n",
        "      agg.dropna(inplace=True)\r\n",
        "  return agg"
      ],
      "execution_count": 361,
      "outputs": []
    },
    {
      "cell_type": "code",
      "metadata": {
        "id": "4KJpCJycFl7d"
      },
      "source": [
        "\r\n",
        "reframed = series_to_supervised(df_scaler, 1, 1) #t-1시점,t시점 데이터를 한 행으로 둔다"
      ],
      "execution_count": 362,
      "outputs": []
    },
    {
      "cell_type": "code",
      "metadata": {
        "colab": {
          "base_uri": "https://localhost:8080/",
          "height": 235
        },
        "id": "5CRkFiuu4hiR",
        "outputId": "c355368a-1987-4b76-a88c-2b2bda0f90a4"
      },
      "source": [
        "reframed.head()"
      ],
      "execution_count": 363,
      "outputs": [
        {
          "output_type": "execute_result",
          "data": {
            "text/html": [
              "<div>\n",
              "<style scoped>\n",
              "    .dataframe tbody tr th:only-of-type {\n",
              "        vertical-align: middle;\n",
              "    }\n",
              "\n",
              "    .dataframe tbody tr th {\n",
              "        vertical-align: top;\n",
              "    }\n",
              "\n",
              "    .dataframe thead th {\n",
              "        text-align: right;\n",
              "    }\n",
              "</style>\n",
              "<table border=\"1\" class=\"dataframe\">\n",
              "  <thead>\n",
              "    <tr style=\"text-align: right;\">\n",
              "      <th></th>\n",
              "      <th>var1(t-1)</th>\n",
              "      <th>var2(t-1)</th>\n",
              "      <th>var3(t-1)</th>\n",
              "      <th>var4(t-1)</th>\n",
              "      <th>var5(t-1)</th>\n",
              "      <th>var6(t-1)</th>\n",
              "      <th>var7(t-1)</th>\n",
              "      <th>var1(t)</th>\n",
              "      <th>var2(t)</th>\n",
              "      <th>var3(t)</th>\n",
              "      <th>var4(t)</th>\n",
              "      <th>var5(t)</th>\n",
              "      <th>var6(t)</th>\n",
              "      <th>var7(t)</th>\n",
              "    </tr>\n",
              "    <tr>\n",
              "      <th>Date</th>\n",
              "      <th></th>\n",
              "      <th></th>\n",
              "      <th></th>\n",
              "      <th></th>\n",
              "      <th></th>\n",
              "      <th></th>\n",
              "      <th></th>\n",
              "      <th></th>\n",
              "      <th></th>\n",
              "      <th></th>\n",
              "      <th></th>\n",
              "      <th></th>\n",
              "      <th></th>\n",
              "      <th></th>\n",
              "    </tr>\n",
              "  </thead>\n",
              "  <tbody>\n",
              "    <tr>\n",
              "      <th>2014-01-03</th>\n",
              "      <td>0.171091</td>\n",
              "      <td>0.277568</td>\n",
              "      <td>1.000000</td>\n",
              "      <td>0.019069</td>\n",
              "      <td>0.064449</td>\n",
              "      <td>0.995215</td>\n",
              "      <td>0.290947</td>\n",
              "      <td>0.153024</td>\n",
              "      <td>0.262975</td>\n",
              "      <td>1.000000</td>\n",
              "      <td>0.018814</td>\n",
              "      <td>0.071518</td>\n",
              "      <td>0.990431</td>\n",
              "      <td>0.278928</td>\n",
              "    </tr>\n",
              "    <tr>\n",
              "      <th>2014-01-06</th>\n",
              "      <td>0.153024</td>\n",
              "      <td>0.262975</td>\n",
              "      <td>1.000000</td>\n",
              "      <td>0.018814</td>\n",
              "      <td>0.071518</td>\n",
              "      <td>0.990431</td>\n",
              "      <td>0.278928</td>\n",
              "      <td>0.166667</td>\n",
              "      <td>0.266208</td>\n",
              "      <td>0.995025</td>\n",
              "      <td>0.018601</td>\n",
              "      <td>0.065281</td>\n",
              "      <td>0.980861</td>\n",
              "      <td>0.283005</td>\n",
              "    </tr>\n",
              "    <tr>\n",
              "      <th>2014-01-07</th>\n",
              "      <td>0.166667</td>\n",
              "      <td>0.266208</td>\n",
              "      <td>0.995025</td>\n",
              "      <td>0.018601</td>\n",
              "      <td>0.065281</td>\n",
              "      <td>0.980861</td>\n",
              "      <td>0.283005</td>\n",
              "      <td>0.196534</td>\n",
              "      <td>0.269393</td>\n",
              "      <td>0.985075</td>\n",
              "      <td>0.017793</td>\n",
              "      <td>0.072349</td>\n",
              "      <td>0.990431</td>\n",
              "      <td>0.286522</td>\n",
              "    </tr>\n",
              "    <tr>\n",
              "      <th>2014-01-08</th>\n",
              "      <td>0.196534</td>\n",
              "      <td>0.269393</td>\n",
              "      <td>0.985075</td>\n",
              "      <td>0.017793</td>\n",
              "      <td>0.072349</td>\n",
              "      <td>0.990431</td>\n",
              "      <td>0.286522</td>\n",
              "      <td>0.217552</td>\n",
              "      <td>0.269182</td>\n",
              "      <td>0.985075</td>\n",
              "      <td>0.017751</td>\n",
              "      <td>0.079834</td>\n",
              "      <td>0.985646</td>\n",
              "      <td>0.286248</td>\n",
              "    </tr>\n",
              "    <tr>\n",
              "      <th>2014-01-09</th>\n",
              "      <td>0.217552</td>\n",
              "      <td>0.269182</td>\n",
              "      <td>0.985075</td>\n",
              "      <td>0.017751</td>\n",
              "      <td>0.079834</td>\n",
              "      <td>0.985646</td>\n",
              "      <td>0.286248</td>\n",
              "      <td>0.210546</td>\n",
              "      <td>0.260407</td>\n",
              "      <td>0.980100</td>\n",
              "      <td>0.017496</td>\n",
              "      <td>0.079002</td>\n",
              "      <td>0.985646</td>\n",
              "      <td>0.278911</td>\n",
              "    </tr>\n",
              "  </tbody>\n",
              "</table>\n",
              "</div>"
            ],
            "text/plain": [
              "            var1(t-1)  var2(t-1)  var3(t-1)  ...   var5(t)   var6(t)   var7(t)\n",
              "Date                                         ...                              \n",
              "2014-01-03   0.171091   0.277568   1.000000  ...  0.071518  0.990431  0.278928\n",
              "2014-01-06   0.153024   0.262975   1.000000  ...  0.065281  0.980861  0.283005\n",
              "2014-01-07   0.166667   0.266208   0.995025  ...  0.072349  0.990431  0.286522\n",
              "2014-01-08   0.196534   0.269393   0.985075  ...  0.079834  0.985646  0.286248\n",
              "2014-01-09   0.217552   0.269182   0.985075  ...  0.079002  0.985646  0.278911\n",
              "\n",
              "[5 rows x 14 columns]"
            ]
          },
          "metadata": {
            "tags": []
          },
          "execution_count": 363
        }
      ]
    },
    {
      "cell_type": "code",
      "metadata": {
        "id": "VYzBvuoEFoll"
      },
      "source": [
        "reframed.drop(reframed.columns[[8,9,10,11,12,13]], axis=1, inplace=True)"
      ],
      "execution_count": 364,
      "outputs": []
    },
    {
      "cell_type": "code",
      "metadata": {
        "colab": {
          "base_uri": "https://localhost:8080/",
          "height": 450
        },
        "id": "G8OaCA9VFndl",
        "outputId": "17a7a2a2-5f2c-4200-b102-eb4bb0ffdbcf"
      },
      "source": [
        "reframed"
      ],
      "execution_count": 365,
      "outputs": [
        {
          "output_type": "execute_result",
          "data": {
            "text/html": [
              "<div>\n",
              "<style scoped>\n",
              "    .dataframe tbody tr th:only-of-type {\n",
              "        vertical-align: middle;\n",
              "    }\n",
              "\n",
              "    .dataframe tbody tr th {\n",
              "        vertical-align: top;\n",
              "    }\n",
              "\n",
              "    .dataframe thead th {\n",
              "        text-align: right;\n",
              "    }\n",
              "</style>\n",
              "<table border=\"1\" class=\"dataframe\">\n",
              "  <thead>\n",
              "    <tr style=\"text-align: right;\">\n",
              "      <th></th>\n",
              "      <th>var1(t-1)</th>\n",
              "      <th>var2(t-1)</th>\n",
              "      <th>var3(t-1)</th>\n",
              "      <th>var4(t-1)</th>\n",
              "      <th>var5(t-1)</th>\n",
              "      <th>var6(t-1)</th>\n",
              "      <th>var7(t-1)</th>\n",
              "      <th>var1(t)</th>\n",
              "    </tr>\n",
              "    <tr>\n",
              "      <th>Date</th>\n",
              "      <th></th>\n",
              "      <th></th>\n",
              "      <th></th>\n",
              "      <th></th>\n",
              "      <th></th>\n",
              "      <th></th>\n",
              "      <th></th>\n",
              "      <th></th>\n",
              "    </tr>\n",
              "  </thead>\n",
              "  <tbody>\n",
              "    <tr>\n",
              "      <th>2014-01-03</th>\n",
              "      <td>0.171091</td>\n",
              "      <td>0.277568</td>\n",
              "      <td>1.000000</td>\n",
              "      <td>0.019069</td>\n",
              "      <td>0.064449</td>\n",
              "      <td>0.995215</td>\n",
              "      <td>0.290947</td>\n",
              "      <td>0.153024</td>\n",
              "    </tr>\n",
              "    <tr>\n",
              "      <th>2014-01-06</th>\n",
              "      <td>0.153024</td>\n",
              "      <td>0.262975</td>\n",
              "      <td>1.000000</td>\n",
              "      <td>0.018814</td>\n",
              "      <td>0.071518</td>\n",
              "      <td>0.990431</td>\n",
              "      <td>0.278928</td>\n",
              "      <td>0.166667</td>\n",
              "    </tr>\n",
              "    <tr>\n",
              "      <th>2014-01-07</th>\n",
              "      <td>0.166667</td>\n",
              "      <td>0.266208</td>\n",
              "      <td>0.995025</td>\n",
              "      <td>0.018601</td>\n",
              "      <td>0.065281</td>\n",
              "      <td>0.980861</td>\n",
              "      <td>0.283005</td>\n",
              "      <td>0.196534</td>\n",
              "    </tr>\n",
              "    <tr>\n",
              "      <th>2014-01-08</th>\n",
              "      <td>0.196534</td>\n",
              "      <td>0.269393</td>\n",
              "      <td>0.985075</td>\n",
              "      <td>0.017793</td>\n",
              "      <td>0.072349</td>\n",
              "      <td>0.990431</td>\n",
              "      <td>0.286522</td>\n",
              "      <td>0.217552</td>\n",
              "    </tr>\n",
              "    <tr>\n",
              "      <th>2014-01-09</th>\n",
              "      <td>0.217552</td>\n",
              "      <td>0.269182</td>\n",
              "      <td>0.985075</td>\n",
              "      <td>0.017751</td>\n",
              "      <td>0.079834</td>\n",
              "      <td>0.985646</td>\n",
              "      <td>0.286248</td>\n",
              "      <td>0.210546</td>\n",
              "    </tr>\n",
              "    <tr>\n",
              "      <th>...</th>\n",
              "      <td>...</td>\n",
              "      <td>...</td>\n",
              "      <td>...</td>\n",
              "      <td>...</td>\n",
              "      <td>...</td>\n",
              "      <td>...</td>\n",
              "      <td>...</td>\n",
              "      <td>...</td>\n",
              "    </tr>\n",
              "    <tr>\n",
              "      <th>2021-02-17</th>\n",
              "      <td>0.347345</td>\n",
              "      <td>0.966433</td>\n",
              "      <td>0.049751</td>\n",
              "      <td>0.013074</td>\n",
              "      <td>0.468607</td>\n",
              "      <td>0.033493</td>\n",
              "      <td>0.973883</td>\n",
              "      <td>0.334808</td>\n",
              "    </tr>\n",
              "    <tr>\n",
              "      <th>2021-02-18</th>\n",
              "      <td>0.334808</td>\n",
              "      <td>0.945766</td>\n",
              "      <td>0.049751</td>\n",
              "      <td>0.013074</td>\n",
              "      <td>0.486902</td>\n",
              "      <td>0.019139</td>\n",
              "      <td>0.957027</td>\n",
              "      <td>0.364307</td>\n",
              "    </tr>\n",
              "    <tr>\n",
              "      <th>2021-02-19</th>\n",
              "      <td>0.364307</td>\n",
              "      <td>0.916010</td>\n",
              "      <td>0.049751</td>\n",
              "      <td>0.013074</td>\n",
              "      <td>0.471933</td>\n",
              "      <td>0.028708</td>\n",
              "      <td>0.930151</td>\n",
              "      <td>0.356932</td>\n",
              "    </tr>\n",
              "    <tr>\n",
              "      <th>2021-02-22</th>\n",
              "      <td>0.356932</td>\n",
              "      <td>0.931926</td>\n",
              "      <td>0.044776</td>\n",
              "      <td>0.013074</td>\n",
              "      <td>0.462370</td>\n",
              "      <td>0.038278</td>\n",
              "      <td>0.942119</td>\n",
              "      <td>0.362094</td>\n",
              "    </tr>\n",
              "    <tr>\n",
              "      <th>2021-02-23</th>\n",
              "      <td>0.362094</td>\n",
              "      <td>0.911510</td>\n",
              "      <td>0.044776</td>\n",
              "      <td>0.013074</td>\n",
              "      <td>0.447817</td>\n",
              "      <td>0.033493</td>\n",
              "      <td>0.926205</td>\n",
              "      <td>0.359882</td>\n",
              "    </tr>\n",
              "  </tbody>\n",
              "</table>\n",
              "<p>1761 rows × 8 columns</p>\n",
              "</div>"
            ],
            "text/plain": [
              "            var1(t-1)  var2(t-1)  var3(t-1)  ...  var6(t-1)  var7(t-1)   var1(t)\n",
              "Date                                         ...                                \n",
              "2014-01-03   0.171091   0.277568   1.000000  ...   0.995215   0.290947  0.153024\n",
              "2014-01-06   0.153024   0.262975   1.000000  ...   0.990431   0.278928  0.166667\n",
              "2014-01-07   0.166667   0.266208   0.995025  ...   0.980861   0.283005  0.196534\n",
              "2014-01-08   0.196534   0.269393   0.985075  ...   0.990431   0.286522  0.217552\n",
              "2014-01-09   0.217552   0.269182   0.985075  ...   0.985646   0.286248  0.210546\n",
              "...               ...        ...        ...  ...        ...        ...       ...\n",
              "2021-02-17   0.347345   0.966433   0.049751  ...   0.033493   0.973883  0.334808\n",
              "2021-02-18   0.334808   0.945766   0.049751  ...   0.019139   0.957027  0.364307\n",
              "2021-02-19   0.364307   0.916010   0.049751  ...   0.028708   0.930151  0.356932\n",
              "2021-02-22   0.356932   0.931926   0.044776  ...   0.038278   0.942119  0.362094\n",
              "2021-02-23   0.362094   0.911510   0.044776  ...   0.033493   0.926205  0.359882\n",
              "\n",
              "[1761 rows x 8 columns]"
            ]
          },
          "metadata": {
            "tags": []
          },
          "execution_count": 365
        }
      ]
    },
    {
      "cell_type": "code",
      "metadata": {
        "id": "hQURVWUcFwck"
      },
      "source": [
        "values = reframed.values\r\n",
        "n_train_time = 1410 # 데이터의 80% 가져온다\r\n",
        "train = values[:n_train_time, :]\r\n",
        "test = values[n_train_time:, :]\r\n",
        "# split into input and outputs\r\n",
        "train_X, train_y = train[:, :-1], train[:, -1]\r\n",
        "test_X, test_y = test[:, :-1], test[:, -1]\r\n",
        "# reshape input to be 3D [samples, timesteps, features]\r\n",
        "train_X = train_X.reshape((train_X.shape[0], 1, train_X.shape[1]))\r\n",
        "test_X = test_X.reshape((test_X.shape[0], 1, test_X.shape[1]))"
      ],
      "execution_count": 366,
      "outputs": []
    },
    {
      "cell_type": "code",
      "metadata": {
        "id": "j599Max7lfSG"
      },
      "source": [
        ""
      ],
      "execution_count": 366,
      "outputs": []
    },
    {
      "cell_type": "code",
      "metadata": {
        "colab": {
          "base_uri": "https://localhost:8080/"
        },
        "id": "W4KwVxPBF67z",
        "outputId": "dd4d1057-ef73-48b9-9390-578adf4650c7"
      },
      "source": [
        "print(test_X.shape, train_y.shape, test_X.shape, test_y.shape )"
      ],
      "execution_count": 367,
      "outputs": [
        {
          "output_type": "stream",
          "text": [
            "(351, 1, 7) (1410,) (351, 1, 7) (351,)\n"
          ],
          "name": "stdout"
        }
      ]
    },
    {
      "cell_type": "code",
      "metadata": {
        "id": "i0jwwoGGF9Ba"
      },
      "source": [
        "model = Sequential()\r\n",
        "model.add(LSTM(50, input_shape=(train_X.shape[1], train_X.shape[2])))\r\n",
        "model.add(Dense(1))\r\n",
        "model.compile(loss='mae', optimizer='adam')\r\n"
      ],
      "execution_count": 368,
      "outputs": []
    },
    {
      "cell_type": "code",
      "metadata": {
        "colab": {
          "base_uri": "https://localhost:8080/"
        },
        "id": "l9_usItWpIOm",
        "outputId": "9db7dfc3-fc79-4ebd-e54d-d43f121508be"
      },
      "source": [
        "model.summary()"
      ],
      "execution_count": 369,
      "outputs": [
        {
          "output_type": "stream",
          "text": [
            "Model: \"sequential_15\"\n",
            "_________________________________________________________________\n",
            "Layer (type)                 Output Shape              Param #   \n",
            "=================================================================\n",
            "lstm_22 (LSTM)               (None, 50)                11600     \n",
            "_________________________________________________________________\n",
            "dense_15 (Dense)             (None, 1)                 51        \n",
            "=================================================================\n",
            "Total params: 11,651\n",
            "Trainable params: 11,651\n",
            "Non-trainable params: 0\n",
            "_________________________________________________________________\n"
          ],
          "name": "stdout"
        }
      ]
    },
    {
      "cell_type": "code",
      "metadata": {
        "colab": {
          "base_uri": "https://localhost:8080/"
        },
        "id": "EldMhY3uGAzv",
        "outputId": "ce90a8d8-c15e-4234-fa51-7fcab8e5d0dd"
      },
      "source": [
        "history = model.fit(train_X, train_y, \r\n",
        "                    epochs=40, \r\n",
        "                    batch_size=72, \r\n",
        "                    validation_data=(test_X, test_y), verbose=2, shuffle=False)"
      ],
      "execution_count": 370,
      "outputs": [
        {
          "output_type": "stream",
          "text": [
            "Epoch 1/40\n",
            "20/20 - 2s - loss: 0.2881 - val_loss: 0.3769\n",
            "Epoch 2/40\n",
            "20/20 - 0s - loss: 0.1494 - val_loss: 0.2296\n",
            "Epoch 3/40\n",
            "20/20 - 0s - loss: 0.1328 - val_loss: 0.2048\n",
            "Epoch 4/40\n",
            "20/20 - 0s - loss: 0.1245 - val_loss: 0.1986\n",
            "Epoch 5/40\n",
            "20/20 - 0s - loss: 0.1152 - val_loss: 0.1877\n",
            "Epoch 6/40\n",
            "20/20 - 0s - loss: 0.1057 - val_loss: 0.1739\n",
            "Epoch 7/40\n",
            "20/20 - 0s - loss: 0.0961 - val_loss: 0.1594\n",
            "Epoch 8/40\n",
            "20/20 - 0s - loss: 0.0870 - val_loss: 0.1449\n",
            "Epoch 9/40\n",
            "20/20 - 0s - loss: 0.0787 - val_loss: 0.1320\n",
            "Epoch 10/40\n",
            "20/20 - 0s - loss: 0.0710 - val_loss: 0.1220\n",
            "Epoch 11/40\n",
            "20/20 - 0s - loss: 0.0639 - val_loss: 0.1086\n",
            "Epoch 12/40\n",
            "20/20 - 0s - loss: 0.0575 - val_loss: 0.0968\n",
            "Epoch 13/40\n",
            "20/20 - 0s - loss: 0.0521 - val_loss: 0.0844\n",
            "Epoch 14/40\n",
            "20/20 - 0s - loss: 0.0480 - val_loss: 0.0761\n",
            "Epoch 15/40\n",
            "20/20 - 0s - loss: 0.0455 - val_loss: 0.0718\n",
            "Epoch 16/40\n",
            "20/20 - 0s - loss: 0.0432 - val_loss: 0.0687\n",
            "Epoch 17/40\n",
            "20/20 - 0s - loss: 0.0411 - val_loss: 0.0682\n",
            "Epoch 18/40\n",
            "20/20 - 0s - loss: 0.0395 - val_loss: 0.0693\n",
            "Epoch 19/40\n",
            "20/20 - 0s - loss: 0.0375 - val_loss: 0.0680\n",
            "Epoch 20/40\n",
            "20/20 - 0s - loss: 0.0355 - val_loss: 0.0663\n",
            "Epoch 21/40\n",
            "20/20 - 0s - loss: 0.0341 - val_loss: 0.0652\n",
            "Epoch 22/40\n",
            "20/20 - 0s - loss: 0.0327 - val_loss: 0.0647\n",
            "Epoch 23/40\n",
            "20/20 - 0s - loss: 0.0315 - val_loss: 0.0653\n",
            "Epoch 24/40\n",
            "20/20 - 0s - loss: 0.0302 - val_loss: 0.0629\n",
            "Epoch 25/40\n",
            "20/20 - 0s - loss: 0.0290 - val_loss: 0.0578\n",
            "Epoch 26/40\n",
            "20/20 - 0s - loss: 0.0281 - val_loss: 0.0540\n",
            "Epoch 27/40\n",
            "20/20 - 0s - loss: 0.0274 - val_loss: 0.0500\n",
            "Epoch 28/40\n",
            "20/20 - 0s - loss: 0.0266 - val_loss: 0.0456\n",
            "Epoch 29/40\n",
            "20/20 - 0s - loss: 0.0258 - val_loss: 0.0423\n",
            "Epoch 30/40\n",
            "20/20 - 0s - loss: 0.0248 - val_loss: 0.0407\n",
            "Epoch 31/40\n",
            "20/20 - 0s - loss: 0.0238 - val_loss: 0.0386\n",
            "Epoch 32/40\n",
            "20/20 - 0s - loss: 0.0230 - val_loss: 0.0353\n",
            "Epoch 33/40\n",
            "20/20 - 0s - loss: 0.0223 - val_loss: 0.0325\n",
            "Epoch 34/40\n",
            "20/20 - 0s - loss: 0.0216 - val_loss: 0.0304\n",
            "Epoch 35/40\n",
            "20/20 - 0s - loss: 0.0209 - val_loss: 0.0288\n",
            "Epoch 36/40\n",
            "20/20 - 0s - loss: 0.0203 - val_loss: 0.0270\n",
            "Epoch 37/40\n",
            "20/20 - 0s - loss: 0.0197 - val_loss: 0.0249\n",
            "Epoch 38/40\n",
            "20/20 - 0s - loss: 0.0193 - val_loss: 0.0223\n",
            "Epoch 39/40\n",
            "20/20 - 0s - loss: 0.0190 - val_loss: 0.0210\n",
            "Epoch 40/40\n",
            "20/20 - 0s - loss: 0.0185 - val_loss: 0.0209\n"
          ],
          "name": "stdout"
        }
      ]
    },
    {
      "cell_type": "code",
      "metadata": {
        "colab": {
          "base_uri": "https://localhost:8080/"
        },
        "id": "mOIUUi6BGbGh",
        "outputId": "77691439-d616-4398-a2ec-addfc05d8ef2"
      },
      "source": [
        "print(history.history.keys())"
      ],
      "execution_count": 371,
      "outputs": [
        {
          "output_type": "stream",
          "text": [
            "dict_keys(['loss', 'val_loss'])\n"
          ],
          "name": "stdout"
        }
      ]
    },
    {
      "cell_type": "code",
      "metadata": {
        "colab": {
          "base_uri": "https://localhost:8080/",
          "height": 374
        },
        "id": "OV8vICIHGoA9",
        "outputId": "5bdccf8c-2b4d-48af-d6fb-a4cc26ea5587"
      },
      "source": [
        "\r\n",
        "plt.plot(history.history['loss'], label='train')\r\n",
        "plt.plot(history.history['val_loss'], label='test')\r\n",
        "plt.legend()  \r\n",
        "plt.show()"
      ],
      "execution_count": 372,
      "outputs": [
        {
          "output_type": "display_data",
          "data": {
            "image/png": "[encoded data removed]",
            "text/plain": [
              "<Figure size 576x432 with 1 Axes>"
            ]
          },
          "metadata": {
            "tags": [],
            "needs_background": "light"
          }
        }
      ]
    },
    {
      "cell_type": "code",
      "metadata": {
        "colab": {
          "base_uri": "https://localhost:8080/"
        },
        "id": "nlb7s97OGpO8",
        "outputId": "b3846135-6455-4f10-dc55-a5833659181e"
      },
      "source": [
        "print(test_X.shape)\r\n",
        "print(train_X.shape)"
      ],
      "execution_count": 373,
      "outputs": [
        {
          "output_type": "stream",
          "text": [
            "(351, 1, 7)\n",
            "(1410, 1, 7)\n"
          ],
          "name": "stdout"
        }
      ]
    },
    {
      "cell_type": "code",
      "metadata": {
        "id": "jIo4jfi8GsVv"
      },
      "source": [
        "yhat = model.predict(test_X)\r\n",
        "test_X = test_X.reshape((test_X.shape[0], test_X.shape[2]))\r\n",
        "#scaling\r\n",
        "\r\n",
        "# print(y_pred)\r\n",
        "# y_pred = scaler.inverse_transform(y_pred)\r\n"
      ],
      "execution_count": 374,
      "outputs": []
    },
    {
      "cell_type": "code",
      "metadata": {
        "id": "u0HTna2uHkeF"
      },
      "source": [
        "#scaling\r\n",
        "inv_yhat = concatenate((yhat, test_X[:,1:]), axis = 1)\r\n",
        "inv_yhat = scaler.inverse_transform(inv_yhat)\r\n",
        "inv_yhat = inv_yhat[:,0]\r\n"
      ],
      "execution_count": 375,
      "outputs": []
    },
    {
      "cell_type": "code",
      "metadata": {
        "id": "xu6PepPE6hKE"
      },
      "source": [
        "test_y = test_y.reshape((len(test_y), 1))\r\n",
        "inv_y = concatenate((test_y, test_X[:, 1:]), axis=1)\r\n",
        "inv_y = scaler.inverse_transform(inv_y)\r\n",
        "inv_y = inv_y[:,0]"
      ],
      "execution_count": 376,
      "outputs": []
    },
    {
      "cell_type": "code",
      "metadata": {
        "colab": {
          "base_uri": "https://localhost:8080/"
        },
        "id": "dNH6FBoaIe46",
        "outputId": "0e529b59-af69-4207-8940-d9cd0e209c67"
      },
      "source": [
        "from sklearn.metrics import mean_squared_error\r\n",
        "rmse = sqrt(mean_squared_error(inv_y, inv_yhat))\r\n",
        "print('Test RMSE: %.3f' % rmse)"
      ],
      "execution_count": 377,
      "outputs": [
        {
          "output_type": "stream",
          "text": [
            "Test RMSE: 7.449\n"
          ],
          "name": "stdout"
        }
      ]
    },
    {
      "cell_type": "code",
      "metadata": {
        "colab": {
          "base_uri": "https://localhost:8080/",
          "height": 392
        },
        "id": "lYRzNB057oRl",
        "outputId": "e54fe474-ce28-4bfe-f8a9-35e6699319e3"
      },
      "source": [
        "plt.plot(inv_yhat)"
      ],
      "execution_count": 378,
      "outputs": [
        {
          "output_type": "execute_result",
          "data": {
            "text/plain": [
              "[<matplotlib.lines.Line2D at 0x7f6693852290>]"
            ]
          },
          "metadata": {
            "tags": []
          },
          "execution_count": 378
        },
        {
          "output_type": "display_data",
          "data": {
            "image/png": "[encoded data removed]",
            "text/plain": [
              "<Figure size 576x432 with 1 Axes>"
            ]
          },
          "metadata": {
            "tags": [],
            "needs_background": "light"
          }
        }
      ]
    },
    {
      "cell_type": "code",
      "metadata": {
        "colab": {
          "base_uri": "https://localhost:8080/"
        },
        "id": "_EG40Q-P1SBT",
        "outputId": "e0036bd8-d430-4a3a-a6de-fd94102a5cdb"
      },
      "source": [
        "inv_yhat.astype(float)"
      ],
      "execution_count": 381,
      "outputs": [
        {
          "output_type": "execute_result",
          "data": {
            "text/plain": [
              "array([1194.58805695, 1196.30637302, 1200.18477244, 1201.14142027,\n",
              "       1203.1887866 , 1200.99561396, 1200.52531586, 1205.50235453,\n",
              "       1199.80708237, 1199.29003572, 1197.3868269 , 1198.07083955,\n",
              "       1191.84659114, 1186.6579555 , 1187.18893619, 1189.66122608,\n",
              "       1188.98881974, 1183.56063824, 1178.91111417, 1175.43057847,\n",
              "       1177.44850874, 1175.13817377, 1177.62282972, 1173.20591683,\n",
              "       1170.55047998, 1171.49309678, 1165.3565423 , 1170.27352881,\n",
              "       1164.0473568 , 1163.74006433, 1161.5210927 , 1164.46120749,\n",
              "       1160.42192001, 1164.77878075, 1166.91030092, 1170.16789198,\n",
              "       1172.19996643, 1168.31925545, 1166.88999796, 1170.86064978,\n",
              "       1172.60735121, 1178.38110337, 1179.45353951, 1177.99987321,\n",
              "       1176.44934754, 1177.99513693, 1181.14733362, 1181.79613938,\n",
              "       1181.86758771, 1187.1422523 , 1193.73966465, 1190.67978501,\n",
              "       1190.103058  , 1189.40098929, 1191.43469639, 1192.62741466,\n",
              "       1187.84579201, 1172.70322452, 1173.72333527, 1168.38970156,\n",
              "       1167.09908938, 1166.58912292, 1164.87554312, 1164.2103301 ,\n",
              "       1165.76817842, 1162.98352032, 1162.72477069, 1159.69974232,\n",
              "       1160.46163688, 1159.84079618, 1165.12184587, 1171.40637274,\n",
              "       1168.23072095, 1175.69936643, 1162.96711307, 1163.57368026,\n",
              "       1158.76236291, 1156.46686721, 1161.35393271, 1162.18800302,\n",
              "       1161.31567068, 1161.43516073, 1166.40125585, 1167.14275045,\n",
              "       1170.17293539, 1178.54323611, 1178.33810506, 1184.98098893,\n",
              "       1189.33311338, 1196.46478786, 1190.81704016, 1189.53365364,\n",
              "       1183.61386886, 1189.09959698, 1191.2032814 , 1186.23348455,\n",
              "       1182.45711722, 1183.99718428, 1185.60703468, 1185.19337797,\n",
              "       1190.8523602 , 1193.55415764, 1199.0417932 , 1207.88525319,\n",
              "       1218.28074217, 1214.05725703, 1217.50213323, 1216.82020583,\n",
              "       1215.48158426, 1201.73725405, 1191.93488317, 1186.99718957,\n",
              "       1185.28747315, 1190.52919393, 1200.83749008, 1197.23547606,\n",
              "       1195.40132318, 1205.21103287, 1217.79930654, 1216.53546324,\n",
              "       1238.11727071, 1237.29687581, 1272.73713684, 1249.9069881 ,\n",
              "       1266.47412529, 1248.91739645, 1224.63196492, 1220.84929333,\n",
              "       1208.45430193, 1216.9275238 , 1215.62498202, 1217.74403915,\n",
              "       1231.40707669, 1224.6327085 , 1226.68859367, 1217.53148847,\n",
              "       1214.38994436, 1211.49588304, 1208.03878627, 1212.79557981,\n",
              "       1212.34280434, 1221.07600436, 1214.30771413, 1214.22179832,\n",
              "       1225.11084652, 1228.40451736, 1225.70409393, 1228.40668344,\n",
              "       1223.35809946, 1218.68680143, 1212.95165076, 1221.54753098,\n",
              "       1217.42027478, 1219.95306945, 1213.08171258, 1212.8919704 ,\n",
              "       1220.79155273, 1220.80842876, 1222.0782207 , 1222.3780612 ,\n",
              "       1223.89541674, 1217.45444713, 1220.57874341, 1223.74138255,\n",
              "       1228.3845377 , 1232.11580529, 1228.15587072, 1223.52461286,\n",
              "       1228.34192734, 1226.08425722, 1217.44542718, 1213.60053735,\n",
              "       1206.73666477, 1207.36586266, 1203.31705413, 1195.61831918,\n",
              "       1189.71993656, 1187.92900829, 1187.38152337, 1198.69187422,\n",
              "       1201.99676342, 1198.72782469, 1205.66608758, 1204.58613482,\n",
              "       1203.16164594, 1203.72371149, 1201.61592121, 1196.10565495,\n",
              "       1197.98686352, 1192.82868233, 1194.5698554 , 1192.25145421,\n",
              "       1194.87629113, 1194.24195285, 1193.02668471, 1190.20041847,\n",
              "       1186.58587675, 1189.24440107, 1188.23946905, 1194.47519445,\n",
              "       1192.41528425, 1197.25013752, 1192.95704684, 1195.14750381,\n",
              "       1196.3025743 , 1193.76203671, 1188.94144077, 1185.05137038,\n",
              "       1188.87705646, 1190.28895297, 1186.19386468, 1184.67337317,\n",
              "       1184.29498801, 1181.68381033, 1179.98663778, 1183.46676936,\n",
              "       1182.48517928, 1179.65425758, 1175.37497163, 1176.59565496,\n",
              "       1177.10756121, 1175.39220328, 1176.13288965, 1174.15158877,\n",
              "       1175.37025151, 1175.37102742, 1173.37331929, 1177.07481136,\n",
              "       1176.13062658, 1179.49062152, 1176.41376886, 1177.02353668,\n",
              "       1175.19263291, 1174.70065784, 1173.21477513, 1174.66136127,\n",
              "       1175.66525874, 1176.84121413, 1178.98303127, 1176.98994627,\n",
              "       1177.65761633, 1179.03378868, 1175.49869685, 1177.46730838,\n",
              "       1173.97763958, 1171.15195527, 1168.85361457, 1166.8042923 ,\n",
              "       1157.96375813, 1156.25218277, 1159.26958137, 1160.05522199,\n",
              "       1165.12465854, 1164.75113897, 1166.82975183, 1162.8220665 ,\n",
              "       1157.9466073 , 1155.00773721, 1157.10521436, 1151.36222377,\n",
              "       1145.37383566, 1146.35637946, 1143.84316843, 1142.91900373,\n",
              "       1143.49164104, 1140.34449584, 1137.85016527, 1133.49638393,\n",
              "       1133.60652266, 1134.3720947 , 1129.98496542, 1129.07172811,\n",
              "       1131.06396446, 1134.85378897, 1132.28786459, 1134.81583407,\n",
              "       1134.49906096, 1134.81394279, 1130.08778958, 1125.11605296,\n",
              "       1118.15675161, 1118.37264032, 1115.6190186 , 1115.93732736,\n",
              "       1116.99958777, 1111.25216804, 1110.18494503, 1109.43553777,\n",
              "       1114.41794314, 1115.68206124, 1114.02104931, 1112.81099432,\n",
              "       1109.40351534, 1108.04600523, 1107.36786039, 1107.01377089,\n",
              "       1108.26930549, 1104.81717939, 1100.46291311, 1091.52878487,\n",
              "       1089.1127969 , 1089.98910577, 1089.25499039, 1091.15027039,\n",
              "       1093.41708977, 1094.461674  , 1096.22635875, 1095.03951638,\n",
              "       1095.63042798, 1099.51349902, 1102.9022511 , 1106.7037385 ,\n",
              "       1108.04505959, 1103.92057564, 1099.23169034, 1094.5728796 ,\n",
              "       1090.31489074, 1090.09555893, 1085.88178074, 1088.56065652,\n",
              "       1088.7851449 , 1088.64977295, 1094.08892226, 1096.79796152,\n",
              "       1098.41591856, 1094.49009168, 1099.55223792, 1098.28236516,\n",
              "       1102.54491248, 1100.52968981, 1098.24707744, 1097.79934537,\n",
              "       1099.73050311, 1100.81077108, 1101.18728921, 1102.28964636,\n",
              "       1111.50095208, 1113.1974942 , 1113.66560197, 1112.25693841,\n",
              "       1110.80268209, 1112.37383401, 1118.36862338, 1114.13592432,\n",
              "       1111.48154626, 1106.47844996, 1100.81928184, 1098.73248961,\n",
              "       1105.1865042 , 1103.30617661, 1104.41402979])"
            ]
          },
          "metadata": {
            "tags": []
          },
          "execution_count": 381
        }
      ]
    },
    {
      "cell_type": "code",
      "metadata": {
        "id": "PU4jNKPRyNTi"
      },
      "source": [
        "test = df_intp['ExchangeRate']"
      ],
      "execution_count": 325,
      "outputs": []
    },
    {
      "cell_type": "code",
      "metadata": {
        "id": "mE3JpmkGyPfF"
      },
      "source": [
        "test2 = test.loc[1396:]"
      ],
      "execution_count": 326,
      "outputs": []
    },
    {
      "cell_type": "code",
      "metadata": {
        "id": "TtvvLOLz0xH0"
      },
      "source": [
        "real=test2.reset_index()"
      ],
      "execution_count": 327,
      "outputs": []
    },
    {
      "cell_type": "code",
      "metadata": {
        "id": "65FQNVM73UGO",
        "colab": {
          "base_uri": "https://localhost:8080/"
        },
        "outputId": "1b1125da-f843-4728-e9ca-cae6174569c7"
      },
      "source": [
        "real.columns"
      ],
      "execution_count": 328,
      "outputs": [
        {
          "output_type": "execute_result",
          "data": {
            "text/plain": [
              "Index(['index', 'ExchangeRate'], dtype='object')"
            ]
          },
          "metadata": {
            "tags": []
          },
          "execution_count": 328
        }
      ]
    },
    {
      "cell_type": "code",
      "metadata": {
        "id": "KzmsAeCnz8Fi"
      },
      "source": [
        "t2 = real.drop(['index'], axis=1, inplace=True)"
      ],
      "execution_count": 329,
      "outputs": []
    },
    {
      "cell_type": "code",
      "metadata": {
        "colab": {
          "base_uri": "https://localhost:8080/",
          "height": 374
        },
        "id": "Uk35znPR7-2T",
        "outputId": "03455920-e31f-43fb-fcb9-3f317fe507f9"
      },
      "source": [
        "plt.plot(inv_yhat)\r\n",
        "plt.plot(real)\r\n",
        "plt.legend(['Test', 'Real'])\r\n",
        "plt.show()  "
      ],
      "execution_count": 330,
      "outputs": [
        {
          "output_type": "display_data",
          "data": {
            "image/png": "[encoded data removed]",
            "text/plain": [
              "<Figure size 576x432 with 1 Axes>"
            ]
          },
          "metadata": {
            "tags": [],
            "needs_background": "light"
          }
        }
      ]
    },
    {
      "cell_type": "code",
      "metadata": {
        "colab": {
          "base_uri": "https://localhost:8080/"
        },
        "id": "szGSNybms7Qz",
        "outputId": "264919b4-164d-401e-c147-0fd6708d844f"
      },
      "source": [
        "inv_yhat.size"
      ],
      "execution_count": 331,
      "outputs": [
        {
          "output_type": "execute_result",
          "data": {
            "text/plain": [
              "365"
            ]
          },
          "metadata": {
            "tags": []
          },
          "execution_count": 331
        }
      ]
    },
    {
      "cell_type": "code",
      "metadata": {
        "colab": {
          "base_uri": "https://localhost:8080/"
        },
        "id": "xtiwM5H4mCJD",
        "outputId": "9ba35371-f179-4d96-bf14-42ca9fd78f11"
      },
      "source": [
        "lt = inv_yhat[-365:]\r\n",
        "len(lt)"
      ],
      "execution_count": 332,
      "outputs": [
        {
          "output_type": "execute_result",
          "data": {
            "text/plain": [
              "365"
            ]
          },
          "metadata": {
            "tags": []
          },
          "execution_count": 332
        }
      ]
    },
    {
      "cell_type": "code",
      "metadata": {
        "colab": {
          "base_uri": "https://localhost:8080/"
        },
        "id": "0tDylXDArhmX",
        "outputId": "937ac5cb-8b0a-4ddd-c4e7-515e34f82414"
      },
      "source": [
        "type(lt)"
      ],
      "execution_count": 333,
      "outputs": [
        {
          "output_type": "execute_result",
          "data": {
            "text/plain": [
              "numpy.ndarray"
            ]
          },
          "metadata": {
            "tags": []
          },
          "execution_count": 333
        }
      ]
    },
    {
      "cell_type": "code",
      "metadata": {
        "id": "zdj4vd38nUxB"
      },
      "source": [
        "flo = lt.astype(float)"
      ],
      "execution_count": 334,
      "outputs": []
    },
    {
      "cell_type": "code",
      "metadata": {
        "colab": {
          "base_uri": "https://localhost:8080/"
        },
        "id": "H_hBLwDVr0Tv",
        "outputId": "91d48d50-c670-4d8d-afd9-43b70432fff1"
      },
      "source": [
        "flo.shape"
      ],
      "execution_count": 335,
      "outputs": [
        {
          "output_type": "execute_result",
          "data": {
            "text/plain": [
              "(365,)"
            ]
          },
          "metadata": {
            "tags": []
          },
          "execution_count": 335
        }
      ]
    },
    {
      "cell_type": "code",
      "metadata": {
        "id": "WIwhdmAF8U9Y"
      },
      "source": [
        "seq_len = 50\r\n",
        "sequence_length = seq_len + 1\r\n",
        "\r\n",
        "result = []\r\n",
        "for index in range(len(flo) - sequence_length):\r\n",
        "    result.append(flo[index: index + sequence_length])"
      ],
      "execution_count": 336,
      "outputs": []
    },
    {
      "cell_type": "code",
      "metadata": {
        "id": "3-wlu6aG-ai1",
        "colab": {
          "base_uri": "https://localhost:8080/"
        },
        "outputId": "bfa13dde-3a23-4d14-e230-3c9449a20892"
      },
      "source": [
        "# z-score 정규화\r\n",
        "normalized_data = []\r\n",
        "window_mean = []\r\n",
        "window_std = []\r\n",
        "\r\n",
        "for window in result:\r\n",
        "    normalized_window = [((p - np.mean(window)) / np.std(window)) for p in window]\r\n",
        "    normalized_data.append(normalized_window)\r\n",
        "    window_mean.append(np.mean(window))\r\n",
        "    window_std.append(np.std(window))\r\n",
        "\r\n",
        "result = np.array(normalized_data)\r\n",
        "\r\n",
        "x_test = result[:, :-1]\r\n",
        "x_test = np.reshape(x_test, (x_test.shape[0], x_test.shape[1], 1))\r\n",
        "y_test = result[:, -1]\r\n",
        "\r\n",
        "x_test.shape"
      ],
      "execution_count": 337,
      "outputs": [
        {
          "output_type": "execute_result",
          "data": {
            "text/plain": [
              "(314, 50, 1)"
            ]
          },
          "metadata": {
            "tags": []
          },
          "execution_count": 337
        }
      ]
    },
    {
      "cell_type": "code",
      "metadata": {
        "colab": {
          "base_uri": "https://localhost:8080/"
        },
        "id": "XfvgewdwsIiA",
        "outputId": "d98c76b4-3788-419e-f5e9-297158dc838a"
      },
      "source": [
        "model2 = Sequential()\r\n",
        "\r\n",
        "model2.add(LSTM(50, return_sequences=True, input_shape=(50, 1)))\r\n",
        "\r\n",
        "model2.add(LSTM(32, return_sequences=False))\r\n",
        "\r\n",
        "model2.add(Dense(1, activation='linear'))\r\n",
        "\r\n",
        "model2.compile(loss='mse', optimizer='adam')\r\n",
        "\r\n",
        "model2.summary()"
      ],
      "execution_count": 338,
      "outputs": [
        {
          "output_type": "stream",
          "text": [
            "Model: \"sequential_14\"\n",
            "_________________________________________________________________\n",
            "Layer (type)                 Output Shape              Param #   \n",
            "=================================================================\n",
            "lstm_20 (LSTM)               (None, 50, 50)            10400     \n",
            "_________________________________________________________________\n",
            "lstm_21 (LSTM)               (None, 32)                10624     \n",
            "_________________________________________________________________\n",
            "dense_14 (Dense)             (None, 1)                 33        \n",
            "=================================================================\n",
            "Total params: 21,057\n",
            "Trainable params: 21,057\n",
            "Non-trainable params: 0\n",
            "_________________________________________________________________\n"
          ],
          "name": "stdout"
        }
      ]
    },
    {
      "cell_type": "code",
      "metadata": {
        "id": "IhnRdBKwlcg6"
      },
      "source": [
        "pred = model2.predict(x_test)"
      ],
      "execution_count": 339,
      "outputs": []
    },
    {
      "cell_type": "code",
      "metadata": {
        "id": "WN8weVMwfLMJ"
      },
      "source": [
        "\r\n",
        "# 복원\r\n",
        "pred_result = []\r\n",
        "pred_y = []\r\n",
        "for i in range(len(pred)):\r\n",
        "    n1 = (pred[i] * window_std[i]) + window_mean[i]\r\n",
        "    n2 = (y_test[i] * window_std[i]) + window_mean[i]\r\n",
        "    pred_result.append(n1)\r\n",
        "    pred_y.append(n2)"
      ],
      "execution_count": 340,
      "outputs": []
    },
    {
      "cell_type": "code",
      "metadata": {
        "colab": {
          "base_uri": "https://localhost:8080/",
          "height": 592
        },
        "id": "XEgFi3PTmPb0",
        "outputId": "dd1b8c26-0f8f-4b47-fb1e-95ff07f32f4e"
      },
      "source": [
        "\r\n",
        "fig = plt.figure(facecolor='white', figsize=(20, 10))\r\n",
        "ax = fig.add_subplot(111)\r\n",
        "ax.plot(pred_result, label='Prediction')\r\n",
        "ax.legend()\r\n",
        "plt.show()\r\n"
      ],
      "execution_count": 341,
      "outputs": [
        {
          "output_type": "display_data",
          "data": {
            "image/png": "[encoded data removed]",
            "text/plain": [
              "<Figure size 1440x720 with 1 Axes>"
            ]
          },
          "metadata": {
            "tags": []
          }
        }
      ]
    },
    {
      "cell_type": "code",
      "metadata": {
        "colab": {
          "base_uri": "https://localhost:8080/"
        },
        "id": "r0As3cXusU0D",
        "outputId": "baa41b62-786c-46c9-d973-c28e3bdc5950"
      },
      "source": [
        "print('환율', '%0.4f'%float(pred_result[-1]))"
      ],
      "execution_count": 342,
      "outputs": [
        {
          "output_type": "stream",
          "text": [
            "환율 1111.0099\n"
          ],
          "name": "stdout"
        }
      ]
    },
    {
      "cell_type": "code",
      "metadata": {
        "id": "YLlnroEnsb1I",
        "outputId": "bbe6dbb4-a25a-4439-9404-3854a2085e72",
        "colab": {
          "base_uri": "https://localhost:8080/"
        }
      },
      "source": [
        "print(pred_result)"
      ],
      "execution_count": 347,
      "outputs": [
        {
          "output_type": "stream",
          "text": [
            "[array([1194.3994], dtype=float32), array([1193.5405], dtype=float32), array([1192.6025], dtype=float32), array([1191.6921], dtype=float32), array([1190.9266], dtype=float32), array([1190.4879], dtype=float32), array([1190.127], dtype=float32), array([1189.8118], dtype=float32), array([1189.4636], dtype=float32), array([1189.1616], dtype=float32), array([1189.0743], dtype=float32), array([1188.9032], dtype=float32), array([1188.6874], dtype=float32), array([1188.4851], dtype=float32), array([1188.4926], dtype=float32), array([1188.3906], dtype=float32), array([1188.2372], dtype=float32), array([1187.9817], dtype=float32), array([1187.7572], dtype=float32), array([1187.515], dtype=float32), array([1187.2189], dtype=float32), array([1186.6163], dtype=float32), array([1185.9691], dtype=float32), array([1185.3431], dtype=float32), array([1184.7175], dtype=float32), array([1184.1407], dtype=float32), array([1183.5215], dtype=float32), array([1183.0225], dtype=float32), array([1182.674], dtype=float32), array([1182.2416], dtype=float32), array([1181.7522], dtype=float32), array([1181.2031], dtype=float32), array([1180.7948], dtype=float32), array([1180.4675], dtype=float32), array([1180.3212], dtype=float32), array([1180.2559], dtype=float32), array([1180.1531], dtype=float32), array([1180.1505], dtype=float32), array([1179.9545], dtype=float32), array([1179.8413], dtype=float32), array([1179.5958], dtype=float32), array([1179.4353], dtype=float32), array([1179.2706], dtype=float32), array([1179.2487], dtype=float32), array([1179.2075], dtype=float32), array([1179.2124], dtype=float32), array([1179.2634], dtype=float32), array([1179.4108], dtype=float32), array([1179.5183], dtype=float32), array([1179.7582], dtype=float32), array([1179.9038], dtype=float32), array([1180.1327], dtype=float32), array([1180.5282], dtype=float32), array([1181.1011], dtype=float32), array([1181.452], dtype=float32), array([1181.7396], dtype=float32), array([1181.7653], dtype=float32), array([1181.8914], dtype=float32), array([1182.0941], dtype=float32), array([1182.2252], dtype=float32), array([1182.2502], dtype=float32), array([1182.2603], dtype=float32), array([1182.3005], dtype=float32), array([1182.335], dtype=float32), array([1182.3828], dtype=float32), array([1182.3496], dtype=float32), array([1182.4906], dtype=float32), array([1182.8201], dtype=float32), array([1183.3827], dtype=float32), array([1183.8042], dtype=float32), array([1184.2537], dtype=float32), array([1184.7689], dtype=float32), array([1185.5695], dtype=float32), array([1186.0564], dtype=float32), array([1186.492], dtype=float32), array([1186.8618], dtype=float32), array([1187.216], dtype=float32), array([1187.7246], dtype=float32), array([1188.4883], dtype=float32), array([1189.1437], dtype=float32), array([1189.8154], dtype=float32), array([1190.7015], dtype=float32), array([1191.9781], dtype=float32), array([1193.2297], dtype=float32), array([1194.9181], dtype=float32), array([1196.4612], dtype=float32), array([1198.604], dtype=float32), array([1200.3337], dtype=float32), array([1202.2091], dtype=float32), array([1203.9867], dtype=float32), array([1205.2218], dtype=float32), array([1206.4894], dtype=float32), array([1207.569], dtype=float32), array([1208.7539], dtype=float32), array([1209.9103], dtype=float32), array([1211.1615], dtype=float32), array([1212.7227], dtype=float32), array([1214.0416], dtype=float32), array([1215.3967], dtype=float32), array([1216.4985], dtype=float32), array([1217.3584], dtype=float32), array([1218.179], dtype=float32), array([1218.7932], dtype=float32), array([1219.4304], dtype=float32), array([1219.9062], dtype=float32), array([1220.6992], dtype=float32), array([1221.3561], dtype=float32), array([1222.136], dtype=float32), array([1223.0349], dtype=float32), array([1223.951], dtype=float32), array([1224.8951], dtype=float32), array([1225.9741], dtype=float32), array([1226.9015], dtype=float32), array([1227.6884], dtype=float32), array([1228.3666], dtype=float32), array([1229.1296], dtype=float32), array([1229.7429], dtype=float32), array([1230.3029], dtype=float32), array([1230.5321], dtype=float32), array([1230.5376], dtype=float32), array([1230.8207], dtype=float32), array([1231.0231], dtype=float32), array([1231.2727], dtype=float32), array([1231.5558], dtype=float32), array([1232.1682], dtype=float32), array([1232.8115], dtype=float32), array([1233.6393], dtype=float32), array([1234.5779], dtype=float32), array([1235.5148], dtype=float32), array([1236.296], dtype=float32), array([1237.0625], dtype=float32), array([1237.791], dtype=float32), array([1238.4198], dtype=float32), array([1238.6708], dtype=float32), array([1238.7365], dtype=float32), array([1238.2871], dtype=float32), array([1237.733], dtype=float32), array([1236.4213], dtype=float32), array([1235.5396], dtype=float32), array([1234.1157], dtype=float32), array([1232.9532], dtype=float32), array([1232.2932], dtype=float32), array([1231.7085], dtype=float32), array([1231.6105], dtype=float32), array([1231.3959], dtype=float32), array([1231.13], dtype=float32), array([1230.9547], dtype=float32), array([1230.4569], dtype=float32), array([1230.0642], dtype=float32), array([1229.6338], dtype=float32), array([1229.3568], dtype=float32), array([1229.0253], dtype=float32), array([1228.794], dtype=float32), array([1228.5265], dtype=float32), array([1228.1869], dtype=float32), array([1227.8074], dtype=float32), array([1227.2925], dtype=float32), array([1226.904], dtype=float32), array([1226.4951], dtype=float32), array([1225.7916], dtype=float32), array([1224.9346], dtype=float32), array([1224.2006], dtype=float32), array([1223.378], dtype=float32), array([1222.7969], dtype=float32), array([1222.2708], dtype=float32), array([1221.9717], dtype=float32), array([1221.3853], dtype=float32), array([1220.9387], dtype=float32), array([1220.4608], dtype=float32), array([1220.074], dtype=float32), array([1219.5927], dtype=float32), array([1218.8563], dtype=float32), array([1218.204], dtype=float32), array([1217.5481], dtype=float32), array([1216.8002], dtype=float32), array([1215.9862], dtype=float32), array([1215.3032], dtype=float32), array([1214.4956], dtype=float32), array([1213.5883], dtype=float32), array([1212.6577], dtype=float32), array([1211.6229], dtype=float32), array([1210.6162], dtype=float32), array([1209.6084], dtype=float32), array([1208.5337], dtype=float32), array([1207.5206], dtype=float32), array([1206.6558], dtype=float32), array([1205.886], dtype=float32), array([1205.217], dtype=float32), array([1204.5453], dtype=float32), array([1203.9658], dtype=float32), array([1203.5059], dtype=float32), array([1203.2491], dtype=float32), array([1203.011], dtype=float32), array([1202.8562], dtype=float32), array([1202.4054], dtype=float32), array([1201.8811], dtype=float32), array([1201.3876], dtype=float32), array([1200.7247], dtype=float32), array([1200.0593], dtype=float32), array([1199.4667], dtype=float32), array([1198.8853], dtype=float32), array([1198.3673], dtype=float32), array([1198.0176], dtype=float32), array([1197.5912], dtype=float32), array([1197.2869], dtype=float32), array([1196.9818], dtype=float32), array([1196.6414], dtype=float32), array([1196.2894], dtype=float32), array([1195.878], dtype=float32), array([1195.4316], dtype=float32), array([1194.9965], dtype=float32), array([1194.6061], dtype=float32), array([1193.9736], dtype=float32), array([1193.3352], dtype=float32), array([1192.6332], dtype=float32), array([1191.9807], dtype=float32), array([1191.3275], dtype=float32), array([1190.7587], dtype=float32), array([1190.1743], dtype=float32), array([1189.4855], dtype=float32), array([1188.7577], dtype=float32), array([1188.0782], dtype=float32), array([1187.528], dtype=float32), array([1186.7795], dtype=float32), array([1185.8828], dtype=float32), array([1185.0905], dtype=float32), array([1184.2823], dtype=float32), array([1183.4619], dtype=float32), array([1182.7094], dtype=float32), array([1181.9266], dtype=float32), array([1181.0127], dtype=float32), array([1180.0273], dtype=float32), array([1179.1028], dtype=float32), array([1178.2802], dtype=float32), array([1177.332], dtype=float32), array([1176.3575], dtype=float32), array([1175.4603], dtype=float32), array([1174.6129], dtype=float32), array([1173.7662], dtype=float32), array([1172.9576], dtype=float32), array([1172.1354], dtype=float32), array([1171.3712], dtype=float32), array([1170.4211], dtype=float32), array([1169.3916], dtype=float32), array([1168.1451], dtype=float32), array([1166.9758], dtype=float32), array([1165.7334], dtype=float32), array([1164.536], dtype=float32), array([1163.3776], dtype=float32), array([1162.1213], dtype=float32), array([1160.8071], dtype=float32), array([1159.451], dtype=float32), array([1158.1747], dtype=float32), array([1156.8748], dtype=float32), array([1155.5712], dtype=float32), array([1154.2332], dtype=float32), array([1152.7911], dtype=float32), array([1151.4016], dtype=float32), array([1149.9402], dtype=float32), array([1148.5521], dtype=float32), array([1147.2538], dtype=float32), array([1145.9331], dtype=float32), array([1144.5675], dtype=float32), array([1143.2106], dtype=float32), array([1141.8514], dtype=float32), array([1140.4459], dtype=float32), array([1139.0125], dtype=float32), array([1137.5055], dtype=float32), array([1136.0453], dtype=float32), array([1134.5613], dtype=float32), array([1133.1907], dtype=float32), array([1131.8953], dtype=float32), array([1130.6765], dtype=float32), array([1129.4918], dtype=float32), array([1128.4972], dtype=float32), array([1127.7018], dtype=float32), array([1126.9111], dtype=float32), array([1126.0802], dtype=float32), array([1125.1724], dtype=float32), array([1124.1589], dtype=float32), array([1123.1305], dtype=float32), array([1122.167], dtype=float32), array([1121.2141], dtype=float32), array([1120.3179], dtype=float32), array([1119.4138], dtype=float32), array([1118.6107], dtype=float32), array([1117.9296], dtype=float32), array([1117.2556], dtype=float32), array([1116.5398], dtype=float32), array([1115.7869], dtype=float32), array([1115.082], dtype=float32), array([1114.3425], dtype=float32), array([1113.6919], dtype=float32), array([1113.0997], dtype=float32), array([1112.5599], dtype=float32), array([1112.1575], dtype=float32), array([1111.7943], dtype=float32), array([1111.5028], dtype=float32), array([1111.2155], dtype=float32), array([1110.9158], dtype=float32), array([1110.9253], dtype=float32), array([1110.9941], dtype=float32), array([1111.0902], dtype=float32), array([1111.0474], dtype=float32), array([1110.9386], dtype=float32), array([1110.9006], dtype=float32), array([1111.0153], dtype=float32), array([1111.1105], dtype=float32), array([1111.1796], dtype=float32), array([1111.1753], dtype=float32), array([1111.0592], dtype=float32), array([1110.8826], dtype=float32), array([1110.9199], dtype=float32), array([1111.0099], dtype=float32)]\n"
          ],
          "name": "stdout"
        }
      ]
    },
    {
      "cell_type": "code",
      "metadata": {
        "id": "wVO3yYbmbG2Q"
      },
      "source": [
        ""
      ],
      "execution_count": null,
      "outputs": []
    }
  ]
}