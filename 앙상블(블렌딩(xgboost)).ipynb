{
  "nbformat": 4,
  "nbformat_minor": 0,
  "metadata": {
    "colab": {
      "name": "앙상블(블렌딩(xgboost)).ipynb",
      "provenance": [],
      "collapsed_sections": [],
      "include_colab_link": true
    },
    "kernelspec": {
      "name": "python3",
      "display_name": "Python 3"
    },
    "accelerator": "GPU"
  },
  "cells": [
    {
      "cell_type": "markdown",
      "metadata": {
        "id": "view-in-github",
        "colab_type": "text"
      },
      "source": [
        "<a href=\"https://colab.research.google.com/github/ggwnsghgg/Exchange_rate_prediction_Project/blob/main/%EC%95%99%EC%83%81%EB%B8%94(%EB%B8%94%EB%A0%8C%EB%94%A9(xgboost)).ipynb\" target=\"_parent\"><img src=\"https://colab.research.google.com/assets/colab-badge.svg\" alt=\"Open In Colab\"/></a>"
      ]
    },
    {
      "cell_type": "code",
      "metadata": {
        "id": "r1UP5CK4UO8c"
      },
      "source": [
        "import tensorflow as tf\r\n",
        "from tensorflow.keras.callbacks import CSVLogger, EarlyStopping\r\n",
        "\r\n",
        "from fbprophet import Prophet\r\n",
        "import math\r\n",
        "from sklearn.metrics import mean_absolute_error, mean_squared_error\r\n",
        "from sklearn.metrics import accuracy_score\r\n",
        "from fbprophet.diagnostics import performance_metrics\r\n",
        "from fbprophet.diagnostics import cross_validation\r\n",
        "\r\n",
        "import matplotlib.pyplot as plt\r\n",
        "import matplotlib as mpl\r\n",
        "import seaborn as sns\r\n",
        "import numpy as np\r\n",
        "import os \r\n",
        "import pandas as pd\r\n",
        "from google.colab import files\r\n",
        "import warnings\r\n",
        "from pandas import DataFrame\r\n",
        "from keras.models import Sequential\r\n",
        "from keras.layers import LSTM\r\n",
        "from keras.layers import Dense\r\n",
        "from keras.layers import concatenate\r\n",
        "from math import sqrt\r\n",
        "from sklearn import preprocessing\r\n",
        "import matplotlib.pyplot as plt\r\n",
        "from keras.utils import np_utils"
      ],
      "execution_count": 1,
      "outputs": []
    },
    {
      "cell_type": "code",
      "metadata": {
        "colab": {
          "resources": {
            "http://localhost:8080/nbextensions/google.colab/files.js": {
              "data": "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",
              "ok": true,
              "headers": [
                [
                  "content-type",
                  "application/javascript"
                ]
              ],
              "status": 200,
              "status_text": ""
            }
          },
          "base_uri": "https://localhost:8080/",
          "height": 76
        },
        "id": "DEr_WNTO_l_A",
        "outputId": "708f943d-2c00-4872-d730-f816f65abbfe"
      },
      "source": [
        "uploaded = files.upload()"
      ],
      "execution_count": 2,
      "outputs": [
        {
          "output_type": "display_data",
          "data": {
            "text/html": [
              "\n",
              "     <input type=\"file\" id=\"files-5bb553ed-4ce5-4a44-9f35-5a6cef896c6c\" name=\"files[]\" multiple disabled\n",
              "        style=\"border:none\" />\n",
              "     <output id=\"result-5bb553ed-4ce5-4a44-9f35-5a6cef896c6c\">\n",
              "      Upload widget is only available when the cell has been executed in the\n",
              "      current browser session. Please rerun this cell to enable.\n",
              "      </output>\n",
              "      <script src=\"/nbextensions/google.colab/files.js\"></script> "
            ],
            "text/plain": [
              "<IPython.core.display.HTML object>"
            ]
          },
          "metadata": {
            "tags": []
          }
        },
        {
          "output_type": "stream",
          "text": [
            "Saving test.csv to test.csv\n"
          ],
          "name": "stdout"
        }
      ]
    },
    {
      "cell_type": "markdown",
      "metadata": {
        "id": "lWArGQ1SVFsJ"
      },
      "source": [
        "## 데이터셋"
      ]
    },
    {
      "cell_type": "code",
      "metadata": {
        "colab": {
          "base_uri": "https://localhost:8080/",
          "height": 222
        },
        "id": "IAO7etjAVEAG",
        "outputId": "646604f0-1f2b-45dc-f497-7dcfa76473bf"
      },
      "source": [
        "#데이터 읽자\r\n",
        "#천단위 콤마 제거 해주자 나중에 또 하기 귀찮으니까!(결정적으로 float형 유지를 위해)\r\n",
        "df = pd.read_csv('test.csv', thousands = ',')\r\n",
        "print(df.shape)\r\n",
        "df.tail()"
      ],
      "execution_count": 3,
      "outputs": [
        {
          "output_type": "stream",
          "text": [
            "(1762, 8)\n"
          ],
          "name": "stdout"
        },
        {
          "output_type": "execute_result",
          "data": {
            "text/html": [
              "<div>\n",
              "<style scoped>\n",
              "    .dataframe tbody tr th:only-of-type {\n",
              "        vertical-align: middle;\n",
              "    }\n",
              "\n",
              "    .dataframe tbody tr th {\n",
              "        vertical-align: top;\n",
              "    }\n",
              "\n",
              "    .dataframe thead th {\n",
              "        text-align: right;\n",
              "    }\n",
              "</style>\n",
              "<table border=\"1\" class=\"dataframe\">\n",
              "  <thead>\n",
              "    <tr style=\"text-align: right;\">\n",
              "      <th></th>\n",
              "      <th>Date</th>\n",
              "      <th>ExchangeRate</th>\n",
              "      <th>KRX100</th>\n",
              "      <th>KORIBOR</th>\n",
              "      <th>LIBOR</th>\n",
              "      <th>달러지수 (종가)</th>\n",
              "      <th>콜금리</th>\n",
              "      <th>KOSPI</th>\n",
              "    </tr>\n",
              "  </thead>\n",
              "  <tbody>\n",
              "    <tr>\n",
              "      <th>1757</th>\n",
              "      <td>2021.02.17</td>\n",
              "      <td>1,099.70</td>\n",
              "      <td>6764.11</td>\n",
              "      <td>0.87</td>\n",
              "      <td>NaN</td>\n",
              "      <td>90.95</td>\n",
              "      <td>0.47</td>\n",
              "      <td>3,133.73</td>\n",
              "    </tr>\n",
              "    <tr>\n",
              "      <th>1758</th>\n",
              "      <td>2021.02.18</td>\n",
              "      <td>1,107.70</td>\n",
              "      <td>6652.76</td>\n",
              "      <td>0.87</td>\n",
              "      <td>NaN</td>\n",
              "      <td>90.59</td>\n",
              "      <td>0.49</td>\n",
              "      <td>3,086.66</td>\n",
              "    </tr>\n",
              "    <tr>\n",
              "      <th>1759</th>\n",
              "      <td>2021.02.19</td>\n",
              "      <td>1,106.50</td>\n",
              "      <td>6712.32</td>\n",
              "      <td>0.86</td>\n",
              "      <td>NaN</td>\n",
              "      <td>90.36</td>\n",
              "      <td>0.51</td>\n",
              "      <td>3,107.62</td>\n",
              "    </tr>\n",
              "    <tr>\n",
              "      <th>1760</th>\n",
              "      <td>2021.02.22</td>\n",
              "      <td>1,112.00</td>\n",
              "      <td>6635.92</td>\n",
              "      <td>0.86</td>\n",
              "      <td>NaN</td>\n",
              "      <td>90.01</td>\n",
              "      <td>0.50</td>\n",
              "      <td>3,079.75</td>\n",
              "    </tr>\n",
              "    <tr>\n",
              "      <th>1761</th>\n",
              "      <td>2021.02.23</td>\n",
              "      <td>1,112.00</td>\n",
              "      <td>6607.24</td>\n",
              "      <td>0.86</td>\n",
              "      <td>NaN</td>\n",
              "      <td>90.17</td>\n",
              "      <td>0.49</td>\n",
              "      <td>3,070.09</td>\n",
              "    </tr>\n",
              "  </tbody>\n",
              "</table>\n",
              "</div>"
            ],
            "text/plain": [
              "            Date ExchangeRate   KRX100  ...  달러지수 (종가)   콜금리     KOSPI\n",
              "1757  2021.02.17     1,099.70  6764.11  ...      90.95  0.47  3,133.73\n",
              "1758  2021.02.18     1,107.70  6652.76  ...      90.59  0.49  3,086.66\n",
              "1759  2021.02.19     1,106.50  6712.32  ...      90.36  0.51  3,107.62\n",
              "1760  2021.02.22     1,112.00  6635.92  ...      90.01  0.50  3,079.75\n",
              "1761  2021.02.23     1,112.00  6607.24  ...      90.17  0.49  3,070.09\n",
              "\n",
              "[5 rows x 8 columns]"
            ]
          },
          "metadata": {
            "tags": []
          },
          "execution_count": 3
        }
      ]
    },
    {
      "cell_type": "code",
      "metadata": {
        "id": "VjN_JUN7VAbV"
      },
      "source": [
        "#열이름 한국어인거 영어로 변경하자\r\n",
        "name = [\"Date\", \"ExchangeRate\",\"KRX100\", \"KORIBOR\", \"LIBOR\", \"DollarRate\",\r\n",
        "       \"CallRate\",\"KOSPI\"]\r\n",
        "df1= df.rename(columns = dict(zip(df.columns,name)))"
      ],
      "execution_count": 4,
      "outputs": []
    },
    {
      "cell_type": "code",
      "metadata": {
        "colab": {
          "base_uri": "https://localhost:8080/",
          "height": 419
        },
        "id": "8jcZwlvZEzVZ",
        "outputId": "ae681c1b-0683-4904-dff6-cb2f0eefbbd1"
      },
      "source": [
        "df1"
      ],
      "execution_count": 5,
      "outputs": [
        {
          "output_type": "execute_result",
          "data": {
            "text/html": [
              "<div>\n",
              "<style scoped>\n",
              "    .dataframe tbody tr th:only-of-type {\n",
              "        vertical-align: middle;\n",
              "    }\n",
              "\n",
              "    .dataframe tbody tr th {\n",
              "        vertical-align: top;\n",
              "    }\n",
              "\n",
              "    .dataframe thead th {\n",
              "        text-align: right;\n",
              "    }\n",
              "</style>\n",
              "<table border=\"1\" class=\"dataframe\">\n",
              "  <thead>\n",
              "    <tr style=\"text-align: right;\">\n",
              "      <th></th>\n",
              "      <th>Date</th>\n",
              "      <th>ExchangeRate</th>\n",
              "      <th>KRX100</th>\n",
              "      <th>KORIBOR</th>\n",
              "      <th>LIBOR</th>\n",
              "      <th>DollarRate</th>\n",
              "      <th>CallRate</th>\n",
              "      <th>KOSPI</th>\n",
              "    </tr>\n",
              "  </thead>\n",
              "  <tbody>\n",
              "    <tr>\n",
              "      <th>0</th>\n",
              "      <td>2014.01.02</td>\n",
              "      <td>1,055.30</td>\n",
              "      <td>4263.64</td>\n",
              "      <td>2.78</td>\n",
              "      <td>0.0956</td>\n",
              "      <td>80.79</td>\n",
              "      <td>2.51</td>\n",
              "      <td>1,967.19</td>\n",
              "    </tr>\n",
              "    <tr>\n",
              "      <th>1</th>\n",
              "      <td>2014.01.03</td>\n",
              "      <td>1,050.40</td>\n",
              "      <td>4209.03</td>\n",
              "      <td>2.78</td>\n",
              "      <td>0.0950</td>\n",
              "      <td>80.96</td>\n",
              "      <td>2.50</td>\n",
              "      <td>1,946.14</td>\n",
              "    </tr>\n",
              "    <tr>\n",
              "      <th>2</th>\n",
              "      <td>2014.01.06</td>\n",
              "      <td>1,054.10</td>\n",
              "      <td>4221.13</td>\n",
              "      <td>2.77</td>\n",
              "      <td>0.0945</td>\n",
              "      <td>80.81</td>\n",
              "      <td>2.48</td>\n",
              "      <td>1,953.28</td>\n",
              "    </tr>\n",
              "    <tr>\n",
              "      <th>3</th>\n",
              "      <td>2014.01.07</td>\n",
              "      <td>1,062.20</td>\n",
              "      <td>4233.05</td>\n",
              "      <td>2.75</td>\n",
              "      <td>0.0926</td>\n",
              "      <td>80.98</td>\n",
              "      <td>2.50</td>\n",
              "      <td>1,959.44</td>\n",
              "    </tr>\n",
              "    <tr>\n",
              "      <th>4</th>\n",
              "      <td>2014.01.08</td>\n",
              "      <td>1,067.90</td>\n",
              "      <td>4232.26</td>\n",
              "      <td>2.75</td>\n",
              "      <td>0.0925</td>\n",
              "      <td>81.16</td>\n",
              "      <td>2.49</td>\n",
              "      <td>1,958.96</td>\n",
              "    </tr>\n",
              "    <tr>\n",
              "      <th>...</th>\n",
              "      <td>...</td>\n",
              "      <td>...</td>\n",
              "      <td>...</td>\n",
              "      <td>...</td>\n",
              "      <td>...</td>\n",
              "      <td>...</td>\n",
              "      <td>...</td>\n",
              "      <td>...</td>\n",
              "    </tr>\n",
              "    <tr>\n",
              "      <th>1757</th>\n",
              "      <td>2021.02.17</td>\n",
              "      <td>1,099.70</td>\n",
              "      <td>6764.11</td>\n",
              "      <td>0.87</td>\n",
              "      <td>NaN</td>\n",
              "      <td>90.95</td>\n",
              "      <td>0.47</td>\n",
              "      <td>3,133.73</td>\n",
              "    </tr>\n",
              "    <tr>\n",
              "      <th>1758</th>\n",
              "      <td>2021.02.18</td>\n",
              "      <td>1,107.70</td>\n",
              "      <td>6652.76</td>\n",
              "      <td>0.87</td>\n",
              "      <td>NaN</td>\n",
              "      <td>90.59</td>\n",
              "      <td>0.49</td>\n",
              "      <td>3,086.66</td>\n",
              "    </tr>\n",
              "    <tr>\n",
              "      <th>1759</th>\n",
              "      <td>2021.02.19</td>\n",
              "      <td>1,106.50</td>\n",
              "      <td>6712.32</td>\n",
              "      <td>0.86</td>\n",
              "      <td>NaN</td>\n",
              "      <td>90.36</td>\n",
              "      <td>0.51</td>\n",
              "      <td>3,107.62</td>\n",
              "    </tr>\n",
              "    <tr>\n",
              "      <th>1760</th>\n",
              "      <td>2021.02.22</td>\n",
              "      <td>1,112.00</td>\n",
              "      <td>6635.92</td>\n",
              "      <td>0.86</td>\n",
              "      <td>NaN</td>\n",
              "      <td>90.01</td>\n",
              "      <td>0.50</td>\n",
              "      <td>3,079.75</td>\n",
              "    </tr>\n",
              "    <tr>\n",
              "      <th>1761</th>\n",
              "      <td>2021.02.23</td>\n",
              "      <td>1,112.00</td>\n",
              "      <td>6607.24</td>\n",
              "      <td>0.86</td>\n",
              "      <td>NaN</td>\n",
              "      <td>90.17</td>\n",
              "      <td>0.49</td>\n",
              "      <td>3,070.09</td>\n",
              "    </tr>\n",
              "  </tbody>\n",
              "</table>\n",
              "<p>1762 rows × 8 columns</p>\n",
              "</div>"
            ],
            "text/plain": [
              "            Date ExchangeRate   KRX100  ...  DollarRate  CallRate     KOSPI\n",
              "0     2014.01.02     1,055.30  4263.64  ...       80.79      2.51  1,967.19\n",
              "1     2014.01.03     1,050.40  4209.03  ...       80.96      2.50  1,946.14\n",
              "2     2014.01.06     1,054.10  4221.13  ...       80.81      2.48  1,953.28\n",
              "3     2014.01.07     1,062.20  4233.05  ...       80.98      2.50  1,959.44\n",
              "4     2014.01.08     1,067.90  4232.26  ...       81.16      2.49  1,958.96\n",
              "...          ...          ...      ...  ...         ...       ...       ...\n",
              "1757  2021.02.17     1,099.70  6764.11  ...       90.95      0.47  3,133.73\n",
              "1758  2021.02.18     1,107.70  6652.76  ...       90.59      0.49  3,086.66\n",
              "1759  2021.02.19     1,106.50  6712.32  ...       90.36      0.51  3,107.62\n",
              "1760  2021.02.22     1,112.00  6635.92  ...       90.01      0.50  3,079.75\n",
              "1761  2021.02.23     1,112.00  6607.24  ...       90.17      0.49  3,070.09\n",
              "\n",
              "[1762 rows x 8 columns]"
            ]
          },
          "metadata": {
            "tags": []
          },
          "execution_count": 5
        }
      ]
    },
    {
      "cell_type": "code",
      "metadata": {
        "colab": {
          "base_uri": "https://localhost:8080/",
          "height": 204
        },
        "id": "550BcO8zVNaP",
        "outputId": "124ad260-8896-430a-d411-e310e7a06859"
      },
      "source": [
        "#천단위 쉼표 제거\r\n",
        "df1['ExchangeRate'] = df1['ExchangeRate'].str.replace(',','')\r\n",
        "df1['KOSPI'] = df1['KOSPI'].str.replace(',','')\r\n",
        "df1.tail()"
      ],
      "execution_count": 6,
      "outputs": [
        {
          "output_type": "execute_result",
          "data": {
            "text/html": [
              "<div>\n",
              "<style scoped>\n",
              "    .dataframe tbody tr th:only-of-type {\n",
              "        vertical-align: middle;\n",
              "    }\n",
              "\n",
              "    .dataframe tbody tr th {\n",
              "        vertical-align: top;\n",
              "    }\n",
              "\n",
              "    .dataframe thead th {\n",
              "        text-align: right;\n",
              "    }\n",
              "</style>\n",
              "<table border=\"1\" class=\"dataframe\">\n",
              "  <thead>\n",
              "    <tr style=\"text-align: right;\">\n",
              "      <th></th>\n",
              "      <th>Date</th>\n",
              "      <th>ExchangeRate</th>\n",
              "      <th>KRX100</th>\n",
              "      <th>KORIBOR</th>\n",
              "      <th>LIBOR</th>\n",
              "      <th>DollarRate</th>\n",
              "      <th>CallRate</th>\n",
              "      <th>KOSPI</th>\n",
              "    </tr>\n",
              "  </thead>\n",
              "  <tbody>\n",
              "    <tr>\n",
              "      <th>1757</th>\n",
              "      <td>2021.02.17</td>\n",
              "      <td>1099.70</td>\n",
              "      <td>6764.11</td>\n",
              "      <td>0.87</td>\n",
              "      <td>NaN</td>\n",
              "      <td>90.95</td>\n",
              "      <td>0.47</td>\n",
              "      <td>3133.73</td>\n",
              "    </tr>\n",
              "    <tr>\n",
              "      <th>1758</th>\n",
              "      <td>2021.02.18</td>\n",
              "      <td>1107.70</td>\n",
              "      <td>6652.76</td>\n",
              "      <td>0.87</td>\n",
              "      <td>NaN</td>\n",
              "      <td>90.59</td>\n",
              "      <td>0.49</td>\n",
              "      <td>3086.66</td>\n",
              "    </tr>\n",
              "    <tr>\n",
              "      <th>1759</th>\n",
              "      <td>2021.02.19</td>\n",
              "      <td>1106.50</td>\n",
              "      <td>6712.32</td>\n",
              "      <td>0.86</td>\n",
              "      <td>NaN</td>\n",
              "      <td>90.36</td>\n",
              "      <td>0.51</td>\n",
              "      <td>3107.62</td>\n",
              "    </tr>\n",
              "    <tr>\n",
              "      <th>1760</th>\n",
              "      <td>2021.02.22</td>\n",
              "      <td>1112.00</td>\n",
              "      <td>6635.92</td>\n",
              "      <td>0.86</td>\n",
              "      <td>NaN</td>\n",
              "      <td>90.01</td>\n",
              "      <td>0.50</td>\n",
              "      <td>3079.75</td>\n",
              "    </tr>\n",
              "    <tr>\n",
              "      <th>1761</th>\n",
              "      <td>2021.02.23</td>\n",
              "      <td>1112.00</td>\n",
              "      <td>6607.24</td>\n",
              "      <td>0.86</td>\n",
              "      <td>NaN</td>\n",
              "      <td>90.17</td>\n",
              "      <td>0.49</td>\n",
              "      <td>3070.09</td>\n",
              "    </tr>\n",
              "  </tbody>\n",
              "</table>\n",
              "</div>"
            ],
            "text/plain": [
              "            Date ExchangeRate   KRX100  ...  DollarRate  CallRate    KOSPI\n",
              "1757  2021.02.17      1099.70  6764.11  ...       90.95      0.47  3133.73\n",
              "1758  2021.02.18      1107.70  6652.76  ...       90.59      0.49  3086.66\n",
              "1759  2021.02.19      1106.50  6712.32  ...       90.36      0.51  3107.62\n",
              "1760  2021.02.22      1112.00  6635.92  ...       90.01      0.50  3079.75\n",
              "1761  2021.02.23      1112.00  6607.24  ...       90.17      0.49  3070.09\n",
              "\n",
              "[5 rows x 8 columns]"
            ]
          },
          "metadata": {
            "tags": []
          },
          "execution_count": 6
        }
      ]
    },
    {
      "cell_type": "code",
      "metadata": {
        "id": "r3bTJk96VOyi"
      },
      "source": [
        "#오브젝트형 데이터 실수로 형변환\r\n",
        "df1[\"KOSPI\"] = pd.to_numeric(df1.KOSPI, errors='coerce')\r\n",
        "df1[\"ExchangeRate\"] = pd.to_numeric(df1.ExchangeRate, errors='coerce')"
      ],
      "execution_count": 7,
      "outputs": []
    },
    {
      "cell_type": "markdown",
      "metadata": {
        "id": "6ASs8Z-zVUM2"
      },
      "source": [
        "### 전처리\r\n",
        "- 결측값 보간\r\n",
        "- 날짜 데이터 형식으로 변경\r\n",
        "- 시각화\r\n",
        "- 데이터 셋 분리"
      ]
    },
    {
      "cell_type": "code",
      "metadata": {
        "id": "OJGya5QbVR1N",
        "colab": {
          "base_uri": "https://localhost:8080/"
        },
        "outputId": "df5f4361-7b69-4931-f0e6-107bb2108876"
      },
      "source": [
        "#결측값 확인\r\n",
        "df1.isna().sum()"
      ],
      "execution_count": 8,
      "outputs": [
        {
          "output_type": "execute_result",
          "data": {
            "text/plain": [
              "Date             0\n",
              "ExchangeRate     1\n",
              "KRX100           6\n",
              "KORIBOR          0\n",
              "LIBOR           92\n",
              "DollarRate       7\n",
              "CallRate         0\n",
              "KOSPI            7\n",
              "dtype: int64"
            ]
          },
          "metadata": {
            "tags": []
          },
          "execution_count": 8
        }
      ]
    },
    {
      "cell_type": "code",
      "metadata": {
        "id": "-CBBfmvMVV78"
      },
      "source": [
        "#결측치를 값에 선형 비례하는식으로 결측값을 보간해봤다\r\n",
        "df_intp = df1.interpolate(method = 'values')"
      ],
      "execution_count": 9,
      "outputs": []
    },
    {
      "cell_type": "code",
      "metadata": {
        "id": "WexL043uVmOc"
      },
      "source": [
        "#날짜 데이터타임형식으로 미리 변경해놓자\r\n",
        "df_intp['Date'] = pd.to_datetime(df_intp['Date'], errors='coerce')"
      ],
      "execution_count": 10,
      "outputs": []
    },
    {
      "cell_type": "code",
      "metadata": {
        "id": "V_IaCGqDVoHE",
        "colab": {
          "base_uri": "https://localhost:8080/",
          "height": 581
        },
        "outputId": "425622c3-77ae-4e6d-a154-ade59150d21c"
      },
      "source": [
        "#시각화 해보자\r\n",
        "df_intp.plot(x=\"Date\",figsize = (20,10))\r\n",
        "#표준화 필수의 느낌이 난다.."
      ],
      "execution_count": 11,
      "outputs": [
        {
          "output_type": "execute_result",
          "data": {
            "text/plain": [
              "<matplotlib.axes._subplots.AxesSubplot at 0x7f98fc0a3890>"
            ]
          },
          "metadata": {
            "tags": []
          },
          "execution_count": 11
        },
        {
          "output_type": "display_data",
          "data": {
            "image/png": "[encoded data removed]",
            "text/plain": [
              "<Figure size 1440x720 with 1 Axes>"
            ]
          },
          "metadata": {
            "tags": [],
            "needs_background": "light"
          }
        }
      ]
    },
    {
      "cell_type": "code",
      "metadata": {
        "id": "oF0sfYSUWJbO",
        "colab": {
          "base_uri": "https://localhost:8080/",
          "height": 235
        },
        "outputId": "7ff474d9-e41a-402e-d30a-66838797ef6b"
      },
      "source": [
        "#날짜가 인덱스인 경우도 생성 해놓자\r\n",
        "#lstm 용\r\n",
        "df_date = df_intp.set_index('Date')\r\n",
        "df_date.head()"
      ],
      "execution_count": 12,
      "outputs": [
        {
          "output_type": "execute_result",
          "data": {
            "text/html": [
              "<div>\n",
              "<style scoped>\n",
              "    .dataframe tbody tr th:only-of-type {\n",
              "        vertical-align: middle;\n",
              "    }\n",
              "\n",
              "    .dataframe tbody tr th {\n",
              "        vertical-align: top;\n",
              "    }\n",
              "\n",
              "    .dataframe thead th {\n",
              "        text-align: right;\n",
              "    }\n",
              "</style>\n",
              "<table border=\"1\" class=\"dataframe\">\n",
              "  <thead>\n",
              "    <tr style=\"text-align: right;\">\n",
              "      <th></th>\n",
              "      <th>ExchangeRate</th>\n",
              "      <th>KRX100</th>\n",
              "      <th>KORIBOR</th>\n",
              "      <th>LIBOR</th>\n",
              "      <th>DollarRate</th>\n",
              "      <th>CallRate</th>\n",
              "      <th>KOSPI</th>\n",
              "    </tr>\n",
              "    <tr>\n",
              "      <th>Date</th>\n",
              "      <th></th>\n",
              "      <th></th>\n",
              "      <th></th>\n",
              "      <th></th>\n",
              "      <th></th>\n",
              "      <th></th>\n",
              "      <th></th>\n",
              "    </tr>\n",
              "  </thead>\n",
              "  <tbody>\n",
              "    <tr>\n",
              "      <th>2014-01-02</th>\n",
              "      <td>1055.3</td>\n",
              "      <td>4263.64</td>\n",
              "      <td>2.78</td>\n",
              "      <td>0.0956</td>\n",
              "      <td>80.79</td>\n",
              "      <td>2.51</td>\n",
              "      <td>1967.19</td>\n",
              "    </tr>\n",
              "    <tr>\n",
              "      <th>2014-01-03</th>\n",
              "      <td>1050.4</td>\n",
              "      <td>4209.03</td>\n",
              "      <td>2.78</td>\n",
              "      <td>0.0950</td>\n",
              "      <td>80.96</td>\n",
              "      <td>2.50</td>\n",
              "      <td>1946.14</td>\n",
              "    </tr>\n",
              "    <tr>\n",
              "      <th>2014-01-06</th>\n",
              "      <td>1054.1</td>\n",
              "      <td>4221.13</td>\n",
              "      <td>2.77</td>\n",
              "      <td>0.0945</td>\n",
              "      <td>80.81</td>\n",
              "      <td>2.48</td>\n",
              "      <td>1953.28</td>\n",
              "    </tr>\n",
              "    <tr>\n",
              "      <th>2014-01-07</th>\n",
              "      <td>1062.2</td>\n",
              "      <td>4233.05</td>\n",
              "      <td>2.75</td>\n",
              "      <td>0.0926</td>\n",
              "      <td>80.98</td>\n",
              "      <td>2.50</td>\n",
              "      <td>1959.44</td>\n",
              "    </tr>\n",
              "    <tr>\n",
              "      <th>2014-01-08</th>\n",
              "      <td>1067.9</td>\n",
              "      <td>4232.26</td>\n",
              "      <td>2.75</td>\n",
              "      <td>0.0925</td>\n",
              "      <td>81.16</td>\n",
              "      <td>2.49</td>\n",
              "      <td>1958.96</td>\n",
              "    </tr>\n",
              "  </tbody>\n",
              "</table>\n",
              "</div>"
            ],
            "text/plain": [
              "            ExchangeRate   KRX100  KORIBOR  ...  DollarRate  CallRate    KOSPI\n",
              "Date                                        ...                               \n",
              "2014-01-02        1055.3  4263.64     2.78  ...       80.79      2.51  1967.19\n",
              "2014-01-03        1050.4  4209.03     2.78  ...       80.96      2.50  1946.14\n",
              "2014-01-06        1054.1  4221.13     2.77  ...       80.81      2.48  1953.28\n",
              "2014-01-07        1062.2  4233.05     2.75  ...       80.98      2.50  1959.44\n",
              "2014-01-08        1067.9  4232.26     2.75  ...       81.16      2.49  1958.96\n",
              "\n",
              "[5 rows x 7 columns]"
            ]
          },
          "metadata": {
            "tags": []
          },
          "execution_count": 12
        }
      ]
    },
    {
      "cell_type": "code",
      "metadata": {
        "id": "_YSr8NkQVpof"
      },
      "source": [
        "#프로핏 용\r\n",
        "from sklearn.model_selection import TimeSeriesSplit\r\n",
        "\r\n",
        "N_SPLITS =3\r\n",
        "X = df_intp.index\r\n",
        "y = df_intp['ExchangeRate']\r\n",
        "\r\n",
        "folds = TimeSeriesSplit(n_splits = N_SPLITS)\r\n"
      ],
      "execution_count": 13,
      "outputs": []
    },
    {
      "cell_type": "code",
      "metadata": {
        "id": "gfZCJIn1V_zu",
        "colab": {
          "base_uri": "https://localhost:8080/",
          "height": 204
        },
        "outputId": "ad747c56-b311-4124-e626-f2061779099b"
      },
      "source": [
        "feature_columns = [\r\n",
        "    'KRX100',\r\n",
        "    'KORIBOR',\r\n",
        "    'LIBOR',\r\n",
        "    'DollarRate',\r\n",
        "    'CallRate',\r\n",
        "    'KOSPI'\r\n",
        "]\r\n",
        "\r\n",
        "target_column = ['ExchangeRate']\r\n",
        "\r\n",
        "train_size = int(0.8* len(df_intp))\r\n",
        "\r\n",
        "multivariate_df = df_intp[['Date']+target_column +feature_columns].copy()\r\n",
        "multivariate_df.columns = ['ds', 'y']+ feature_columns\r\n",
        "multivariate_df.head()\r\n",
        "train_pro = multivariate_df.iloc[:train_size, :]\r\n",
        "x_train, y_train = pd.DataFrame(multivariate_df.iloc[:train_size, [0,2,3,4,5,6,7]]),pd.DataFrame(multivariate_df.iloc[:train_size, 1])\r\n",
        "x_test, y_test = pd.DataFrame(multivariate_df.iloc[train_size:, [0,2,3,4,5,6,7]]), pd.DataFrame(multivariate_df.iloc[train_size:, 1])\r\n",
        "\r\n",
        "train_pro.head()"
      ],
      "execution_count": 14,
      "outputs": [
        {
          "output_type": "execute_result",
          "data": {
            "text/html": [
              "<div>\n",
              "<style scoped>\n",
              "    .dataframe tbody tr th:only-of-type {\n",
              "        vertical-align: middle;\n",
              "    }\n",
              "\n",
              "    .dataframe tbody tr th {\n",
              "        vertical-align: top;\n",
              "    }\n",
              "\n",
              "    .dataframe thead th {\n",
              "        text-align: right;\n",
              "    }\n",
              "</style>\n",
              "<table border=\"1\" class=\"dataframe\">\n",
              "  <thead>\n",
              "    <tr style=\"text-align: right;\">\n",
              "      <th></th>\n",
              "      <th>ds</th>\n",
              "      <th>y</th>\n",
              "      <th>KRX100</th>\n",
              "      <th>KORIBOR</th>\n",
              "      <th>LIBOR</th>\n",
              "      <th>DollarRate</th>\n",
              "      <th>CallRate</th>\n",
              "      <th>KOSPI</th>\n",
              "    </tr>\n",
              "  </thead>\n",
              "  <tbody>\n",
              "    <tr>\n",
              "      <th>0</th>\n",
              "      <td>2014-01-02</td>\n",
              "      <td>1055.3</td>\n",
              "      <td>4263.64</td>\n",
              "      <td>2.78</td>\n",
              "      <td>0.0956</td>\n",
              "      <td>80.79</td>\n",
              "      <td>2.51</td>\n",
              "      <td>1967.19</td>\n",
              "    </tr>\n",
              "    <tr>\n",
              "      <th>1</th>\n",
              "      <td>2014-01-03</td>\n",
              "      <td>1050.4</td>\n",
              "      <td>4209.03</td>\n",
              "      <td>2.78</td>\n",
              "      <td>0.0950</td>\n",
              "      <td>80.96</td>\n",
              "      <td>2.50</td>\n",
              "      <td>1946.14</td>\n",
              "    </tr>\n",
              "    <tr>\n",
              "      <th>2</th>\n",
              "      <td>2014-01-06</td>\n",
              "      <td>1054.1</td>\n",
              "      <td>4221.13</td>\n",
              "      <td>2.77</td>\n",
              "      <td>0.0945</td>\n",
              "      <td>80.81</td>\n",
              "      <td>2.48</td>\n",
              "      <td>1953.28</td>\n",
              "    </tr>\n",
              "    <tr>\n",
              "      <th>3</th>\n",
              "      <td>2014-01-07</td>\n",
              "      <td>1062.2</td>\n",
              "      <td>4233.05</td>\n",
              "      <td>2.75</td>\n",
              "      <td>0.0926</td>\n",
              "      <td>80.98</td>\n",
              "      <td>2.50</td>\n",
              "      <td>1959.44</td>\n",
              "    </tr>\n",
              "    <tr>\n",
              "      <th>4</th>\n",
              "      <td>2014-01-08</td>\n",
              "      <td>1067.9</td>\n",
              "      <td>4232.26</td>\n",
              "      <td>2.75</td>\n",
              "      <td>0.0925</td>\n",
              "      <td>81.16</td>\n",
              "      <td>2.49</td>\n",
              "      <td>1958.96</td>\n",
              "    </tr>\n",
              "  </tbody>\n",
              "</table>\n",
              "</div>"
            ],
            "text/plain": [
              "          ds       y   KRX100  KORIBOR   LIBOR  DollarRate  CallRate    KOSPI\n",
              "0 2014-01-02  1055.3  4263.64     2.78  0.0956       80.79      2.51  1967.19\n",
              "1 2014-01-03  1050.4  4209.03     2.78  0.0950       80.96      2.50  1946.14\n",
              "2 2014-01-06  1054.1  4221.13     2.77  0.0945       80.81      2.48  1953.28\n",
              "3 2014-01-07  1062.2  4233.05     2.75  0.0926       80.98      2.50  1959.44\n",
              "4 2014-01-08  1067.9  4232.26     2.75  0.0925       81.16      2.49  1958.96"
            ]
          },
          "metadata": {
            "tags": []
          },
          "execution_count": 14
        }
      ]
    },
    {
      "cell_type": "code",
      "metadata": {
        "id": "9P6Tn1W6Wc2G",
        "colab": {
          "base_uri": "https://localhost:8080/",
          "height": 450
        },
        "outputId": "a38e0692-2f99-4824-c1e6-fc09f908ed5d"
      },
      "source": [
        "\r\n",
        "#lstm용\r\n",
        "from sklearn.preprocessing import MinMaxScaler\r\n",
        "\r\n",
        "#scaler 객체 생성\r\n",
        "scaler = MinMaxScaler()\r\n",
        "\r\n",
        "#데이터셋 변환\r\n",
        "scaler.fit(df_date)\r\n",
        "date_scaler = scaler.transform(df_date)\r\n",
        "\r\n",
        "#transform 변환을 하면 배열 형식으로 바뀌는데 그걸 다시 데이터 프레임 형식으로 넘기자\r\n",
        "df_scaler = pd.DataFrame(date_scaler, columns = df_date.columns, index = df_date.index)\r\n",
        "df_scaler"
      ],
      "execution_count": 15,
      "outputs": [
        {
          "output_type": "execute_result",
          "data": {
            "text/html": [
              "<div>\n",
              "<style scoped>\n",
              "    .dataframe tbody tr th:only-of-type {\n",
              "        vertical-align: middle;\n",
              "    }\n",
              "\n",
              "    .dataframe tbody tr th {\n",
              "        vertical-align: top;\n",
              "    }\n",
              "\n",
              "    .dataframe thead th {\n",
              "        text-align: right;\n",
              "    }\n",
              "</style>\n",
              "<table border=\"1\" class=\"dataframe\">\n",
              "  <thead>\n",
              "    <tr style=\"text-align: right;\">\n",
              "      <th></th>\n",
              "      <th>ExchangeRate</th>\n",
              "      <th>KRX100</th>\n",
              "      <th>KORIBOR</th>\n",
              "      <th>LIBOR</th>\n",
              "      <th>DollarRate</th>\n",
              "      <th>CallRate</th>\n",
              "      <th>KOSPI</th>\n",
              "    </tr>\n",
              "    <tr>\n",
              "      <th>Date</th>\n",
              "      <th></th>\n",
              "      <th></th>\n",
              "      <th></th>\n",
              "      <th></th>\n",
              "      <th></th>\n",
              "      <th></th>\n",
              "      <th></th>\n",
              "    </tr>\n",
              "  </thead>\n",
              "  <tbody>\n",
              "    <tr>\n",
              "      <th>2014-01-02</th>\n",
              "      <td>0.171091</td>\n",
              "      <td>0.277568</td>\n",
              "      <td>1.000000</td>\n",
              "      <td>0.019069</td>\n",
              "      <td>0.064449</td>\n",
              "      <td>0.995215</td>\n",
              "      <td>0.290947</td>\n",
              "    </tr>\n",
              "    <tr>\n",
              "      <th>2014-01-03</th>\n",
              "      <td>0.153024</td>\n",
              "      <td>0.262975</td>\n",
              "      <td>1.000000</td>\n",
              "      <td>0.018814</td>\n",
              "      <td>0.071518</td>\n",
              "      <td>0.990431</td>\n",
              "      <td>0.278928</td>\n",
              "    </tr>\n",
              "    <tr>\n",
              "      <th>2014-01-06</th>\n",
              "      <td>0.166667</td>\n",
              "      <td>0.266208</td>\n",
              "      <td>0.995025</td>\n",
              "      <td>0.018601</td>\n",
              "      <td>0.065281</td>\n",
              "      <td>0.980861</td>\n",
              "      <td>0.283005</td>\n",
              "    </tr>\n",
              "    <tr>\n",
              "      <th>2014-01-07</th>\n",
              "      <td>0.196534</td>\n",
              "      <td>0.269393</td>\n",
              "      <td>0.985075</td>\n",
              "      <td>0.017793</td>\n",
              "      <td>0.072349</td>\n",
              "      <td>0.990431</td>\n",
              "      <td>0.286522</td>\n",
              "    </tr>\n",
              "    <tr>\n",
              "      <th>2014-01-08</th>\n",
              "      <td>0.217552</td>\n",
              "      <td>0.269182</td>\n",
              "      <td>0.985075</td>\n",
              "      <td>0.017751</td>\n",
              "      <td>0.079834</td>\n",
              "      <td>0.985646</td>\n",
              "      <td>0.286248</td>\n",
              "    </tr>\n",
              "    <tr>\n",
              "      <th>...</th>\n",
              "      <td>...</td>\n",
              "      <td>...</td>\n",
              "      <td>...</td>\n",
              "      <td>...</td>\n",
              "      <td>...</td>\n",
              "      <td>...</td>\n",
              "      <td>...</td>\n",
              "    </tr>\n",
              "    <tr>\n",
              "      <th>2021-02-17</th>\n",
              "      <td>0.334808</td>\n",
              "      <td>0.945766</td>\n",
              "      <td>0.049751</td>\n",
              "      <td>0.013074</td>\n",
              "      <td>0.486902</td>\n",
              "      <td>0.019139</td>\n",
              "      <td>0.957027</td>\n",
              "    </tr>\n",
              "    <tr>\n",
              "      <th>2021-02-18</th>\n",
              "      <td>0.364307</td>\n",
              "      <td>0.916010</td>\n",
              "      <td>0.049751</td>\n",
              "      <td>0.013074</td>\n",
              "      <td>0.471933</td>\n",
              "      <td>0.028708</td>\n",
              "      <td>0.930151</td>\n",
              "    </tr>\n",
              "    <tr>\n",
              "      <th>2021-02-19</th>\n",
              "      <td>0.359882</td>\n",
              "      <td>0.931926</td>\n",
              "      <td>0.044776</td>\n",
              "      <td>0.013074</td>\n",
              "      <td>0.462370</td>\n",
              "      <td>0.038278</td>\n",
              "      <td>0.942119</td>\n",
              "    </tr>\n",
              "    <tr>\n",
              "      <th>2021-02-22</th>\n",
              "      <td>0.380162</td>\n",
              "      <td>0.911510</td>\n",
              "      <td>0.044776</td>\n",
              "      <td>0.013074</td>\n",
              "      <td>0.447817</td>\n",
              "      <td>0.033493</td>\n",
              "      <td>0.926205</td>\n",
              "    </tr>\n",
              "    <tr>\n",
              "      <th>2021-02-23</th>\n",
              "      <td>0.380162</td>\n",
              "      <td>0.903846</td>\n",
              "      <td>0.044776</td>\n",
              "      <td>0.013074</td>\n",
              "      <td>0.454470</td>\n",
              "      <td>0.028708</td>\n",
              "      <td>0.920690</td>\n",
              "    </tr>\n",
              "  </tbody>\n",
              "</table>\n",
              "<p>1762 rows × 7 columns</p>\n",
              "</div>"
            ],
            "text/plain": [
              "            ExchangeRate    KRX100   KORIBOR  ...  DollarRate  CallRate     KOSPI\n",
              "Date                                          ...                                \n",
              "2014-01-02      0.171091  0.277568  1.000000  ...    0.064449  0.995215  0.290947\n",
              "2014-01-03      0.153024  0.262975  1.000000  ...    0.071518  0.990431  0.278928\n",
              "2014-01-06      0.166667  0.266208  0.995025  ...    0.065281  0.980861  0.283005\n",
              "2014-01-07      0.196534  0.269393  0.985075  ...    0.072349  0.990431  0.286522\n",
              "2014-01-08      0.217552  0.269182  0.985075  ...    0.079834  0.985646  0.286248\n",
              "...                  ...       ...       ...  ...         ...       ...       ...\n",
              "2021-02-17      0.334808  0.945766  0.049751  ...    0.486902  0.019139  0.957027\n",
              "2021-02-18      0.364307  0.916010  0.049751  ...    0.471933  0.028708  0.930151\n",
              "2021-02-19      0.359882  0.931926  0.044776  ...    0.462370  0.038278  0.942119\n",
              "2021-02-22      0.380162  0.911510  0.044776  ...    0.447817  0.033493  0.926205\n",
              "2021-02-23      0.380162  0.903846  0.044776  ...    0.454470  0.028708  0.920690\n",
              "\n",
              "[1762 rows x 7 columns]"
            ]
          },
          "metadata": {
            "tags": []
          },
          "execution_count": 15
        }
      ]
    },
    {
      "cell_type": "code",
      "metadata": {
        "id": "oOTfKWhCWqlz"
      },
      "source": [
        "#lstm 모델 지도학습 화\r\n",
        "#이과정을 거쳐줘야한다고한다\r\n",
        "def series_to_supervised(data, n_in=1, n_out=1, dropnan=True):\r\n",
        "  n_vars = 1 if type(data) is list else data.shape[1]\r\n",
        "  df = DataFrame(data)\r\n",
        "  cols, names = list(), list()\r\n",
        "  # input sequence (t-n, ... t-1)\r\n",
        "  for i in range(n_in, 0, -1):\r\n",
        "      cols.append(df.shift(i))\r\n",
        "      names += [('var%d(t-%d)' % (j+1, i)) for j in range(n_vars)]\r\n",
        "  # forecast sequence (t, t+1, ... t+n)\r\n",
        "  for i in range(0, n_out):\r\n",
        "      cols.append(df.shift(-i))\r\n",
        "      if i == 0:\r\n",
        "          names += [('var%d(t)' % (j+1)) for j in range(n_vars)]\r\n",
        "      else:\r\n",
        "          names += [('var%d(t+%d)' % (j+1, i)) for j in range(n_vars)]\r\n",
        "  # put it all together\r\n",
        "  agg = pd.concat(cols, axis=1)\r\n",
        "  agg.columns = names\r\n",
        "  # drop rows with NaN values\r\n",
        "  if dropnan:\r\n",
        "      agg.dropna(inplace=True)\r\n",
        "  return agg"
      ],
      "execution_count": 16,
      "outputs": []
    },
    {
      "cell_type": "code",
      "metadata": {
        "id": "QvGIYBTFWzuD"
      },
      "source": [
        "reframed = series_to_supervised(df_scaler, 1, 1) #t-1시점,t시점 데이터"
      ],
      "execution_count": 17,
      "outputs": []
    },
    {
      "cell_type": "code",
      "metadata": {
        "id": "6RaxbtW1W2v2"
      },
      "source": [
        "reframed.drop(reframed.columns[[8,9,10,11,12,13]], axis=1, inplace=True)\r\n",
        "#새로만들어진건 환율만 살린다"
      ],
      "execution_count": 18,
      "outputs": []
    },
    {
      "cell_type": "code",
      "metadata": {
        "id": "PyWGTnnGW9iO"
      },
      "source": [
        "#데이터 분리\r\n",
        "values = reframed.values\r\n",
        "n_train_time = 1409 # 데이터의 80% 가져온다\r\n",
        "train = values[:n_train_time, :]\r\n",
        "test = values[1408:, :]\r\n",
        "# split into input and outputs\r\n",
        "train_X, train_y = train[:, :-1], train[:, -1]\r\n",
        "test_X, test_y = test[:, :-1], test[:, -1]\r\n",
        "# reshape input to be 3D [samples, timesteps, features]\r\n",
        "train_X = train_X.reshape((train_X.shape[0], 1, train_X.shape[1]))\r\n",
        "test_X = test_X.reshape((test_X.shape[0], 1, test_X.shape[1]))"
      ],
      "execution_count": 19,
      "outputs": []
    },
    {
      "cell_type": "code",
      "metadata": {
        "id": "w1-HTLRBXQtG",
        "colab": {
          "base_uri": "https://localhost:8080/"
        },
        "outputId": "912a0b78-cf49-4c47-ffbd-aa8597dd3a8c"
      },
      "source": [
        "#lstm\r\n",
        "print(train_X.shape, train_y.shape, test_X.shape, test_y.shape )\r\n",
        "#prophet\r\n",
        "print(x_train.shape, y_train.shape, x_test.shape,y_test.shape)"
      ],
      "execution_count": 20,
      "outputs": [
        {
          "output_type": "stream",
          "text": [
            "(1409, 1, 7) (1409,) (353, 1, 7) (353,)\n",
            "(1409, 7) (1409, 1) (353, 7) (353, 1)\n"
          ],
          "name": "stdout"
        }
      ]
    },
    {
      "cell_type": "code",
      "metadata": {
        "id": "xWpSgAjq0SQC",
        "colab": {
          "base_uri": "https://localhost:8080/"
        },
        "outputId": "3bfc969d-9ee7-4542-d191-34db3501ac63"
      },
      "source": [
        "y_train.shape"
      ],
      "execution_count": 49,
      "outputs": [
        {
          "output_type": "execute_result",
          "data": {
            "text/plain": [
              "(1409, 1)"
            ]
          },
          "metadata": {
            "tags": []
          },
          "execution_count": 49
        }
      ]
    },
    {
      "cell_type": "markdown",
      "metadata": {
        "id": "mXeXiLcBX38-"
      },
      "source": [
        "## 모델링"
      ]
    },
    {
      "cell_type": "code",
      "metadata": {
        "id": "xdLsi569bhWU"
      },
      "source": [
        "# 일단 lstm\r\n",
        "lstm = Sequential()\r\n",
        "lstm.add(LSTM(50, input_shape=(train_X.shape[1], train_X.shape[2])))\r\n",
        "lstm.add(Dense(1))\r\n",
        "lstm.compile(loss='mae', optimizer='adam')"
      ],
      "execution_count": 21,
      "outputs": []
    },
    {
      "cell_type": "code",
      "metadata": {
        "id": "adTl3-RRXTr4",
        "colab": {
          "base_uri": "https://localhost:8080/"
        },
        "outputId": "ec7cbaee-6410-442e-96c0-c2c6bb81f56e"
      },
      "source": [
        "# 일단 lstm\r\n",
        "# lstm = Sequential()\r\n",
        "# lstm.add(LSTM(50, input_shape=(train_X.shape[1], train_X.shape[2])))\r\n",
        "# lstm.add(Dense(1))\r\n",
        "# lstm.compile(loss='mae', optimizer='adam')\r\n",
        "#프로핏\r\n",
        "prophet = Prophet()\r\n",
        "prophet.add_regressor('KRX100')\r\n",
        "prophet.add_regressor('KORIBOR')\r\n",
        "# prophet.add_regressor('LIBOR')\r\n",
        "# prophet.add_regressor('DollarRate')\r\n",
        "# prophet.add_regressor('CallRate')\r\n",
        "prophet.add_regressor('KOSPI')"
      ],
      "execution_count": 22,
      "outputs": [
        {
          "output_type": "execute_result",
          "data": {
            "text/plain": [
              "<fbprophet.forecaster.Prophet at 0x7f98f8cfa3d0>"
            ]
          },
          "metadata": {
            "tags": []
          },
          "execution_count": 22
        }
      ]
    },
    {
      "cell_type": "code",
      "metadata": {
        "id": "wxp79bikaUNh",
        "colab": {
          "base_uri": "https://localhost:8080/"
        },
        "outputId": "31cbb3af-3d64-4a4b-d2f5-8d74506318d6"
      },
      "source": [
        "#훈련\r\n",
        "lstm.fit(train_X, train_y, epochs=50, batch_size=8, \r\n",
        "        validation_data=(test_X, test_y), verbose=2, shuffle=False)\r\n",
        "prophet.fit(train_pro)"
      ],
      "execution_count": 23,
      "outputs": [
        {
          "output_type": "stream",
          "text": [
            "Epoch 1/50\n",
            "177/177 - 33s - loss: 0.1037 - val_loss: 0.1151\n",
            "Epoch 2/50\n",
            "177/177 - 0s - loss: 0.0975 - val_loss: 0.1106\n",
            "Epoch 3/50\n",
            "177/177 - 1s - loss: 0.0603 - val_loss: 0.1187\n",
            "Epoch 4/50\n",
            "177/177 - 1s - loss: 0.0555 - val_loss: 0.1320\n",
            "Epoch 5/50\n",
            "177/177 - 1s - loss: 0.0624 - val_loss: 0.1465\n",
            "Epoch 6/50\n",
            "177/177 - 1s - loss: 0.0480 - val_loss: 0.1627\n",
            "Epoch 7/50\n",
            "177/177 - 0s - loss: 0.0486 - val_loss: 0.1746\n",
            "Epoch 8/50\n",
            "177/177 - 0s - loss: 0.0416 - val_loss: 0.1895\n",
            "Epoch 9/50\n",
            "177/177 - 0s - loss: 0.0393 - val_loss: 0.1967\n",
            "Epoch 10/50\n",
            "177/177 - 0s - loss: 0.0346 - val_loss: 0.2107\n",
            "Epoch 11/50\n",
            "177/177 - 0s - loss: 0.0337 - val_loss: 0.2090\n",
            "Epoch 12/50\n",
            "177/177 - 0s - loss: 0.0300 - val_loss: 0.2018\n",
            "Epoch 13/50\n",
            "177/177 - 0s - loss: 0.0278 - val_loss: 0.1911\n",
            "Epoch 14/50\n",
            "177/177 - 0s - loss: 0.0269 - val_loss: 0.1837\n",
            "Epoch 15/50\n",
            "177/177 - 1s - loss: 0.0263 - val_loss: 0.1740\n",
            "Epoch 16/50\n",
            "177/177 - 1s - loss: 0.0257 - val_loss: 0.1592\n",
            "Epoch 17/50\n",
            "177/177 - 1s - loss: 0.0261 - val_loss: 0.1463\n",
            "Epoch 18/50\n",
            "177/177 - 1s - loss: 0.0252 - val_loss: 0.1258\n",
            "Epoch 19/50\n",
            "177/177 - 1s - loss: 0.0242 - val_loss: 0.1054\n",
            "Epoch 20/50\n",
            "177/177 - 0s - loss: 0.0232 - val_loss: 0.0867\n",
            "Epoch 21/50\n",
            "177/177 - 0s - loss: 0.0230 - val_loss: 0.0703\n",
            "Epoch 22/50\n",
            "177/177 - 0s - loss: 0.0228 - val_loss: 0.0574\n",
            "Epoch 23/50\n",
            "177/177 - 1s - loss: 0.0241 - val_loss: 0.0543\n",
            "Epoch 24/50\n",
            "177/177 - 1s - loss: 0.0254 - val_loss: 0.0568\n",
            "Epoch 25/50\n",
            "177/177 - 0s - loss: 0.0275 - val_loss: 0.0582\n",
            "Epoch 26/50\n",
            "177/177 - 0s - loss: 0.0259 - val_loss: 0.0668\n",
            "Epoch 27/50\n",
            "177/177 - 0s - loss: 0.0269 - val_loss: 0.0756\n",
            "Epoch 28/50\n",
            "177/177 - 0s - loss: 0.0280 - val_loss: 0.0889\n",
            "Epoch 29/50\n",
            "177/177 - 0s - loss: 0.0269 - val_loss: 0.1086\n",
            "Epoch 30/50\n",
            "177/177 - 0s - loss: 0.0291 - val_loss: 0.1207\n",
            "Epoch 31/50\n",
            "177/177 - 0s - loss: 0.0286 - val_loss: 0.1299\n",
            "Epoch 32/50\n",
            "177/177 - 0s - loss: 0.0291 - val_loss: 0.1408\n",
            "Epoch 33/50\n",
            "177/177 - 0s - loss: 0.0278 - val_loss: 0.1462\n",
            "Epoch 34/50\n",
            "177/177 - 1s - loss: 0.0288 - val_loss: 0.1568\n",
            "Epoch 35/50\n",
            "177/177 - 0s - loss: 0.0263 - val_loss: 0.1611\n",
            "Epoch 36/50\n",
            "177/177 - 0s - loss: 0.0283 - val_loss: 0.1661\n",
            "Epoch 37/50\n",
            "177/177 - 1s - loss: 0.0253 - val_loss: 0.1689\n",
            "Epoch 38/50\n",
            "177/177 - 0s - loss: 0.0263 - val_loss: 0.1698\n",
            "Epoch 39/50\n",
            "177/177 - 1s - loss: 0.0252 - val_loss: 0.1719\n",
            "Epoch 40/50\n",
            "177/177 - 1s - loss: 0.0239 - val_loss: 0.1693\n",
            "Epoch 41/50\n",
            "177/177 - 0s - loss: 0.0240 - val_loss: 0.1656\n",
            "Epoch 42/50\n",
            "177/177 - 0s - loss: 0.0223 - val_loss: 0.1645\n",
            "Epoch 43/50\n",
            "177/177 - 0s - loss: 0.0223 - val_loss: 0.1616\n",
            "Epoch 44/50\n",
            "177/177 - 0s - loss: 0.0216 - val_loss: 0.1566\n",
            "Epoch 45/50\n",
            "177/177 - 0s - loss: 0.0212 - val_loss: 0.1468\n",
            "Epoch 46/50\n",
            "177/177 - 0s - loss: 0.0211 - val_loss: 0.1309\n",
            "Epoch 47/50\n",
            "177/177 - 0s - loss: 0.0206 - val_loss: 0.1189\n",
            "Epoch 48/50\n",
            "177/177 - 0s - loss: 0.0197 - val_loss: 0.1089\n",
            "Epoch 49/50\n",
            "177/177 - 0s - loss: 0.0192 - val_loss: 0.0931\n",
            "Epoch 50/50\n",
            "177/177 - 0s - loss: 0.0190 - val_loss: 0.0787\n"
          ],
          "name": "stdout"
        },
        {
          "output_type": "stream",
          "text": [
            "INFO:fbprophet:Disabling daily seasonality. Run prophet with daily_seasonality=True to override this.\n"
          ],
          "name": "stderr"
        },
        {
          "output_type": "execute_result",
          "data": {
            "text/plain": [
              "<fbprophet.forecaster.Prophet at 0x7f98f8cfa3d0>"
            ]
          },
          "metadata": {
            "tags": []
          },
          "execution_count": 23
        }
      ]
    },
    {
      "cell_type": "code",
      "metadata": {
        "id": "IwdpU6aSYOj1"
      },
      "source": [
        "#예측\r\n",
        "#lstm은 변환데이터, 프핏은 변환하지않은 데이터를 넣어주자 \r\n",
        "#추후에 바까줍시다\r\n",
        "lstm_pred=lstm.predict(test_X)\r\n",
        "prophet_pred=prophet.predict(x_test)"
      ],
      "execution_count": 24,
      "outputs": []
    },
    {
      "cell_type": "code",
      "metadata": {
        "id": "iinn7uo9q-1P"
      },
      "source": [
        ""
      ],
      "execution_count": 24,
      "outputs": []
    },
    {
      "cell_type": "markdown",
      "metadata": {
        "id": "sFpXI9WSq_jX"
      },
      "source": [
        "## 예측값 재변환\r\n",
        "- 프로핏 스케일링  \r\n",
        "- 프로핏 배열화"
      ]
    },
    {
      "cell_type": "code",
      "metadata": {
        "id": "1FeazwK5aMpR"
      },
      "source": [
        "#프로핏 예측값을 배열로 변환해주자\r\n",
        "prophet_pred\r\n",
        "prophet_ypred = prophet_pred.loc[:,[ 'yhat']]\r\n",
        "#데이터셋 변환\r\n",
        "scaler.fit(prophet_ypred)\r\n",
        "prophet_presc = scaler.transform(prophet_ypred)\r\n",
        "\r\n",
        "#transform 변환을 하면 배열 형식으로 바뀌는데 그걸 다시 데이터 프레임 형식으로 넘기자\r\n",
        "# df_scaler = pd.DataFrame(date_scaler, columns = df_date.columns, index = df_date.index)\r\n",
        "# df_scaler"
      ],
      "execution_count": 25,
      "outputs": []
    },
    {
      "cell_type": "code",
      "metadata": {
        "id": "x3bOxYHwcteh"
      },
      "source": [
        "#배열화"
      ],
      "execution_count": 26,
      "outputs": []
    },
    {
      "cell_type": "code",
      "metadata": {
        "id": "j3lVXBInqz4f",
        "colab": {
          "base_uri": "https://localhost:8080/"
        },
        "outputId": "8cd72283-30be-460c-e15d-ca52cfd0ca65"
      },
      "source": [
        "prophet_presc.shape"
      ],
      "execution_count": 27,
      "outputs": [
        {
          "output_type": "execute_result",
          "data": {
            "text/plain": [
              "(353, 1)"
            ]
          },
          "metadata": {
            "tags": []
          },
          "execution_count": 27
        }
      ]
    },
    {
      "cell_type": "code",
      "metadata": {
        "id": "pxNx7k7Mr__K",
        "colab": {
          "base_uri": "https://localhost:8080/"
        },
        "outputId": "96d06809-97f4-40d0-be09-4e094c92b177"
      },
      "source": [
        "lstm_pred.shape"
      ],
      "execution_count": 28,
      "outputs": [
        {
          "output_type": "execute_result",
          "data": {
            "text/plain": [
              "(353, 1)"
            ]
          },
          "metadata": {
            "tags": []
          },
          "execution_count": 28
        }
      ]
    },
    {
      "cell_type": "markdown",
      "metadata": {
        "id": "_IOAwnRXtbqR"
      },
      "source": [
        "## 2개의 예측값을 합쳐준다"
      ]
    },
    {
      "cell_type": "code",
      "metadata": {
        "id": "EI0lAKthth8u",
        "colab": {
          "base_uri": "https://localhost:8080/"
        },
        "outputId": "105dffd3-8637-4564-ca25-600864afcee3"
      },
      "source": [
        "pred = np.array([lstm_pred, prophet_presc])\r\n",
        "print(pred.shape)"
      ],
      "execution_count": 29,
      "outputs": [
        {
          "output_type": "stream",
          "text": [
            "(2, 353, 1)\n"
          ],
          "name": "stdout"
        }
      ]
    },
    {
      "cell_type": "code",
      "metadata": {
        "id": "VHr5kYsxtpjH",
        "colab": {
          "base_uri": "https://localhost:8080/"
        },
        "outputId": "613935b2-fdf9-468a-f8c9-dd1310607d52"
      },
      "source": [
        "#차원 축소 3->2\r\n",
        "pred2 = pred.reshape(-1,2)\r\n",
        "pred2.shape"
      ],
      "execution_count": 30,
      "outputs": [
        {
          "output_type": "execute_result",
          "data": {
            "text/plain": [
              "(353, 2)"
            ]
          },
          "metadata": {
            "tags": []
          },
          "execution_count": 30
        }
      ]
    },
    {
      "cell_type": "code",
      "metadata": {
        "id": "m7Mav5HwuPPJ",
        "colab": {
          "base_uri": "https://localhost:8080/"
        },
        "outputId": "7eacde39-c423-4163-e316-d8c9b0cd6ff1"
      },
      "source": [
        "#최종예측 모델 생성\r\n",
        "from xgboost import XGBRegressor, XGBRFRegressor\r\n",
        "\r\n",
        "\r\n",
        "xgb_final = XGBRegressor(random_state=42, learning_rate=0.01, n_estimators=1000, subsample=0.8, max_features=0.8, max_depth=7)\r\n",
        "xgb_final.fit(pred2, test_y )"
      ],
      "execution_count": 90,
      "outputs": [
        {
          "output_type": "stream",
          "text": [
            "[12:07:59] WARNING: /workspace/src/objective/regression_obj.cu:152: reg:linear is now deprecated in favor of reg:squarederror.\n"
          ],
          "name": "stdout"
        },
        {
          "output_type": "execute_result",
          "data": {
            "text/plain": [
              "XGBRegressor(base_score=0.5, booster='gbtree', colsample_bylevel=1,\n",
              "             colsample_bynode=1, colsample_bytree=1, gamma=0,\n",
              "             importance_type='gain', learning_rate=0.01, max_delta_step=0,\n",
              "             max_depth=7, max_features=0.8, min_child_weight=1, missing=None,\n",
              "             n_estimators=1000, n_jobs=1, nthread=None, objective='reg:linear',\n",
              "             random_state=42, reg_alpha=0, reg_lambda=1, scale_pos_weight=1,\n",
              "             seed=None, silent=None, subsample=0.8, verbosity=1)"
            ]
          },
          "metadata": {
            "tags": []
          },
          "execution_count": 90
        }
      ]
    },
    {
      "cell_type": "code",
      "metadata": {
        "id": "9O_eSk29VD_D"
      },
      "source": [
        ""
      ],
      "execution_count": 90,
      "outputs": []
    },
    {
      "cell_type": "code",
      "metadata": {
        "id": "u4eX4MCRuccK"
      },
      "source": [
        "final = xgb_final.predict(pred2)"
      ],
      "execution_count": 91,
      "outputs": []
    },
    {
      "cell_type": "code",
      "metadata": {
        "id": "IJ2RXxXQ0pLw",
        "colab": {
          "base_uri": "https://localhost:8080/",
          "height": 408
        },
        "outputId": "e1cf9e05-bda6-4e2a-ca17-70cf907d9d96"
      },
      "source": [
        "fig = plt.figure(figsize = (16,6))\r\n",
        "chart  = fig.add_subplot(1,1,1)\r\n",
        "chart.plot(test_y, color = 'blue',label = 'real')\r\n",
        "chart.plot(final, color = 'red',label = 'pred')\r\n",
        "chart.set_title('xgboost ensemble blending predict')\r\n",
        "plt.legend(loc='best')"
      ],
      "execution_count": 92,
      "outputs": [
        {
          "output_type": "execute_result",
          "data": {
            "text/plain": [
              "<matplotlib.legend.Legend at 0x7f98143b3fd0>"
            ]
          },
          "metadata": {
            "tags": []
          },
          "execution_count": 92
        },
        {
          "output_type": "display_data",
          "data": {
            "image/png": "[encoded data removed]",
            "text/plain": [
              "<Figure size 1152x432 with 1 Axes>"
            ]
          },
          "metadata": {
            "tags": [],
            "needs_background": "light"
          }
        }
      ]
    },
    {
      "cell_type": "code",
      "metadata": {
        "id": "1hhzJh351Fn-",
        "colab": {
          "base_uri": "https://localhost:8080/"
        },
        "outputId": "85fc5c2f-4c19-409c-b4ce-120e9c6fedb6"
      },
      "source": [
        "from sklearn.metrics import confusion_matrix, f1_score, roc_auc_score\r\n",
        "from sklearn.metrics import mean_squared_error\r\n",
        "rmse = sqrt(mean_squared_error(test_y, final))\r\n",
        "print('Test RMSE: %.3f' % rmse)"
      ],
      "execution_count": 93,
      "outputs": [
        {
          "output_type": "stream",
          "text": [
            "Test RMSE: 0.032\n"
          ],
          "name": "stdout"
        }
      ]
    },
    {
      "cell_type": "code",
      "metadata": {
        "id": "w8YXZF7GXDvc"
      },
      "source": [
        "t2 = np.array([final])"
      ],
      "execution_count": 94,
      "outputs": []
    },
    {
      "cell_type": "code",
      "metadata": {
        "id": "vlBy5dRnM28i"
      },
      "source": [
        "data_test = scaler.inverse_transform(t2)"
      ],
      "execution_count": 95,
      "outputs": []
    },
    {
      "cell_type": "code",
      "metadata": {
        "id": "tOkAR8K8RPy8"
      },
      "source": [
        "final_data = np.squeeze(data_test)"
      ],
      "execution_count": 96,
      "outputs": []
    },
    {
      "cell_type": "code",
      "metadata": {
        "colab": {
          "base_uri": "https://localhost:8080/"
        },
        "id": "zb7KP4RSRQ1Z",
        "outputId": "096d88f8-92ba-4e5d-e67d-4d71052de3cd"
      },
      "source": [
        "final_data"
      ],
      "execution_count": 97,
      "outputs": [
        {
          "output_type": "execute_result",
          "data": {
            "text/plain": [
              "array([1191.2521, 1200.5967, 1203.612 , 1202.402 , 1206.0822, 1211.8903,\n",
              "       1208.5717, 1217.275 , 1211.1791, 1195.5774, 1209.2634, 1197.5643,\n",
              "       1209.7482, 1202.1514, 1194.7727, 1196.9624, 1201.2001, 1200.5242,\n",
              "       1196.0851, 1184.8536, 1191.4832, 1184.9286, 1187.0968, 1188.16  ,\n",
              "       1178.7698, 1186.2103, 1189.5343, 1188.9158, 1184.3535, 1177.5677,\n",
              "       1178.6158, 1180.0277, 1179.38  , 1177.2722, 1178.8672, 1184.1315,\n",
              "       1189.609 , 1185.4597, 1191.4933, 1172.6205, 1188.4056, 1195.141 ,\n",
              "       1184.9907, 1193.6265, 1190.4193, 1194.1705, 1193.439 , 1192.6454,\n",
              "       1198.3811, 1189.7808, 1190.7184, 1198.331 , 1202.1757, 1209.9119,\n",
              "       1209.2278, 1206.6718, 1204.353 , 1198.7916, 1183.9406, 1190.7443,\n",
              "       1184.4742, 1180.9182, 1182.181 , 1182.1461, 1177.5972, 1180.62  ,\n",
              "       1178.1135, 1178.9972, 1178.316 , 1182.7373, 1181.5363, 1179.0844,\n",
              "       1183.334 , 1182.8704, 1187.1018, 1177.5142, 1178.5895, 1177.9221,\n",
              "       1177.7555, 1177.4685, 1178.8048, 1177.4846, 1178.8132, 1181.7074,\n",
              "       1181.9064, 1182.3173, 1183.4965, 1184.3888, 1201.2109, 1203.375 ,\n",
              "       1207.3434, 1201.8422, 1189.0494, 1187.9105, 1201.6216, 1201.4476,\n",
              "       1200.046 , 1199.6205, 1200.4614, 1201.4247, 1203.1978, 1201.406 ,\n",
              "       1201.4901, 1202.2836, 1211.6935, 1214.0975, 1218.0057, 1220.6628,\n",
              "       1224.2008, 1221.7778, 1202.3796, 1203.596 , 1210.4268, 1198.8545,\n",
              "       1201.4579, 1212.1212, 1211.705 , 1204.1947, 1202.7678, 1225.4266,\n",
              "       1227.5216, 1233.3038, 1237.8953, 1258.1245, 1236.702 , 1261.2131,\n",
              "       1245.6598, 1223.372 , 1228.3063, 1222.615 , 1219.0259, 1216.023 ,\n",
              "       1226.2277, 1227.7311, 1215.4531, 1240.0853, 1209.2462, 1218.4349,\n",
              "       1228.6771, 1210.0333, 1217.2776, 1219.914 , 1226.6333, 1221.9186,\n",
              "       1224.3271, 1231.9163, 1238.9492, 1232.1567, 1224.9839, 1231.1138,\n",
              "       1223.7815, 1230.9668, 1234.6041, 1232.7786, 1235.0156, 1230.7917,\n",
              "       1231.1602, 1236.0598, 1235.2075, 1238.8672, 1236.4343, 1226.0968,\n",
              "       1232.8092, 1236.4791, 1241.6359, 1243.3647, 1242.1622, 1238.5549,\n",
              "       1226.6288, 1236.3959, 1239.9269, 1236.9397, 1226.8396, 1220.4688,\n",
              "       1226.1122, 1231.8159, 1213.0566, 1197.4852, 1201.5625, 1203.2261,\n",
              "       1203.7966, 1211.9065, 1214.1935, 1211.0873, 1217.9954, 1220.3682,\n",
              "       1217.0327, 1217.8145, 1211.8492, 1216.2294, 1209.7699, 1212.547 ,\n",
              "       1211.1206, 1196.9377, 1204.4487, 1205.7806, 1206.5529, 1202.5156,\n",
              "       1206.9563, 1205.2217, 1214.5586, 1214.5681, 1204.241 , 1195.2595,\n",
              "       1209.274 , 1219.8864, 1222.2471, 1215.883 , 1211.5101, 1216.4243,\n",
              "       1213.956 , 1210.2577, 1211.3856, 1204.3029, 1197.15  , 1207.5796,\n",
              "       1209.4719, 1208.8765, 1203.0394, 1197.3701, 1194.2402, 1202.787 ,\n",
              "       1197.9161, 1199.3378, 1206.9144, 1211.1919, 1204.1298, 1194.9972,\n",
              "       1195.7661, 1195.7227, 1196.8027, 1196.6277, 1198.9045, 1192.9719,\n",
              "       1194.5511, 1204.2411, 1198.4751, 1194.7219, 1194.8481, 1201.2826,\n",
              "       1201.1035, 1203.0066, 1201.6958, 1207.4564, 1211.9318, 1201.6349,\n",
              "       1198.113 , 1190.2969, 1192.7551, 1184.9691, 1179.5398, 1189.9877,\n",
              "       1182.0659, 1183.975 , 1193.1572, 1195.1019, 1196.746 , 1183.8215,\n",
              "       1184.886 , 1184.0312, 1177.9744, 1175.0905, 1167.2839, 1168.3235,\n",
              "       1166.8574, 1161.8446, 1165.5131, 1158.1278, 1161.106 , 1161.7395,\n",
              "       1158.4012, 1155.402 , 1166.3489, 1159.0688, 1158.5918, 1162.381 ,\n",
              "       1161.885 , 1156.1168, 1157.9761, 1161.1711, 1152.811 , 1143.0553,\n",
              "       1146.386 , 1148.3328, 1151.5858, 1146.5403, 1135.3998, 1127.8761,\n",
              "       1133.893 , 1145.1644, 1135.599 , 1130.2778, 1136.0461, 1134.0851,\n",
              "       1139.6477, 1136.4764, 1123.0511, 1139.4105, 1131.7594, 1127.7189,\n",
              "       1119.2509, 1122.4425, 1124.7247, 1123.483 , 1119.91  , 1128.6798,\n",
              "       1122.6714, 1130.2676, 1121.5807, 1136.1504, 1123.8185, 1128.9501,\n",
              "       1143.9045, 1132.2307, 1135.0441, 1137.7793, 1137.1488, 1127.4839,\n",
              "       1134.9834, 1117.1395, 1122.3462, 1121.1968, 1126.8535, 1128.244 ,\n",
              "       1119.1537, 1121.7257, 1120.8544, 1121.7394, 1121.598 , 1124.9811,\n",
              "       1124.1176, 1122.4633, 1121.5951, 1124.6093, 1124.6758, 1124.9526,\n",
              "       1126.4159, 1134.5499, 1137.5782, 1137.8502, 1136.1526, 1134.7372,\n",
              "       1137.5544, 1142.9419, 1136.3134, 1133.4182, 1130.589 , 1125.9751,\n",
              "       1127.1711, 1129.5189, 1131.5244, 1131.9789, 1131.6144],\n",
              "      dtype=float32)"
            ]
          },
          "metadata": {
            "tags": []
          },
          "execution_count": 97
        }
      ]
    },
    {
      "cell_type": "code",
      "metadata": {
        "colab": {
          "base_uri": "https://localhost:8080/",
          "height": 265
        },
        "id": "kWyHkysDH7xW",
        "outputId": "d6b3ceed-15a9-46a0-9e63-2723f96cd53a"
      },
      "source": [
        "plt.plot(final_data)\r\n",
        "plt.legend(['Data'])\r\n",
        "plt.show()"
      ],
      "execution_count": 98,
      "outputs": [
        {
          "output_type": "display_data",
          "data": {
            "image/png": "[encoded data removed]",
            "text/plain": [
              "<Figure size 432x288 with 1 Axes>"
            ]
          },
          "metadata": {
            "tags": [],
            "needs_background": "light"
          }
        }
      ]
    },
    {
      "cell_type": "code",
      "metadata": {
        "colab": {
          "base_uri": "https://localhost:8080/"
        },
        "id": "rl4w9rKTNvXr",
        "outputId": "143df7fa-75e5-4259-ebd1-3564120e63dd"
      },
      "source": [
        "lt = final_data[-350:]\r\n",
        "len(lt)"
      ],
      "execution_count": 99,
      "outputs": [
        {
          "output_type": "execute_result",
          "data": {
            "text/plain": [
              "350"
            ]
          },
          "metadata": {
            "tags": []
          },
          "execution_count": 99
        }
      ]
    },
    {
      "cell_type": "code",
      "metadata": {
        "colab": {
          "base_uri": "https://localhost:8080/"
        },
        "id": "lEIdtDDpRzmL",
        "outputId": "95012433-38b9-4e71-813e-ec4b5221ba8f"
      },
      "source": [
        "type(lt)"
      ],
      "execution_count": 100,
      "outputs": [
        {
          "output_type": "execute_result",
          "data": {
            "text/plain": [
              "numpy.ndarray"
            ]
          },
          "metadata": {
            "tags": []
          },
          "execution_count": 100
        }
      ]
    },
    {
      "cell_type": "code",
      "metadata": {
        "id": "eLO-NdidR56F"
      },
      "source": [
        "flo = lt.astype(float)"
      ],
      "execution_count": 101,
      "outputs": []
    },
    {
      "cell_type": "code",
      "metadata": {
        "colab": {
          "base_uri": "https://localhost:8080/"
        },
        "id": "KElL9c_iR9Ra",
        "outputId": "c7da139b-4dce-4511-d024-620a236e5026"
      },
      "source": [
        "flo.shape"
      ],
      "execution_count": 102,
      "outputs": [
        {
          "output_type": "execute_result",
          "data": {
            "text/plain": [
              "(350,)"
            ]
          },
          "metadata": {
            "tags": []
          },
          "execution_count": 102
        }
      ]
    },
    {
      "cell_type": "code",
      "metadata": {
        "id": "S7LEYE-xR-0Z"
      },
      "source": [
        "seq_len = 50\r\n",
        "sequence_length = seq_len + 1\r\n",
        "\r\n",
        "result = []\r\n",
        "for index in range(len(flo) - sequence_length):\r\n",
        "    result.append(flo[index: index + sequence_length])"
      ],
      "execution_count": 103,
      "outputs": []
    },
    {
      "cell_type": "code",
      "metadata": {
        "colab": {
          "base_uri": "https://localhost:8080/"
        },
        "id": "uR1RD12oSBPP",
        "outputId": "125ade49-ef4b-4853-829c-67deedd4f038"
      },
      "source": [
        "# z-score 정규화\r\n",
        "normalized_data = []\r\n",
        "window_mean = []\r\n",
        "window_std = []\r\n",
        "\r\n",
        "for window in result:\r\n",
        "    normalized_window = [((p - np.mean(window)) / np.std(window)) for p in window]\r\n",
        "    normalized_data.append(normalized_window)\r\n",
        "    window_mean.append(np.mean(window))\r\n",
        "    window_std.append(np.std(window))\r\n",
        "\r\n",
        "result = np.array(normalized_data)\r\n",
        "\r\n",
        "x_test = result[:, :-1]\r\n",
        "x_test = np.reshape(x_test, (x_test.shape[0], x_test.shape[1], 1))\r\n",
        "y_test = result[:, -1]\r\n",
        "\r\n",
        "x_test.shape"
      ],
      "execution_count": 104,
      "outputs": [
        {
          "output_type": "execute_result",
          "data": {
            "text/plain": [
              "(299, 50, 1)"
            ]
          },
          "metadata": {
            "tags": []
          },
          "execution_count": 104
        }
      ]
    },
    {
      "cell_type": "code",
      "metadata": {
        "colab": {
          "base_uri": "https://localhost:8080/"
        },
        "id": "t-tDtgToSBgn",
        "outputId": "260db988-d262-4084-dc6f-bfa6123760c7"
      },
      "source": [
        "\r\n",
        "model2 = Sequential()\r\n",
        "\r\n",
        "model2.add(LSTM(50, return_sequences=True, input_shape=(50, 1)))\r\n",
        "\r\n",
        "model2.add(LSTM(32, return_sequences=False))\r\n",
        "\r\n",
        "model2.add(Dense(1, activation='linear'))\r\n",
        "\r\n",
        "model2.compile(loss='mse', optimizer='adam')\r\n",
        "\r\n",
        "model2.summary()"
      ],
      "execution_count": 105,
      "outputs": [
        {
          "output_type": "stream",
          "text": [
            "Model: \"sequential_2\"\n",
            "_________________________________________________________________\n",
            "Layer (type)                 Output Shape              Param #   \n",
            "=================================================================\n",
            "lstm_3 (LSTM)                (None, 50, 50)            10400     \n",
            "_________________________________________________________________\n",
            "lstm_4 (LSTM)                (None, 32)                10624     \n",
            "_________________________________________________________________\n",
            "dense_2 (Dense)              (None, 1)                 33        \n",
            "=================================================================\n",
            "Total params: 21,057\n",
            "Trainable params: 21,057\n",
            "Non-trainable params: 0\n",
            "_________________________________________________________________\n"
          ],
          "name": "stdout"
        }
      ]
    },
    {
      "cell_type": "code",
      "metadata": {
        "id": "IPcTh07rSC_X"
      },
      "source": [
        "pred = model2.predict(x_test)"
      ],
      "execution_count": 106,
      "outputs": []
    },
    {
      "cell_type": "code",
      "metadata": {
        "id": "scnekdgKSEv5"
      },
      "source": [
        "# 복원\r\n",
        "pred_result = []\r\n",
        "pred_y = []\r\n",
        "for i in range(len(pred)):\r\n",
        "    n1 = (pred[i] * window_std[i]) + window_mean[i]\r\n",
        "    n2 = (y_test[i] * window_std[i]) + window_mean[i]\r\n",
        "    pred_result.append(n1)\r\n",
        "    pred_y.append(n2)"
      ],
      "execution_count": 107,
      "outputs": []
    },
    {
      "cell_type": "code",
      "metadata": {
        "colab": {
          "base_uri": "https://localhost:8080/",
          "height": 592
        },
        "id": "eLyMqAIlSF3O",
        "outputId": "edae23de-c7fb-4a75-d990-3ed1d2a55e7f"
      },
      "source": [
        "fig = plt.figure(facecolor='white', figsize=(20, 10))\r\n",
        "ax = fig.add_subplot(111)\r\n",
        "ax.plot(pred_result, label='Prediction')\r\n",
        "ax.legend()\r\n",
        "plt.show()"
      ],
      "execution_count": 108,
      "outputs": [
        {
          "output_type": "display_data",
          "data": {
            "image/png": "[encoded data removed]",
            "text/plain": [
              "<Figure size 1440x720 with 1 Axes>"
            ]
          },
          "metadata": {
            "tags": []
          }
        }
      ]
    },
    {
      "cell_type": "code",
      "metadata": {
        "colab": {
          "base_uri": "https://localhost:8080/"
        },
        "id": "9TCnuf2GSHIR",
        "outputId": "302a8056-fcad-4483-ff27-9c0e485f8468"
      },
      "source": [
        "print('환율', '%0.4f'%float(pred_result[-1]))"
      ],
      "execution_count": 109,
      "outputs": [
        {
          "output_type": "stream",
          "text": [
            "환율 1128.5155\n"
          ],
          "name": "stdout"
        }
      ]
    },
    {
      "cell_type": "code",
      "metadata": {
        "id": "RVM7GFZhSJwd"
      },
      "source": [
        ""
      ],
      "execution_count": 109,
      "outputs": []
    }
  ]
}