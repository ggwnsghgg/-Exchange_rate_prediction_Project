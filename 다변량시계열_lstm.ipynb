{
  "nbformat": 4,
  "nbformat_minor": 0,
  "metadata": {
    "colab": {
      "name": "다변량시계열_lstm.ipynb",
      "provenance": [],
      "collapsed_sections": [],
      "include_colab_link": true
    },
    "kernelspec": {
      "name": "python3",
      "display_name": "Python 3"
    },
    "accelerator": "GPU"
  },
  "cells": [
    {
      "cell_type": "markdown",
      "metadata": {
        "id": "view-in-github",
        "colab_type": "text"
      },
      "source": [
        "<a href=\"https://colab.research.google.com/github/ggwnsghgg/Exchange_rate_prediction_Project/blob/main/%EB%8B%A4%EB%B3%80%EB%9F%89%EC%8B%9C%EA%B3%84%EC%97%B4_lstm.ipynb\" target=\"_parent\"><img src=\"https://colab.research.google.com/assets/colab-badge.svg\" alt=\"Open In Colab\"/></a>"
      ]
    },
    {
      "cell_type": "code",
      "metadata": {
        "id": "9J5uOwt6EWj2"
      },
      "source": [
        "import tensorflow as tf\r\n",
        "from tensorflow.keras.callbacks import CSVLogger, EarlyStopping\r\n",
        "\r\n",
        "import matplotlib.pyplot as plt\r\n",
        "import matplotlib as mpl\r\n",
        "import seaborn as sns\r\n",
        "import numpy as np\r\n",
        "import os \r\n",
        "import pandas as pd\r\n",
        "from google.colab import files\r\n",
        "import warnings\r\n",
        "from pandas import DataFrame\r\n",
        "from keras.models import Sequential\r\n",
        "from keras.layers import LSTM\r\n",
        "from keras.layers import Dense\r\n",
        "from keras.layers import concatenate\r\n",
        "from math import sqrt\r\n",
        "from sklearn import preprocessing\r\n",
        "import matplotlib.pyplot as plt\r\n",
        "from keras.utils import np_utils\r\n",
        "import pandas as pd\r\n",
        "\r\n",
        "\r\n",
        "warnings.simplefilter('ignore')\r\n",
        "\r\n",
        "mpl.rcParams['figure.figsize'] = (8, 6)\r\n",
        "mpl.rcParams['axes.grid'] = False"
      ],
      "execution_count": 111,
      "outputs": []
    },
    {
      "cell_type": "code",
      "metadata": {
        "colab": {
          "resources": {
            "http://localhost:8080/nbextensions/google.colab/files.js": {
              "data": "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",
              "ok": true,
              "headers": [
                [
                  "content-type",
                  "application/javascript"
                ]
              ],
              "status": 200,
              "status_text": ""
            }
          },
          "base_uri": "https://localhost:8080/",
          "height": 76
        },
        "id": "9UM7eAu4eKsw",
        "outputId": "43178748-3833-4104-a029-e65156a8ac18"
      },
      "source": [
        "myfile = files.upload()"
      ],
      "execution_count": 112,
      "outputs": [
        {
          "output_type": "display_data",
          "data": {
            "text/html": [
              "\n",
              "     <input type=\"file\" id=\"files-89e357a0-b0d3-4a6f-87d7-7af422c1939c\" name=\"files[]\" multiple disabled\n",
              "        style=\"border:none\" />\n",
              "     <output id=\"result-89e357a0-b0d3-4a6f-87d7-7af422c1939c\">\n",
              "      Upload widget is only available when the cell has been executed in the\n",
              "      current browser session. Please rerun this cell to enable.\n",
              "      </output>\n",
              "      <script src=\"/nbextensions/google.colab/files.js\"></script> "
            ],
            "text/plain": [
              "<IPython.core.display.HTML object>"
            ]
          },
          "metadata": {
            "tags": []
          }
        },
        {
          "output_type": "stream",
          "text": [
            "Saving test.csv to test (2).csv\n"
          ],
          "name": "stdout"
        }
      ]
    },
    {
      "cell_type": "code",
      "metadata": {
        "colab": {
          "base_uri": "https://localhost:8080/",
          "height": 222
        },
        "id": "TQ0Z_Fa3EgC1",
        "outputId": "4bccb2ca-8129-488e-eb5f-7feeb2b40cd3"
      },
      "source": [
        "\r\n",
        "#데이터 읽자\r\n",
        "#천단위 콤마 제거 해주자 나중에 또 하기 귀찮으니까!(결정적으로 float형 유지를 위해)\r\n",
        "df = pd.read_csv('test.csv', thousands = ',')\r\n",
        "print(df.shape)\r\n",
        "df.tail()"
      ],
      "execution_count": 113,
      "outputs": [
        {
          "output_type": "stream",
          "text": [
            "(1762, 8)\n"
          ],
          "name": "stdout"
        },
        {
          "output_type": "execute_result",
          "data": {
            "text/html": [
              "<div>\n",
              "<style scoped>\n",
              "    .dataframe tbody tr th:only-of-type {\n",
              "        vertical-align: middle;\n",
              "    }\n",
              "\n",
              "    .dataframe tbody tr th {\n",
              "        vertical-align: top;\n",
              "    }\n",
              "\n",
              "    .dataframe thead th {\n",
              "        text-align: right;\n",
              "    }\n",
              "</style>\n",
              "<table border=\"1\" class=\"dataframe\">\n",
              "  <thead>\n",
              "    <tr style=\"text-align: right;\">\n",
              "      <th></th>\n",
              "      <th>Date</th>\n",
              "      <th>ExchangeRate</th>\n",
              "      <th>KRX100</th>\n",
              "      <th>KORIBOR</th>\n",
              "      <th>LIBOR</th>\n",
              "      <th>달러지수 (종가)</th>\n",
              "      <th>콜금리</th>\n",
              "      <th>KOSPI</th>\n",
              "    </tr>\n",
              "  </thead>\n",
              "  <tbody>\n",
              "    <tr>\n",
              "      <th>1757</th>\n",
              "      <td>2021.02.17</td>\n",
              "      <td>1,099.70</td>\n",
              "      <td>6764.11</td>\n",
              "      <td>0.87</td>\n",
              "      <td>NaN</td>\n",
              "      <td>90.95</td>\n",
              "      <td>0.47</td>\n",
              "      <td>3,133.73</td>\n",
              "    </tr>\n",
              "    <tr>\n",
              "      <th>1758</th>\n",
              "      <td>2021.02.18</td>\n",
              "      <td>1,107.70</td>\n",
              "      <td>6652.76</td>\n",
              "      <td>0.87</td>\n",
              "      <td>NaN</td>\n",
              "      <td>90.59</td>\n",
              "      <td>0.49</td>\n",
              "      <td>3,086.66</td>\n",
              "    </tr>\n",
              "    <tr>\n",
              "      <th>1759</th>\n",
              "      <td>2021.02.19</td>\n",
              "      <td>1,105.70</td>\n",
              "      <td>6712.32</td>\n",
              "      <td>0.86</td>\n",
              "      <td>NaN</td>\n",
              "      <td>90.36</td>\n",
              "      <td>0.51</td>\n",
              "      <td>3,107.62</td>\n",
              "    </tr>\n",
              "    <tr>\n",
              "      <th>1760</th>\n",
              "      <td>2021.02.22</td>\n",
              "      <td>1,107.10</td>\n",
              "      <td>6635.92</td>\n",
              "      <td>0.86</td>\n",
              "      <td>NaN</td>\n",
              "      <td>90.01</td>\n",
              "      <td>0.50</td>\n",
              "      <td>3,079.75</td>\n",
              "    </tr>\n",
              "    <tr>\n",
              "      <th>1761</th>\n",
              "      <td>2021.02.23</td>\n",
              "      <td>1,106.50</td>\n",
              "      <td>6607.24</td>\n",
              "      <td>0.86</td>\n",
              "      <td>NaN</td>\n",
              "      <td>90.17</td>\n",
              "      <td>0.49</td>\n",
              "      <td>3,070.09</td>\n",
              "    </tr>\n",
              "  </tbody>\n",
              "</table>\n",
              "</div>"
            ],
            "text/plain": [
              "            Date ExchangeRate   KRX100  ...  달러지수 (종가)   콜금리     KOSPI\n",
              "1757  2021.02.17     1,099.70  6764.11  ...      90.95  0.47  3,133.73\n",
              "1758  2021.02.18     1,107.70  6652.76  ...      90.59  0.49  3,086.66\n",
              "1759  2021.02.19     1,105.70  6712.32  ...      90.36  0.51  3,107.62\n",
              "1760  2021.02.22     1,107.10  6635.92  ...      90.01  0.50  3,079.75\n",
              "1761  2021.02.23     1,106.50  6607.24  ...      90.17  0.49  3,070.09\n",
              "\n",
              "[5 rows x 8 columns]"
            ]
          },
          "metadata": {
            "tags": []
          },
          "execution_count": 113
        }
      ]
    },
    {
      "cell_type": "code",
      "metadata": {
        "id": "WmHJpvgzE-CP"
      },
      "source": [
        "\r\n",
        "#열이름 한국어인거 영어로 변경하자\r\n",
        "name = [\"Date\", \"ExchangeRate\",\"KRX100\", \"KORIBOR\", \"LIBOR\", \"DollarRate\",\r\n",
        "       \"CallRate\",\"KOSPI\"]\r\n",
        "df1= df.rename(columns = dict(zip(df.columns,name)))"
      ],
      "execution_count": 114,
      "outputs": []
    },
    {
      "cell_type": "code",
      "metadata": {
        "colab": {
          "base_uri": "https://localhost:8080/",
          "height": 204
        },
        "id": "Y7VDshE_FK0G",
        "outputId": "18749f81-0aea-4a41-ca35-bda6de0bb52c"
      },
      "source": [
        "#천단위 쉼표 제거\r\n",
        "df1['ExchangeRate'] = df1['ExchangeRate'].str.replace(',','')\r\n",
        "df1['KOSPI'] = df1['KOSPI'].str.replace(',','')\r\n",
        "df1.tail()"
      ],
      "execution_count": 115,
      "outputs": [
        {
          "output_type": "execute_result",
          "data": {
            "text/html": [
              "<div>\n",
              "<style scoped>\n",
              "    .dataframe tbody tr th:only-of-type {\n",
              "        vertical-align: middle;\n",
              "    }\n",
              "\n",
              "    .dataframe tbody tr th {\n",
              "        vertical-align: top;\n",
              "    }\n",
              "\n",
              "    .dataframe thead th {\n",
              "        text-align: right;\n",
              "    }\n",
              "</style>\n",
              "<table border=\"1\" class=\"dataframe\">\n",
              "  <thead>\n",
              "    <tr style=\"text-align: right;\">\n",
              "      <th></th>\n",
              "      <th>Date</th>\n",
              "      <th>ExchangeRate</th>\n",
              "      <th>KRX100</th>\n",
              "      <th>KORIBOR</th>\n",
              "      <th>LIBOR</th>\n",
              "      <th>DollarRate</th>\n",
              "      <th>CallRate</th>\n",
              "      <th>KOSPI</th>\n",
              "    </tr>\n",
              "  </thead>\n",
              "  <tbody>\n",
              "    <tr>\n",
              "      <th>1757</th>\n",
              "      <td>2021.02.17</td>\n",
              "      <td>1099.70</td>\n",
              "      <td>6764.11</td>\n",
              "      <td>0.87</td>\n",
              "      <td>NaN</td>\n",
              "      <td>90.95</td>\n",
              "      <td>0.47</td>\n",
              "      <td>3133.73</td>\n",
              "    </tr>\n",
              "    <tr>\n",
              "      <th>1758</th>\n",
              "      <td>2021.02.18</td>\n",
              "      <td>1107.70</td>\n",
              "      <td>6652.76</td>\n",
              "      <td>0.87</td>\n",
              "      <td>NaN</td>\n",
              "      <td>90.59</td>\n",
              "      <td>0.49</td>\n",
              "      <td>3086.66</td>\n",
              "    </tr>\n",
              "    <tr>\n",
              "      <th>1759</th>\n",
              "      <td>2021.02.19</td>\n",
              "      <td>1105.70</td>\n",
              "      <td>6712.32</td>\n",
              "      <td>0.86</td>\n",
              "      <td>NaN</td>\n",
              "      <td>90.36</td>\n",
              "      <td>0.51</td>\n",
              "      <td>3107.62</td>\n",
              "    </tr>\n",
              "    <tr>\n",
              "      <th>1760</th>\n",
              "      <td>2021.02.22</td>\n",
              "      <td>1107.10</td>\n",
              "      <td>6635.92</td>\n",
              "      <td>0.86</td>\n",
              "      <td>NaN</td>\n",
              "      <td>90.01</td>\n",
              "      <td>0.50</td>\n",
              "      <td>3079.75</td>\n",
              "    </tr>\n",
              "    <tr>\n",
              "      <th>1761</th>\n",
              "      <td>2021.02.23</td>\n",
              "      <td>1106.50</td>\n",
              "      <td>6607.24</td>\n",
              "      <td>0.86</td>\n",
              "      <td>NaN</td>\n",
              "      <td>90.17</td>\n",
              "      <td>0.49</td>\n",
              "      <td>3070.09</td>\n",
              "    </tr>\n",
              "  </tbody>\n",
              "</table>\n",
              "</div>"
            ],
            "text/plain": [
              "            Date ExchangeRate   KRX100  ...  DollarRate  CallRate    KOSPI\n",
              "1757  2021.02.17      1099.70  6764.11  ...       90.95      0.47  3133.73\n",
              "1758  2021.02.18      1107.70  6652.76  ...       90.59      0.49  3086.66\n",
              "1759  2021.02.19      1105.70  6712.32  ...       90.36      0.51  3107.62\n",
              "1760  2021.02.22      1107.10  6635.92  ...       90.01      0.50  3079.75\n",
              "1761  2021.02.23      1106.50  6607.24  ...       90.17      0.49  3070.09\n",
              "\n",
              "[5 rows x 8 columns]"
            ]
          },
          "metadata": {
            "tags": []
          },
          "execution_count": 115
        }
      ]
    },
    {
      "cell_type": "code",
      "metadata": {
        "id": "bNGGnVmTFMwm"
      },
      "source": [
        "\r\n",
        "#오브젝트형 데이터 실수로 형변환\r\n",
        "df1[\"KOSPI\"] = pd.to_numeric(df1.KOSPI, errors='coerce')\r\n",
        "df1[\"ExchangeRate\"] = pd.to_numeric(df1.ExchangeRate, errors='coerce')"
      ],
      "execution_count": 116,
      "outputs": []
    },
    {
      "cell_type": "code",
      "metadata": {
        "colab": {
          "base_uri": "https://localhost:8080/"
        },
        "id": "zpHyPRiNFOXA",
        "outputId": "229d2171-77cd-4dab-edb1-0bcb5110e402"
      },
      "source": [
        "#결측값 확인\r\n",
        "df1.isna().sum()"
      ],
      "execution_count": 117,
      "outputs": [
        {
          "output_type": "execute_result",
          "data": {
            "text/plain": [
              "Date             0\n",
              "ExchangeRate     1\n",
              "KRX100           6\n",
              "KORIBOR          0\n",
              "LIBOR           92\n",
              "DollarRate       7\n",
              "CallRate         0\n",
              "KOSPI            7\n",
              "dtype: int64"
            ]
          },
          "metadata": {
            "tags": []
          },
          "execution_count": 117
        }
      ]
    },
    {
      "cell_type": "code",
      "metadata": {
        "colab": {
          "base_uri": "https://localhost:8080/",
          "height": 204
        },
        "id": "PgRywqn2FQO1",
        "outputId": "fba2b53b-7ea3-4e51-a595-207c781099b7"
      },
      "source": [
        "#결측치를 값에 선형 비례하는식으로 결측값을 보간해봤다\r\n",
        "df_intp = df1.interpolate(method = 'values')\r\n",
        "\r\n",
        "df_intp.tail()"
      ],
      "execution_count": 118,
      "outputs": [
        {
          "output_type": "execute_result",
          "data": {
            "text/html": [
              "<div>\n",
              "<style scoped>\n",
              "    .dataframe tbody tr th:only-of-type {\n",
              "        vertical-align: middle;\n",
              "    }\n",
              "\n",
              "    .dataframe tbody tr th {\n",
              "        vertical-align: top;\n",
              "    }\n",
              "\n",
              "    .dataframe thead th {\n",
              "        text-align: right;\n",
              "    }\n",
              "</style>\n",
              "<table border=\"1\" class=\"dataframe\">\n",
              "  <thead>\n",
              "    <tr style=\"text-align: right;\">\n",
              "      <th></th>\n",
              "      <th>Date</th>\n",
              "      <th>ExchangeRate</th>\n",
              "      <th>KRX100</th>\n",
              "      <th>KORIBOR</th>\n",
              "      <th>LIBOR</th>\n",
              "      <th>DollarRate</th>\n",
              "      <th>CallRate</th>\n",
              "      <th>KOSPI</th>\n",
              "    </tr>\n",
              "  </thead>\n",
              "  <tbody>\n",
              "    <tr>\n",
              "      <th>1757</th>\n",
              "      <td>2021.02.17</td>\n",
              "      <td>1099.7</td>\n",
              "      <td>6764.11</td>\n",
              "      <td>0.87</td>\n",
              "      <td>0.0815</td>\n",
              "      <td>90.95</td>\n",
              "      <td>0.47</td>\n",
              "      <td>3133.73</td>\n",
              "    </tr>\n",
              "    <tr>\n",
              "      <th>1758</th>\n",
              "      <td>2021.02.18</td>\n",
              "      <td>1107.7</td>\n",
              "      <td>6652.76</td>\n",
              "      <td>0.87</td>\n",
              "      <td>0.0815</td>\n",
              "      <td>90.59</td>\n",
              "      <td>0.49</td>\n",
              "      <td>3086.66</td>\n",
              "    </tr>\n",
              "    <tr>\n",
              "      <th>1759</th>\n",
              "      <td>2021.02.19</td>\n",
              "      <td>1105.7</td>\n",
              "      <td>6712.32</td>\n",
              "      <td>0.86</td>\n",
              "      <td>0.0815</td>\n",
              "      <td>90.36</td>\n",
              "      <td>0.51</td>\n",
              "      <td>3107.62</td>\n",
              "    </tr>\n",
              "    <tr>\n",
              "      <th>1760</th>\n",
              "      <td>2021.02.22</td>\n",
              "      <td>1107.1</td>\n",
              "      <td>6635.92</td>\n",
              "      <td>0.86</td>\n",
              "      <td>0.0815</td>\n",
              "      <td>90.01</td>\n",
              "      <td>0.50</td>\n",
              "      <td>3079.75</td>\n",
              "    </tr>\n",
              "    <tr>\n",
              "      <th>1761</th>\n",
              "      <td>2021.02.23</td>\n",
              "      <td>1106.5</td>\n",
              "      <td>6607.24</td>\n",
              "      <td>0.86</td>\n",
              "      <td>0.0815</td>\n",
              "      <td>90.17</td>\n",
              "      <td>0.49</td>\n",
              "      <td>3070.09</td>\n",
              "    </tr>\n",
              "  </tbody>\n",
              "</table>\n",
              "</div>"
            ],
            "text/plain": [
              "            Date  ExchangeRate   KRX100  ...  DollarRate  CallRate    KOSPI\n",
              "1757  2021.02.17        1099.7  6764.11  ...       90.95      0.47  3133.73\n",
              "1758  2021.02.18        1107.7  6652.76  ...       90.59      0.49  3086.66\n",
              "1759  2021.02.19        1105.7  6712.32  ...       90.36      0.51  3107.62\n",
              "1760  2021.02.22        1107.1  6635.92  ...       90.01      0.50  3079.75\n",
              "1761  2021.02.23        1106.5  6607.24  ...       90.17      0.49  3070.09\n",
              "\n",
              "[5 rows x 8 columns]"
            ]
          },
          "metadata": {
            "tags": []
          },
          "execution_count": 118
        }
      ]
    },
    {
      "cell_type": "code",
      "metadata": {
        "id": "HRlDKNAOFShK"
      },
      "source": [
        "#날짜 데이터타임형식으로 미리 변경해놓자\r\n",
        "df_intp['Date'] = pd.to_datetime(df_intp['Date'], errors='coerce')"
      ],
      "execution_count": 119,
      "outputs": []
    },
    {
      "cell_type": "code",
      "metadata": {
        "colab": {
          "base_uri": "https://localhost:8080/",
          "height": 235
        },
        "id": "20yMRdR6FUGz",
        "outputId": "029f305b-5750-4dad-dbb6-348e779f9a3e"
      },
      "source": [
        "\r\n",
        "#날짜가 인덱스인 경우도 생성 해놓자\r\n",
        "df_date = df_intp.set_index('Date')\r\n",
        "df_date.head()"
      ],
      "execution_count": 120,
      "outputs": [
        {
          "output_type": "execute_result",
          "data": {
            "text/html": [
              "<div>\n",
              "<style scoped>\n",
              "    .dataframe tbody tr th:only-of-type {\n",
              "        vertical-align: middle;\n",
              "    }\n",
              "\n",
              "    .dataframe tbody tr th {\n",
              "        vertical-align: top;\n",
              "    }\n",
              "\n",
              "    .dataframe thead th {\n",
              "        text-align: right;\n",
              "    }\n",
              "</style>\n",
              "<table border=\"1\" class=\"dataframe\">\n",
              "  <thead>\n",
              "    <tr style=\"text-align: right;\">\n",
              "      <th></th>\n",
              "      <th>ExchangeRate</th>\n",
              "      <th>KRX100</th>\n",
              "      <th>KORIBOR</th>\n",
              "      <th>LIBOR</th>\n",
              "      <th>DollarRate</th>\n",
              "      <th>CallRate</th>\n",
              "      <th>KOSPI</th>\n",
              "    </tr>\n",
              "    <tr>\n",
              "      <th>Date</th>\n",
              "      <th></th>\n",
              "      <th></th>\n",
              "      <th></th>\n",
              "      <th></th>\n",
              "      <th></th>\n",
              "      <th></th>\n",
              "      <th></th>\n",
              "    </tr>\n",
              "  </thead>\n",
              "  <tbody>\n",
              "    <tr>\n",
              "      <th>2014-01-02</th>\n",
              "      <td>1055.3</td>\n",
              "      <td>4263.64</td>\n",
              "      <td>2.78</td>\n",
              "      <td>0.0956</td>\n",
              "      <td>80.79</td>\n",
              "      <td>2.51</td>\n",
              "      <td>1967.19</td>\n",
              "    </tr>\n",
              "    <tr>\n",
              "      <th>2014-01-03</th>\n",
              "      <td>1050.4</td>\n",
              "      <td>4209.03</td>\n",
              "      <td>2.78</td>\n",
              "      <td>0.0950</td>\n",
              "      <td>80.96</td>\n",
              "      <td>2.50</td>\n",
              "      <td>1946.14</td>\n",
              "    </tr>\n",
              "    <tr>\n",
              "      <th>2014-01-06</th>\n",
              "      <td>1054.1</td>\n",
              "      <td>4221.13</td>\n",
              "      <td>2.77</td>\n",
              "      <td>0.0945</td>\n",
              "      <td>80.81</td>\n",
              "      <td>2.48</td>\n",
              "      <td>1953.28</td>\n",
              "    </tr>\n",
              "    <tr>\n",
              "      <th>2014-01-07</th>\n",
              "      <td>1062.2</td>\n",
              "      <td>4233.05</td>\n",
              "      <td>2.75</td>\n",
              "      <td>0.0926</td>\n",
              "      <td>80.98</td>\n",
              "      <td>2.50</td>\n",
              "      <td>1959.44</td>\n",
              "    </tr>\n",
              "    <tr>\n",
              "      <th>2014-01-08</th>\n",
              "      <td>1067.9</td>\n",
              "      <td>4232.26</td>\n",
              "      <td>2.75</td>\n",
              "      <td>0.0925</td>\n",
              "      <td>81.16</td>\n",
              "      <td>2.49</td>\n",
              "      <td>1958.96</td>\n",
              "    </tr>\n",
              "  </tbody>\n",
              "</table>\n",
              "</div>"
            ],
            "text/plain": [
              "            ExchangeRate   KRX100  KORIBOR  ...  DollarRate  CallRate    KOSPI\n",
              "Date                                        ...                               \n",
              "2014-01-02        1055.3  4263.64     2.78  ...       80.79      2.51  1967.19\n",
              "2014-01-03        1050.4  4209.03     2.78  ...       80.96      2.50  1946.14\n",
              "2014-01-06        1054.1  4221.13     2.77  ...       80.81      2.48  1953.28\n",
              "2014-01-07        1062.2  4233.05     2.75  ...       80.98      2.50  1959.44\n",
              "2014-01-08        1067.9  4232.26     2.75  ...       81.16      2.49  1958.96\n",
              "\n",
              "[5 rows x 7 columns]"
            ]
          },
          "metadata": {
            "tags": []
          },
          "execution_count": 120
        }
      ]
    },
    {
      "cell_type": "code",
      "metadata": {
        "colab": {
          "base_uri": "https://localhost:8080/",
          "height": 581
        },
        "id": "eO4TFZEjFVqs",
        "outputId": "d86d8a70-6229-4655-9ba7-8330ae0464a0"
      },
      "source": [
        "#시각화 해보자\r\n",
        "df_intp.plot(y='ExchangeRate', x='Date', figsize = (20,10))"
      ],
      "execution_count": 121,
      "outputs": [
        {
          "output_type": "execute_result",
          "data": {
            "text/plain": [
              "<matplotlib.axes._subplots.AxesSubplot at 0x7eff9880d550>"
            ]
          },
          "metadata": {
            "tags": []
          },
          "execution_count": 121
        },
        {
          "output_type": "display_data",
          "data": {
            "image/png": "[encoded data removed]",
            "text/plain": [
              "<Figure size 1440x720 with 1 Axes>"
            ]
          },
          "metadata": {
            "tags": [],
            "needs_background": "light"
          }
        }
      ]
    },
    {
      "cell_type": "code",
      "metadata": {
        "colab": {
          "base_uri": "https://localhost:8080/",
          "height": 450
        },
        "id": "HtnUVFDmFYmC",
        "outputId": "2035a676-e68f-4a7f-d581-bbb8fac46851"
      },
      "source": [
        "from sklearn.preprocessing import MinMaxScaler\r\n",
        "\r\n",
        "#scaler 객체 생성\r\n",
        "scaler = MinMaxScaler()\r\n",
        "\r\n",
        "#데이터셋 변환\r\n",
        "scaler.fit(df_date)\r\n",
        "date_scaler = scaler.transform(df_date)\r\n",
        "\r\n",
        "#transform 변환을 하면 배열 형식으로 바뀌는데 그걸 다시 데이터 프레임 형식으로 넘기자\r\n",
        "df_scaler = pd.DataFrame(date_scaler, columns = df_date.columns, index = df_date.index)\r\n",
        "df_scaler"
      ],
      "execution_count": 122,
      "outputs": [
        {
          "output_type": "execute_result",
          "data": {
            "text/html": [
              "<div>\n",
              "<style scoped>\n",
              "    .dataframe tbody tr th:only-of-type {\n",
              "        vertical-align: middle;\n",
              "    }\n",
              "\n",
              "    .dataframe tbody tr th {\n",
              "        vertical-align: top;\n",
              "    }\n",
              "\n",
              "    .dataframe thead th {\n",
              "        text-align: right;\n",
              "    }\n",
              "</style>\n",
              "<table border=\"1\" class=\"dataframe\">\n",
              "  <thead>\n",
              "    <tr style=\"text-align: right;\">\n",
              "      <th></th>\n",
              "      <th>ExchangeRate</th>\n",
              "      <th>KRX100</th>\n",
              "      <th>KORIBOR</th>\n",
              "      <th>LIBOR</th>\n",
              "      <th>DollarRate</th>\n",
              "      <th>CallRate</th>\n",
              "      <th>KOSPI</th>\n",
              "    </tr>\n",
              "    <tr>\n",
              "      <th>Date</th>\n",
              "      <th></th>\n",
              "      <th></th>\n",
              "      <th></th>\n",
              "      <th></th>\n",
              "      <th></th>\n",
              "      <th></th>\n",
              "      <th></th>\n",
              "    </tr>\n",
              "  </thead>\n",
              "  <tbody>\n",
              "    <tr>\n",
              "      <th>2014-01-02</th>\n",
              "      <td>0.171091</td>\n",
              "      <td>0.277568</td>\n",
              "      <td>1.000000</td>\n",
              "      <td>0.019069</td>\n",
              "      <td>0.064449</td>\n",
              "      <td>0.995215</td>\n",
              "      <td>0.290947</td>\n",
              "    </tr>\n",
              "    <tr>\n",
              "      <th>2014-01-03</th>\n",
              "      <td>0.153024</td>\n",
              "      <td>0.262975</td>\n",
              "      <td>1.000000</td>\n",
              "      <td>0.018814</td>\n",
              "      <td>0.071518</td>\n",
              "      <td>0.990431</td>\n",
              "      <td>0.278928</td>\n",
              "    </tr>\n",
              "    <tr>\n",
              "      <th>2014-01-06</th>\n",
              "      <td>0.166667</td>\n",
              "      <td>0.266208</td>\n",
              "      <td>0.995025</td>\n",
              "      <td>0.018601</td>\n",
              "      <td>0.065281</td>\n",
              "      <td>0.980861</td>\n",
              "      <td>0.283005</td>\n",
              "    </tr>\n",
              "    <tr>\n",
              "      <th>2014-01-07</th>\n",
              "      <td>0.196534</td>\n",
              "      <td>0.269393</td>\n",
              "      <td>0.985075</td>\n",
              "      <td>0.017793</td>\n",
              "      <td>0.072349</td>\n",
              "      <td>0.990431</td>\n",
              "      <td>0.286522</td>\n",
              "    </tr>\n",
              "    <tr>\n",
              "      <th>2014-01-08</th>\n",
              "      <td>0.217552</td>\n",
              "      <td>0.269182</td>\n",
              "      <td>0.985075</td>\n",
              "      <td>0.017751</td>\n",
              "      <td>0.079834</td>\n",
              "      <td>0.985646</td>\n",
              "      <td>0.286248</td>\n",
              "    </tr>\n",
              "    <tr>\n",
              "      <th>...</th>\n",
              "      <td>...</td>\n",
              "      <td>...</td>\n",
              "      <td>...</td>\n",
              "      <td>...</td>\n",
              "      <td>...</td>\n",
              "      <td>...</td>\n",
              "      <td>...</td>\n",
              "    </tr>\n",
              "    <tr>\n",
              "      <th>2021-02-17</th>\n",
              "      <td>0.334808</td>\n",
              "      <td>0.945766</td>\n",
              "      <td>0.049751</td>\n",
              "      <td>0.013074</td>\n",
              "      <td>0.486902</td>\n",
              "      <td>0.019139</td>\n",
              "      <td>0.957027</td>\n",
              "    </tr>\n",
              "    <tr>\n",
              "      <th>2021-02-18</th>\n",
              "      <td>0.364307</td>\n",
              "      <td>0.916010</td>\n",
              "      <td>0.049751</td>\n",
              "      <td>0.013074</td>\n",
              "      <td>0.471933</td>\n",
              "      <td>0.028708</td>\n",
              "      <td>0.930151</td>\n",
              "    </tr>\n",
              "    <tr>\n",
              "      <th>2021-02-19</th>\n",
              "      <td>0.356932</td>\n",
              "      <td>0.931926</td>\n",
              "      <td>0.044776</td>\n",
              "      <td>0.013074</td>\n",
              "      <td>0.462370</td>\n",
              "      <td>0.038278</td>\n",
              "      <td>0.942119</td>\n",
              "    </tr>\n",
              "    <tr>\n",
              "      <th>2021-02-22</th>\n",
              "      <td>0.362094</td>\n",
              "      <td>0.911510</td>\n",
              "      <td>0.044776</td>\n",
              "      <td>0.013074</td>\n",
              "      <td>0.447817</td>\n",
              "      <td>0.033493</td>\n",
              "      <td>0.926205</td>\n",
              "    </tr>\n",
              "    <tr>\n",
              "      <th>2021-02-23</th>\n",
              "      <td>0.359882</td>\n",
              "      <td>0.903846</td>\n",
              "      <td>0.044776</td>\n",
              "      <td>0.013074</td>\n",
              "      <td>0.454470</td>\n",
              "      <td>0.028708</td>\n",
              "      <td>0.920690</td>\n",
              "    </tr>\n",
              "  </tbody>\n",
              "</table>\n",
              "<p>1762 rows × 7 columns</p>\n",
              "</div>"
            ],
            "text/plain": [
              "            ExchangeRate    KRX100   KORIBOR  ...  DollarRate  CallRate     KOSPI\n",
              "Date                                          ...                                \n",
              "2014-01-02      0.171091  0.277568  1.000000  ...    0.064449  0.995215  0.290947\n",
              "2014-01-03      0.153024  0.262975  1.000000  ...    0.071518  0.990431  0.278928\n",
              "2014-01-06      0.166667  0.266208  0.995025  ...    0.065281  0.980861  0.283005\n",
              "2014-01-07      0.196534  0.269393  0.985075  ...    0.072349  0.990431  0.286522\n",
              "2014-01-08      0.217552  0.269182  0.985075  ...    0.079834  0.985646  0.286248\n",
              "...                  ...       ...       ...  ...         ...       ...       ...\n",
              "2021-02-17      0.334808  0.945766  0.049751  ...    0.486902  0.019139  0.957027\n",
              "2021-02-18      0.364307  0.916010  0.049751  ...    0.471933  0.028708  0.930151\n",
              "2021-02-19      0.356932  0.931926  0.044776  ...    0.462370  0.038278  0.942119\n",
              "2021-02-22      0.362094  0.911510  0.044776  ...    0.447817  0.033493  0.926205\n",
              "2021-02-23      0.359882  0.903846  0.044776  ...    0.454470  0.028708  0.920690\n",
              "\n",
              "[1762 rows x 7 columns]"
            ]
          },
          "metadata": {
            "tags": []
          },
          "execution_count": 122
        }
      ]
    },
    {
      "cell_type": "code",
      "metadata": {
        "id": "wm4gQdCWFbl7"
      },
      "source": [
        ""
      ],
      "execution_count": 122,
      "outputs": []
    },
    {
      "cell_type": "markdown",
      "metadata": {
        "id": "7cyXKBfEFfXj"
      },
      "source": [
        "## 모델 지도학습화"
      ]
    },
    {
      "cell_type": "code",
      "metadata": {
        "id": "QeWH6gwZFi_5"
      },
      "source": [
        "def series_to_supervised(data, n_in=1, n_out=1, dropnan=True):\r\n",
        "  n_vars = 1 if type(data) is list else data.shape[1]\r\n",
        "  df = DataFrame(data)\r\n",
        "  cols, names = list(), list()\r\n",
        "  # input sequence (t-n, ... t-1)\r\n",
        "  for i in range(n_in, 0, -1):\r\n",
        "      cols.append(df.shift(i))\r\n",
        "      names += [('var%d(t-%d)' % (j+1, i)) for j in range(n_vars)]\r\n",
        "  # forecast sequence (t, t+1, ... t+n)\r\n",
        "  for i in range(0, n_out):\r\n",
        "      cols.append(df.shift(-i))\r\n",
        "      if i == 0:\r\n",
        "          names += [('var%d(t)' % (j+1)) for j in range(n_vars)]\r\n",
        "      else:\r\n",
        "          names += [('var%d(t+%d)' % (j+1, i)) for j in range(n_vars)]\r\n",
        "  # put it all together\r\n",
        "  agg = pd.concat(cols, axis=1)\r\n",
        "  agg.columns = names\r\n",
        "  # drop rows with NaN values\r\n",
        "  if dropnan:\r\n",
        "      agg.dropna(inplace=True)\r\n",
        "  return agg"
      ],
      "execution_count": 123,
      "outputs": []
    },
    {
      "cell_type": "code",
      "metadata": {
        "id": "4KJpCJycFl7d"
      },
      "source": [
        "\r\n",
        "reframed = series_to_supervised(df_scaler, 1, 1) #t-1시점,t시점 데이터를 한 행으로 둔다"
      ],
      "execution_count": 124,
      "outputs": []
    },
    {
      "cell_type": "code",
      "metadata": {
        "colab": {
          "base_uri": "https://localhost:8080/",
          "height": 235
        },
        "id": "5CRkFiuu4hiR",
        "outputId": "2ccea0ff-1b41-480f-c019-bd1334be9196"
      },
      "source": [
        "reframed.head()"
      ],
      "execution_count": 125,
      "outputs": [
        {
          "output_type": "execute_result",
          "data": {
            "text/html": [
              "<div>\n",
              "<style scoped>\n",
              "    .dataframe tbody tr th:only-of-type {\n",
              "        vertical-align: middle;\n",
              "    }\n",
              "\n",
              "    .dataframe tbody tr th {\n",
              "        vertical-align: top;\n",
              "    }\n",
              "\n",
              "    .dataframe thead th {\n",
              "        text-align: right;\n",
              "    }\n",
              "</style>\n",
              "<table border=\"1\" class=\"dataframe\">\n",
              "  <thead>\n",
              "    <tr style=\"text-align: right;\">\n",
              "      <th></th>\n",
              "      <th>var1(t-1)</th>\n",
              "      <th>var2(t-1)</th>\n",
              "      <th>var3(t-1)</th>\n",
              "      <th>var4(t-1)</th>\n",
              "      <th>var5(t-1)</th>\n",
              "      <th>var6(t-1)</th>\n",
              "      <th>var7(t-1)</th>\n",
              "      <th>var1(t)</th>\n",
              "      <th>var2(t)</th>\n",
              "      <th>var3(t)</th>\n",
              "      <th>var4(t)</th>\n",
              "      <th>var5(t)</th>\n",
              "      <th>var6(t)</th>\n",
              "      <th>var7(t)</th>\n",
              "    </tr>\n",
              "    <tr>\n",
              "      <th>Date</th>\n",
              "      <th></th>\n",
              "      <th></th>\n",
              "      <th></th>\n",
              "      <th></th>\n",
              "      <th></th>\n",
              "      <th></th>\n",
              "      <th></th>\n",
              "      <th></th>\n",
              "      <th></th>\n",
              "      <th></th>\n",
              "      <th></th>\n",
              "      <th></th>\n",
              "      <th></th>\n",
              "      <th></th>\n",
              "    </tr>\n",
              "  </thead>\n",
              "  <tbody>\n",
              "    <tr>\n",
              "      <th>2014-01-03</th>\n",
              "      <td>0.171091</td>\n",
              "      <td>0.277568</td>\n",
              "      <td>1.000000</td>\n",
              "      <td>0.019069</td>\n",
              "      <td>0.064449</td>\n",
              "      <td>0.995215</td>\n",
              "      <td>0.290947</td>\n",
              "      <td>0.153024</td>\n",
              "      <td>0.262975</td>\n",
              "      <td>1.000000</td>\n",
              "      <td>0.018814</td>\n",
              "      <td>0.071518</td>\n",
              "      <td>0.990431</td>\n",
              "      <td>0.278928</td>\n",
              "    </tr>\n",
              "    <tr>\n",
              "      <th>2014-01-06</th>\n",
              "      <td>0.153024</td>\n",
              "      <td>0.262975</td>\n",
              "      <td>1.000000</td>\n",
              "      <td>0.018814</td>\n",
              "      <td>0.071518</td>\n",
              "      <td>0.990431</td>\n",
              "      <td>0.278928</td>\n",
              "      <td>0.166667</td>\n",
              "      <td>0.266208</td>\n",
              "      <td>0.995025</td>\n",
              "      <td>0.018601</td>\n",
              "      <td>0.065281</td>\n",
              "      <td>0.980861</td>\n",
              "      <td>0.283005</td>\n",
              "    </tr>\n",
              "    <tr>\n",
              "      <th>2014-01-07</th>\n",
              "      <td>0.166667</td>\n",
              "      <td>0.266208</td>\n",
              "      <td>0.995025</td>\n",
              "      <td>0.018601</td>\n",
              "      <td>0.065281</td>\n",
              "      <td>0.980861</td>\n",
              "      <td>0.283005</td>\n",
              "      <td>0.196534</td>\n",
              "      <td>0.269393</td>\n",
              "      <td>0.985075</td>\n",
              "      <td>0.017793</td>\n",
              "      <td>0.072349</td>\n",
              "      <td>0.990431</td>\n",
              "      <td>0.286522</td>\n",
              "    </tr>\n",
              "    <tr>\n",
              "      <th>2014-01-08</th>\n",
              "      <td>0.196534</td>\n",
              "      <td>0.269393</td>\n",
              "      <td>0.985075</td>\n",
              "      <td>0.017793</td>\n",
              "      <td>0.072349</td>\n",
              "      <td>0.990431</td>\n",
              "      <td>0.286522</td>\n",
              "      <td>0.217552</td>\n",
              "      <td>0.269182</td>\n",
              "      <td>0.985075</td>\n",
              "      <td>0.017751</td>\n",
              "      <td>0.079834</td>\n",
              "      <td>0.985646</td>\n",
              "      <td>0.286248</td>\n",
              "    </tr>\n",
              "    <tr>\n",
              "      <th>2014-01-09</th>\n",
              "      <td>0.217552</td>\n",
              "      <td>0.269182</td>\n",
              "      <td>0.985075</td>\n",
              "      <td>0.017751</td>\n",
              "      <td>0.079834</td>\n",
              "      <td>0.985646</td>\n",
              "      <td>0.286248</td>\n",
              "      <td>0.210546</td>\n",
              "      <td>0.260407</td>\n",
              "      <td>0.980100</td>\n",
              "      <td>0.017496</td>\n",
              "      <td>0.079002</td>\n",
              "      <td>0.985646</td>\n",
              "      <td>0.278911</td>\n",
              "    </tr>\n",
              "  </tbody>\n",
              "</table>\n",
              "</div>"
            ],
            "text/plain": [
              "            var1(t-1)  var2(t-1)  var3(t-1)  ...   var5(t)   var6(t)   var7(t)\n",
              "Date                                         ...                              \n",
              "2014-01-03   0.171091   0.277568   1.000000  ...  0.071518  0.990431  0.278928\n",
              "2014-01-06   0.153024   0.262975   1.000000  ...  0.065281  0.980861  0.283005\n",
              "2014-01-07   0.166667   0.266208   0.995025  ...  0.072349  0.990431  0.286522\n",
              "2014-01-08   0.196534   0.269393   0.985075  ...  0.079834  0.985646  0.286248\n",
              "2014-01-09   0.217552   0.269182   0.985075  ...  0.079002  0.985646  0.278911\n",
              "\n",
              "[5 rows x 14 columns]"
            ]
          },
          "metadata": {
            "tags": []
          },
          "execution_count": 125
        }
      ]
    },
    {
      "cell_type": "code",
      "metadata": {
        "id": "VYzBvuoEFoll"
      },
      "source": [
        "reframed.drop(reframed.columns[[8,9,10,11,12,13]], axis=1, inplace=True)"
      ],
      "execution_count": 126,
      "outputs": []
    },
    {
      "cell_type": "code",
      "metadata": {
        "colab": {
          "base_uri": "https://localhost:8080/",
          "height": 450
        },
        "id": "G8OaCA9VFndl",
        "outputId": "a50a162a-b6d3-4369-f0de-3860c3048fa5"
      },
      "source": [
        "reframed"
      ],
      "execution_count": 127,
      "outputs": [
        {
          "output_type": "execute_result",
          "data": {
            "text/html": [
              "<div>\n",
              "<style scoped>\n",
              "    .dataframe tbody tr th:only-of-type {\n",
              "        vertical-align: middle;\n",
              "    }\n",
              "\n",
              "    .dataframe tbody tr th {\n",
              "        vertical-align: top;\n",
              "    }\n",
              "\n",
              "    .dataframe thead th {\n",
              "        text-align: right;\n",
              "    }\n",
              "</style>\n",
              "<table border=\"1\" class=\"dataframe\">\n",
              "  <thead>\n",
              "    <tr style=\"text-align: right;\">\n",
              "      <th></th>\n",
              "      <th>var1(t-1)</th>\n",
              "      <th>var2(t-1)</th>\n",
              "      <th>var3(t-1)</th>\n",
              "      <th>var4(t-1)</th>\n",
              "      <th>var5(t-1)</th>\n",
              "      <th>var6(t-1)</th>\n",
              "      <th>var7(t-1)</th>\n",
              "      <th>var1(t)</th>\n",
              "    </tr>\n",
              "    <tr>\n",
              "      <th>Date</th>\n",
              "      <th></th>\n",
              "      <th></th>\n",
              "      <th></th>\n",
              "      <th></th>\n",
              "      <th></th>\n",
              "      <th></th>\n",
              "      <th></th>\n",
              "      <th></th>\n",
              "    </tr>\n",
              "  </thead>\n",
              "  <tbody>\n",
              "    <tr>\n",
              "      <th>2014-01-03</th>\n",
              "      <td>0.171091</td>\n",
              "      <td>0.277568</td>\n",
              "      <td>1.000000</td>\n",
              "      <td>0.019069</td>\n",
              "      <td>0.064449</td>\n",
              "      <td>0.995215</td>\n",
              "      <td>0.290947</td>\n",
              "      <td>0.153024</td>\n",
              "    </tr>\n",
              "    <tr>\n",
              "      <th>2014-01-06</th>\n",
              "      <td>0.153024</td>\n",
              "      <td>0.262975</td>\n",
              "      <td>1.000000</td>\n",
              "      <td>0.018814</td>\n",
              "      <td>0.071518</td>\n",
              "      <td>0.990431</td>\n",
              "      <td>0.278928</td>\n",
              "      <td>0.166667</td>\n",
              "    </tr>\n",
              "    <tr>\n",
              "      <th>2014-01-07</th>\n",
              "      <td>0.166667</td>\n",
              "      <td>0.266208</td>\n",
              "      <td>0.995025</td>\n",
              "      <td>0.018601</td>\n",
              "      <td>0.065281</td>\n",
              "      <td>0.980861</td>\n",
              "      <td>0.283005</td>\n",
              "      <td>0.196534</td>\n",
              "    </tr>\n",
              "    <tr>\n",
              "      <th>2014-01-08</th>\n",
              "      <td>0.196534</td>\n",
              "      <td>0.269393</td>\n",
              "      <td>0.985075</td>\n",
              "      <td>0.017793</td>\n",
              "      <td>0.072349</td>\n",
              "      <td>0.990431</td>\n",
              "      <td>0.286522</td>\n",
              "      <td>0.217552</td>\n",
              "    </tr>\n",
              "    <tr>\n",
              "      <th>2014-01-09</th>\n",
              "      <td>0.217552</td>\n",
              "      <td>0.269182</td>\n",
              "      <td>0.985075</td>\n",
              "      <td>0.017751</td>\n",
              "      <td>0.079834</td>\n",
              "      <td>0.985646</td>\n",
              "      <td>0.286248</td>\n",
              "      <td>0.210546</td>\n",
              "    </tr>\n",
              "    <tr>\n",
              "      <th>...</th>\n",
              "      <td>...</td>\n",
              "      <td>...</td>\n",
              "      <td>...</td>\n",
              "      <td>...</td>\n",
              "      <td>...</td>\n",
              "      <td>...</td>\n",
              "      <td>...</td>\n",
              "      <td>...</td>\n",
              "    </tr>\n",
              "    <tr>\n",
              "      <th>2021-02-17</th>\n",
              "      <td>0.347345</td>\n",
              "      <td>0.966433</td>\n",
              "      <td>0.049751</td>\n",
              "      <td>0.013074</td>\n",
              "      <td>0.468607</td>\n",
              "      <td>0.033493</td>\n",
              "      <td>0.973883</td>\n",
              "      <td>0.334808</td>\n",
              "    </tr>\n",
              "    <tr>\n",
              "      <th>2021-02-18</th>\n",
              "      <td>0.334808</td>\n",
              "      <td>0.945766</td>\n",
              "      <td>0.049751</td>\n",
              "      <td>0.013074</td>\n",
              "      <td>0.486902</td>\n",
              "      <td>0.019139</td>\n",
              "      <td>0.957027</td>\n",
              "      <td>0.364307</td>\n",
              "    </tr>\n",
              "    <tr>\n",
              "      <th>2021-02-19</th>\n",
              "      <td>0.364307</td>\n",
              "      <td>0.916010</td>\n",
              "      <td>0.049751</td>\n",
              "      <td>0.013074</td>\n",
              "      <td>0.471933</td>\n",
              "      <td>0.028708</td>\n",
              "      <td>0.930151</td>\n",
              "      <td>0.356932</td>\n",
              "    </tr>\n",
              "    <tr>\n",
              "      <th>2021-02-22</th>\n",
              "      <td>0.356932</td>\n",
              "      <td>0.931926</td>\n",
              "      <td>0.044776</td>\n",
              "      <td>0.013074</td>\n",
              "      <td>0.462370</td>\n",
              "      <td>0.038278</td>\n",
              "      <td>0.942119</td>\n",
              "      <td>0.362094</td>\n",
              "    </tr>\n",
              "    <tr>\n",
              "      <th>2021-02-23</th>\n",
              "      <td>0.362094</td>\n",
              "      <td>0.911510</td>\n",
              "      <td>0.044776</td>\n",
              "      <td>0.013074</td>\n",
              "      <td>0.447817</td>\n",
              "      <td>0.033493</td>\n",
              "      <td>0.926205</td>\n",
              "      <td>0.359882</td>\n",
              "    </tr>\n",
              "  </tbody>\n",
              "</table>\n",
              "<p>1761 rows × 8 columns</p>\n",
              "</div>"
            ],
            "text/plain": [
              "            var1(t-1)  var2(t-1)  var3(t-1)  ...  var6(t-1)  var7(t-1)   var1(t)\n",
              "Date                                         ...                                \n",
              "2014-01-03   0.171091   0.277568   1.000000  ...   0.995215   0.290947  0.153024\n",
              "2014-01-06   0.153024   0.262975   1.000000  ...   0.990431   0.278928  0.166667\n",
              "2014-01-07   0.166667   0.266208   0.995025  ...   0.980861   0.283005  0.196534\n",
              "2014-01-08   0.196534   0.269393   0.985075  ...   0.990431   0.286522  0.217552\n",
              "2014-01-09   0.217552   0.269182   0.985075  ...   0.985646   0.286248  0.210546\n",
              "...               ...        ...        ...  ...        ...        ...       ...\n",
              "2021-02-17   0.347345   0.966433   0.049751  ...   0.033493   0.973883  0.334808\n",
              "2021-02-18   0.334808   0.945766   0.049751  ...   0.019139   0.957027  0.364307\n",
              "2021-02-19   0.364307   0.916010   0.049751  ...   0.028708   0.930151  0.356932\n",
              "2021-02-22   0.356932   0.931926   0.044776  ...   0.038278   0.942119  0.362094\n",
              "2021-02-23   0.362094   0.911510   0.044776  ...   0.033493   0.926205  0.359882\n",
              "\n",
              "[1761 rows x 8 columns]"
            ]
          },
          "metadata": {
            "tags": []
          },
          "execution_count": 127
        }
      ]
    },
    {
      "cell_type": "code",
      "metadata": {
        "id": "hQURVWUcFwck"
      },
      "source": [
        "values = reframed.values\r\n",
        "n_train_time = 1410 # 데이터의 80% 가져온다\r\n",
        "train = values[:n_train_time, :]\r\n",
        "test = values[n_train_time:, :]\r\n",
        "# split into input and outputs\r\n",
        "train_X, train_y = train[:, :-1], train[:, -1]\r\n",
        "test_X, test_y = test[:, :-1], test[:, -1]\r\n",
        "# reshape input to be 3D [samples, timesteps, features]\r\n",
        "train_X = train_X.reshape((train_X.shape[0], 1, train_X.shape[1]))\r\n",
        "test_X = test_X.reshape((test_X.shape[0], 1, test_X.shape[1]))"
      ],
      "execution_count": 128,
      "outputs": []
    },
    {
      "cell_type": "code",
      "metadata": {
        "id": "j599Max7lfSG"
      },
      "source": [
        ""
      ],
      "execution_count": 128,
      "outputs": []
    },
    {
      "cell_type": "code",
      "metadata": {
        "colab": {
          "base_uri": "https://localhost:8080/"
        },
        "id": "W4KwVxPBF67z",
        "outputId": "e8626a4d-d3ab-4105-dad7-66fa717daaf7"
      },
      "source": [
        "print(test_X.shape, train_y.shape, test_X.shape, test_y.shape )"
      ],
      "execution_count": 129,
      "outputs": [
        {
          "output_type": "stream",
          "text": [
            "(351, 1, 7) (1410,) (351, 1, 7) (351,)\n"
          ],
          "name": "stdout"
        }
      ]
    },
    {
      "cell_type": "code",
      "metadata": {
        "id": "i0jwwoGGF9Ba"
      },
      "source": [
        "model = Sequential()\r\n",
        "model.add(LSTM(50, input_shape=(train_X.shape[1], train_X.shape[2])))\r\n",
        "model.add(Dense(1))\r\n",
        "model.compile(loss='mae', optimizer='adam')\r\n"
      ],
      "execution_count": 130,
      "outputs": []
    },
    {
      "cell_type": "code",
      "metadata": {
        "colab": {
          "base_uri": "https://localhost:8080/"
        },
        "id": "l9_usItWpIOm",
        "outputId": "3d571580-4446-470f-ab47-942cec0476e7"
      },
      "source": [
        "model.summary()"
      ],
      "execution_count": 131,
      "outputs": [
        {
          "output_type": "stream",
          "text": [
            "Model: \"sequential_2\"\n",
            "_________________________________________________________________\n",
            "Layer (type)                 Output Shape              Param #   \n",
            "=================================================================\n",
            "lstm_2 (LSTM)                (None, 50)                11600     \n",
            "_________________________________________________________________\n",
            "dense_2 (Dense)              (None, 1)                 51        \n",
            "=================================================================\n",
            "Total params: 11,651\n",
            "Trainable params: 11,651\n",
            "Non-trainable params: 0\n",
            "_________________________________________________________________\n"
          ],
          "name": "stdout"
        }
      ]
    },
    {
      "cell_type": "code",
      "metadata": {
        "colab": {
          "base_uri": "https://localhost:8080/"
        },
        "id": "EldMhY3uGAzv",
        "outputId": "c36f0cb5-6cbc-45d9-8de2-f3462346ae3a"
      },
      "source": [
        "history = model.fit(train_X, train_y, \r\n",
        "                    epochs=50, \r\n",
        "                    batch_size=72, \r\n",
        "                    validation_data=(test_X, test_y), verbose=2, shuffle=False)"
      ],
      "execution_count": 132,
      "outputs": [
        {
          "output_type": "stream",
          "text": [
            "Epoch 1/50\n",
            "20/20 - 2s - loss: 0.3078 - val_loss: 0.3838\n",
            "Epoch 2/50\n",
            "20/20 - 0s - loss: 0.1426 - val_loss: 0.2184\n",
            "Epoch 3/50\n",
            "20/20 - 0s - loss: 0.1280 - val_loss: 0.1859\n",
            "Epoch 4/50\n",
            "20/20 - 0s - loss: 0.1198 - val_loss: 0.1900\n",
            "Epoch 5/50\n",
            "20/20 - 0s - loss: 0.1087 - val_loss: 0.1775\n",
            "Epoch 6/50\n",
            "20/20 - 0s - loss: 0.0978 - val_loss: 0.1616\n",
            "Epoch 7/50\n",
            "20/20 - 0s - loss: 0.0875 - val_loss: 0.1454\n",
            "Epoch 8/50\n",
            "20/20 - 0s - loss: 0.0770 - val_loss: 0.1306\n",
            "Epoch 9/50\n",
            "20/20 - 0s - loss: 0.0678 - val_loss: 0.1172\n",
            "Epoch 10/50\n",
            "20/20 - 0s - loss: 0.0609 - val_loss: 0.1037\n",
            "Epoch 11/50\n",
            "20/20 - 0s - loss: 0.0550 - val_loss: 0.0912\n",
            "Epoch 12/50\n",
            "20/20 - 0s - loss: 0.0502 - val_loss: 0.0806\n",
            "Epoch 13/50\n",
            "20/20 - 0s - loss: 0.0459 - val_loss: 0.0694\n",
            "Epoch 14/50\n",
            "20/20 - 0s - loss: 0.0436 - val_loss: 0.0665\n",
            "Epoch 15/50\n",
            "20/20 - 0s - loss: 0.0418 - val_loss: 0.0642\n",
            "Epoch 16/50\n",
            "20/20 - 0s - loss: 0.0400 - val_loss: 0.0641\n",
            "Epoch 17/50\n",
            "20/20 - 0s - loss: 0.0383 - val_loss: 0.0645\n",
            "Epoch 18/50\n",
            "20/20 - 0s - loss: 0.0366 - val_loss: 0.0632\n",
            "Epoch 19/50\n",
            "20/20 - 0s - loss: 0.0352 - val_loss: 0.0624\n",
            "Epoch 20/50\n",
            "20/20 - 0s - loss: 0.0338 - val_loss: 0.0602\n",
            "Epoch 21/50\n",
            "20/20 - 0s - loss: 0.0327 - val_loss: 0.0598\n",
            "Epoch 22/50\n",
            "20/20 - 0s - loss: 0.0317 - val_loss: 0.0580\n",
            "Epoch 23/50\n",
            "20/20 - 0s - loss: 0.0307 - val_loss: 0.0545\n",
            "Epoch 24/50\n",
            "20/20 - 0s - loss: 0.0299 - val_loss: 0.0515\n",
            "Epoch 25/50\n",
            "20/20 - 0s - loss: 0.0291 - val_loss: 0.0482\n",
            "Epoch 26/50\n",
            "20/20 - 0s - loss: 0.0284 - val_loss: 0.0442\n",
            "Epoch 27/50\n",
            "20/20 - 0s - loss: 0.0276 - val_loss: 0.0420\n",
            "Epoch 28/50\n",
            "20/20 - 0s - loss: 0.0266 - val_loss: 0.0406\n",
            "Epoch 29/50\n",
            "20/20 - 0s - loss: 0.0258 - val_loss: 0.0387\n",
            "Epoch 30/50\n",
            "20/20 - 0s - loss: 0.0250 - val_loss: 0.0353\n",
            "Epoch 31/50\n",
            "20/20 - 0s - loss: 0.0245 - val_loss: 0.0305\n",
            "Epoch 32/50\n",
            "20/20 - 0s - loss: 0.0241 - val_loss: 0.0264\n",
            "Epoch 33/50\n",
            "20/20 - 0s - loss: 0.0236 - val_loss: 0.0240\n",
            "Epoch 34/50\n",
            "20/20 - 0s - loss: 0.0229 - val_loss: 0.0239\n",
            "Epoch 35/50\n",
            "20/20 - 0s - loss: 0.0224 - val_loss: 0.0271\n",
            "Epoch 36/50\n",
            "20/20 - 0s - loss: 0.0225 - val_loss: 0.0388\n",
            "Epoch 37/50\n",
            "20/20 - 0s - loss: 0.0235 - val_loss: 0.0572\n",
            "Epoch 38/50\n",
            "20/20 - 0s - loss: 0.0239 - val_loss: 0.0598\n",
            "Epoch 39/50\n",
            "20/20 - 0s - loss: 0.0249 - val_loss: 0.0304\n",
            "Epoch 40/50\n",
            "20/20 - 0s - loss: 0.0328 - val_loss: 0.0356\n",
            "Epoch 41/50\n",
            "20/20 - 0s - loss: 0.0491 - val_loss: 0.0171\n",
            "Epoch 42/50\n",
            "20/20 - 0s - loss: 0.0343 - val_loss: 0.0350\n",
            "Epoch 43/50\n",
            "20/20 - 0s - loss: 0.0287 - val_loss: 0.0763\n",
            "Epoch 44/50\n",
            "20/20 - 0s - loss: 0.0358 - val_loss: 0.0524\n",
            "Epoch 45/50\n",
            "20/20 - 0s - loss: 0.0321 - val_loss: 0.0220\n",
            "Epoch 46/50\n",
            "20/20 - 0s - loss: 0.0348 - val_loss: 0.0252\n",
            "Epoch 47/50\n",
            "20/20 - 0s - loss: 0.0360 - val_loss: 0.0229\n",
            "Epoch 48/50\n",
            "20/20 - 0s - loss: 0.0248 - val_loss: 0.0580\n",
            "Epoch 49/50\n",
            "20/20 - 0s - loss: 0.0354 - val_loss: 0.0615\n",
            "Epoch 50/50\n",
            "20/20 - 0s - loss: 0.0321 - val_loss: 0.0296\n"
          ],
          "name": "stdout"
        }
      ]
    },
    {
      "cell_type": "code",
      "metadata": {
        "colab": {
          "base_uri": "https://localhost:8080/"
        },
        "id": "mOIUUi6BGbGh",
        "outputId": "5bc6a472-1909-4e24-9ce3-2ccf698da93a"
      },
      "source": [
        "print(history.history.keys())"
      ],
      "execution_count": 133,
      "outputs": [
        {
          "output_type": "stream",
          "text": [
            "dict_keys(['loss', 'val_loss'])\n"
          ],
          "name": "stdout"
        }
      ]
    },
    {
      "cell_type": "code",
      "metadata": {
        "colab": {
          "base_uri": "https://localhost:8080/",
          "height": 376
        },
        "id": "OV8vICIHGoA9",
        "outputId": "83c18dd7-2783-4f6c-c5a9-329568f3351d"
      },
      "source": [
        "\r\n",
        "plt.plot(history.history['loss'], label='train')\r\n",
        "plt.plot(history.history['val_loss'], label='test')\r\n",
        "plt.legend()  \r\n",
        "plt.show()"
      ],
      "execution_count": 134,
      "outputs": [
        {
          "output_type": "display_data",
          "data": {
            "image/png": "[encoded data removed]",
            "text/plain": [
              "<Figure size 576x432 with 1 Axes>"
            ]
          },
          "metadata": {
            "tags": [],
            "needs_background": "light"
          }
        }
      ]
    },
    {
      "cell_type": "code",
      "metadata": {
        "colab": {
          "base_uri": "https://localhost:8080/"
        },
        "id": "nlb7s97OGpO8",
        "outputId": "2e6f1464-d248-4ba7-eda8-0efbcbd10c95"
      },
      "source": [
        "print(test_X.shape)\r\n",
        "print(train_X.shape)"
      ],
      "execution_count": 135,
      "outputs": [
        {
          "output_type": "stream",
          "text": [
            "(351, 1, 7)\n",
            "(1410, 1, 7)\n"
          ],
          "name": "stdout"
        }
      ]
    },
    {
      "cell_type": "code",
      "metadata": {
        "id": "jIo4jfi8GsVv"
      },
      "source": [
        "yhat = model.predict(test_X)\r\n",
        "test_X = test_X.reshape((test_X.shape[0], test_X.shape[2]))\r\n",
        "#scaling\r\n",
        "\r\n",
        "# print(y_pred)\r\n",
        "# y_pred = scaler.inverse_transform(y_pred)\r\n"
      ],
      "execution_count": 136,
      "outputs": []
    },
    {
      "cell_type": "code",
      "metadata": {
        "id": "u0HTna2uHkeF"
      },
      "source": [
        "#scaling\r\n",
        "inv_yhat = concatenate((yhat, test_X[:,1:]), axis = 1)\r\n",
        "inv_yhat = scaler.inverse_transform(inv_yhat)\r\n",
        "inv_yhat = inv_yhat[:,0]\r\n"
      ],
      "execution_count": 137,
      "outputs": []
    },
    {
      "cell_type": "code",
      "metadata": {
        "id": "xu6PepPE6hKE"
      },
      "source": [
        "test_y = test_y.reshape((len(test_y), 1))\r\n",
        "inv_y = concatenate((test_y, test_X[:, 1:]), axis=1)\r\n",
        "inv_y = scaler.inverse_transform(inv_y)\r\n",
        "inv_y = inv_y[:,0]"
      ],
      "execution_count": 138,
      "outputs": []
    },
    {
      "cell_type": "code",
      "metadata": {
        "colab": {
          "base_uri": "https://localhost:8080/"
        },
        "id": "dNH6FBoaIe46",
        "outputId": "8cd03911-7018-4d6b-b41f-e0972844778e"
      },
      "source": [
        "from sklearn.metrics import mean_squared_error\r\n",
        "rmse = sqrt(mean_squared_error(inv_y, inv_yhat))\r\n",
        "print('Test RMSE: %.3f' % rmse)"
      ],
      "execution_count": 139,
      "outputs": [
        {
          "output_type": "stream",
          "text": [
            "Test RMSE: 10.038\n"
          ],
          "name": "stdout"
        }
      ]
    },
    {
      "cell_type": "code",
      "metadata": {
        "colab": {
          "base_uri": "https://localhost:8080/",
          "height": 392
        },
        "id": "lYRzNB057oRl",
        "outputId": "cd6f1034-8c95-4073-d023-c0738f0202ac"
      },
      "source": [
        "plt.plot(inv_yhat)"
      ],
      "execution_count": 140,
      "outputs": [
        {
          "output_type": "execute_result",
          "data": {
            "text/plain": [
              "[<matplotlib.lines.Line2D at 0x7eff2c64ac50>]"
            ]
          },
          "metadata": {
            "tags": []
          },
          "execution_count": 140
        },
        {
          "output_type": "display_data",
          "data": {
            "image/png": "[encoded data removed]",
            "text/plain": [
              "<Figure size 576x432 with 1 Axes>"
            ]
          },
          "metadata": {
            "tags": [],
            "needs_background": "light"
          }
        }
      ]
    },
    {
      "cell_type": "code",
      "metadata": {
        "colab": {
          "base_uri": "https://localhost:8080/"
        },
        "id": "_EG40Q-P1SBT",
        "outputId": "cbf93cea-a210-4f46-ff94-dd267728b9e0"
      },
      "source": [
        "inv_yhat"
      ],
      "execution_count": 141,
      "outputs": [
        {
          "output_type": "execute_result",
          "data": {
            "text/plain": [
              "array([1194.04173589, 1196.06252732, 1199.96677423, 1201.03502369,\n",
              "       1203.52640419, 1200.99378734, 1200.07847285, 1205.17063708,\n",
              "       1198.89016757, 1198.58985829, 1196.95086279, 1197.9524487 ,\n",
              "       1191.55357218, 1186.23970799, 1184.2859519 , 1186.42270947,\n",
              "       1185.76952305, 1180.30450201, 1175.53283687, 1172.02973514,\n",
              "       1173.98895493, 1171.7850812 , 1174.27773871, 1169.82010674,\n",
              "       1167.35161557, 1168.9247396 , 1162.34166541, 1167.38333087,\n",
              "       1161.1950006 , 1160.81386743, 1158.81273236, 1162.00728078,\n",
              "       1158.16224546, 1162.72363915, 1164.86167374, 1167.88359847,\n",
              "       1169.86536813, 1165.93769846, 1164.40763741, 1168.51489778,\n",
              "       1170.1531497 , 1175.97665706, 1176.85713644, 1175.39842672,\n",
              "       1173.75293298, 1175.20839357, 1178.67581964, 1178.97776155,\n",
              "       1178.94725862, 1184.25590158, 1190.95832033, 1187.79479213,\n",
              "       1187.35921597, 1186.83667331, 1188.65521102, 1190.23001618,\n",
              "       1185.36638961, 1170.07281075, 1170.97047329, 1165.656108  ,\n",
              "       1164.46132064, 1163.88753562, 1162.29333272, 1161.74027095,\n",
              "       1163.36879168, 1160.48880987, 1160.23922567, 1157.96994925,\n",
              "       1157.9077795 , 1156.9866457 , 1162.43789434, 1168.58663707,\n",
              "       1165.19279308, 1172.99040799, 1160.21903586, 1160.90885167,\n",
              "       1155.89334083, 1153.61989388, 1158.47600384, 1159.45706048,\n",
              "       1158.53941827, 1158.75917845, 1163.61241107, 1164.42902341,\n",
              "       1167.34718642, 1175.62255139, 1175.31425672, 1181.98549361,\n",
              "       1186.1063324 , 1193.249791  , 1187.68192964, 1186.38410797,\n",
              "       1180.38948026, 1186.1388236 , 1188.40717864, 1183.45425782,\n",
              "       1179.66830478, 1180.99504523, 1182.5935318 , 1182.1806025 ,\n",
              "       1187.93859401, 1190.57156181, 1196.01183457, 1205.05867982,\n",
              "       1215.57784553, 1211.38921165, 1214.65541854, 1214.29567137,\n",
              "       1212.86832132, 1199.01051435, 1190.00797677, 1185.05272822,\n",
              "       1183.26403069, 1188.84021692, 1199.17096596, 1195.53287215,\n",
              "       1193.87249064, 1203.78626919, 1218.85072846, 1213.58571424,\n",
              "       1235.14080133, 1234.40418849, 1270.62713199, 1247.53205867,\n",
              "       1264.02554913, 1245.90242257, 1221.52208762, 1217.82099967,\n",
              "       1205.23285532, 1214.0955029 , 1212.72219172, 1214.67830787,\n",
              "       1228.58029318, 1221.76607881, 1223.8537601 , 1214.58321047,\n",
              "       1211.45695825, 1208.55182405, 1205.29300447, 1210.01885862,\n",
              "       1209.38639545, 1218.20362   , 1211.45091262, 1211.3882741 ,\n",
              "       1222.28941355, 1225.62275276, 1222.98642268, 1225.62281742,\n",
              "       1220.49837213, 1215.96424842, 1209.92060909, 1218.56378746,\n",
              "       1214.36324015, 1217.00304565, 1210.12871447, 1210.01940823,\n",
              "       1217.90507269, 1217.96430044, 1219.21230226, 1219.60445981,\n",
              "       1221.20606618, 1214.61562085, 1217.84524684, 1221.01601686,\n",
              "       1225.68390412, 1229.4995842 , 1225.64447823, 1219.34456248,\n",
              "       1224.43132768, 1222.1881412 , 1213.21602573, 1209.11117392,\n",
              "       1202.05036583, 1202.59689703, 1198.44752741, 1190.90439463,\n",
              "       1184.85983391, 1183.06877632, 1182.3781846 , 1194.22399378,\n",
              "       1197.13058281, 1193.796597  , 1200.763908  , 1199.59315767,\n",
              "       1198.3430706 , 1198.95139976, 1196.71765351, 1191.20394416,\n",
              "       1193.24453745, 1188.01217608, 1190.3440587 , 1187.36005654,\n",
              "       1189.91308951, 1189.51941247, 1188.14665089, 1185.0700407 ,\n",
              "       1181.70328889, 1184.34041104, 1183.47853732, 1189.78571105,\n",
              "       1187.59910131, 1192.40254641, 1188.23984084, 1190.23114772,\n",
              "       1191.32487288, 1188.88284345, 1184.02435727, 1180.20398941,\n",
              "       1184.33769536, 1185.83941956, 1181.33222637, 1179.83716207,\n",
              "       1179.52359767, 1177.04404979, 1175.31672993, 1178.7023622 ,\n",
              "       1177.5214119 , 1174.57032123, 1170.2216722 , 1171.12877498,\n",
              "       1171.50214906, 1169.89545078, 1170.58689923, 1168.92029428,\n",
              "       1170.31499147, 1170.22909184, 1168.47505159, 1172.26753521,\n",
              "       1171.15848584, 1174.4006557 , 1171.28379521, 1171.70155778,\n",
              "       1169.80090299, 1169.89915252, 1168.06648679, 1169.22726345,\n",
              "       1170.06733088, 1171.3795392 , 1173.58097205, 1170.9404068 ,\n",
              "       1172.06230717, 1173.30419869, 1169.88030438, 1171.63455477,\n",
              "       1167.98115292, 1165.16807714, 1162.95734954, 1160.89918513,\n",
              "       1151.8965344 , 1150.54876356, 1153.38408208, 1154.49861131,\n",
              "       1159.51599727, 1159.07012415, 1161.66893578, 1156.93404551,\n",
              "       1151.89265485, 1149.01831455, 1151.55363092, 1145.82672429,\n",
              "       1139.77881746, 1140.55849328, 1137.84689999, 1136.94530132,\n",
              "       1137.64386227, 1134.5041852 , 1132.22562211, 1127.95144422,\n",
              "       1128.21032317, 1129.07895377, 1124.66607399, 1123.14767582,\n",
              "       1125.12127419, 1129.44224911, 1126.45549893, 1128.75801823,\n",
              "       1128.3051296 , 1128.47852111, 1124.08495824, 1118.96275177,\n",
              "       1111.9353482 , 1111.98172495, 1109.25896988, 1109.49277725,\n",
              "       1110.44232874, 1104.77056825, 1103.60672836, 1102.90588009,\n",
              "       1107.92143135, 1109.19705877, 1107.55622857, 1106.21638656,\n",
              "       1102.83280721, 1101.34804795, 1101.49547074, 1100.20909374,\n",
              "       1101.03768418, 1097.43108745, 1092.87375112, 1083.68231192,\n",
              "       1081.45394855, 1082.41505785, 1081.80354424, 1083.75321872,\n",
              "       1085.98816924, 1086.9516871 , 1088.72518973, 1087.41875224,\n",
              "       1088.0734339 , 1092.17660458, 1095.80697162, 1099.75331969,\n",
              "       1100.84859667, 1096.69209838, 1091.79108267, 1087.18319907,\n",
              "       1083.2027029 , 1082.19611399, 1077.48086393, 1080.30902145,\n",
              "       1080.42565842, 1079.68984573, 1085.28831511, 1087.83856773,\n",
              "       1089.47433836, 1085.66762166, 1091.14675455, 1090.18970261,\n",
              "       1093.91275849, 1091.82531159, 1089.38466425, 1089.09687459,\n",
              "       1090.67436311, 1092.25276494, 1092.28317089, 1093.60424559,\n",
              "       1103.54222281, 1104.69531312, 1104.91079772, 1103.25168514,\n",
              "       1102.19989142, 1103.5050519 , 1109.8069155 , 1105.65750546,\n",
              "       1102.94078794, 1097.75372837, 1092.1860044 , 1090.07519939,\n",
              "       1096.80174408, 1094.95996141, 1096.10057251])"
            ]
          },
          "metadata": {
            "tags": []
          },
          "execution_count": 141
        }
      ]
    },
    {
      "cell_type": "code",
      "metadata": {
        "id": "PU4jNKPRyNTi"
      },
      "source": [
        "test = df_intp['ExchangeRate']"
      ],
      "execution_count": 142,
      "outputs": []
    },
    {
      "cell_type": "code",
      "metadata": {
        "id": "mE3JpmkGyPfF"
      },
      "source": [
        "test2 = test.loc[1410:]"
      ],
      "execution_count": 143,
      "outputs": []
    },
    {
      "cell_type": "code",
      "metadata": {
        "id": "TtvvLOLz0xH0"
      },
      "source": [
        "real=test2.reset_index()"
      ],
      "execution_count": 144,
      "outputs": []
    },
    {
      "cell_type": "code",
      "metadata": {
        "id": "65FQNVM73UGO",
        "colab": {
          "base_uri": "https://localhost:8080/"
        },
        "outputId": "eb482c59-0a97-4ae6-a59e-04dbcb729592"
      },
      "source": [
        "real.columns"
      ],
      "execution_count": 145,
      "outputs": [
        {
          "output_type": "execute_result",
          "data": {
            "text/plain": [
              "Index(['index', 'ExchangeRate'], dtype='object')"
            ]
          },
          "metadata": {
            "tags": []
          },
          "execution_count": 145
        }
      ]
    },
    {
      "cell_type": "code",
      "metadata": {
        "id": "KzmsAeCnz8Fi"
      },
      "source": [
        "t2 = real.drop(['index'], axis=1, inplace=True)"
      ],
      "execution_count": 146,
      "outputs": []
    },
    {
      "cell_type": "code",
      "metadata": {
        "colab": {
          "base_uri": "https://localhost:8080/",
          "height": 374
        },
        "id": "Uk35znPR7-2T",
        "outputId": "ba39543e-2e02-4c77-adb4-ba567d7cc5b7"
      },
      "source": [
        "plt.plot(inv_yhat)\r\n",
        "plt.plot(real)\r\n",
        "plt.legend(['Test', 'Real'])\r\n",
        "plt.show()  "
      ],
      "execution_count": 147,
      "outputs": [
        {
          "output_type": "display_data",
          "data": {
            "image/png": "[encoded data removed]",
            "text/plain": [
              "<Figure size 576x432 with 1 Axes>"
            ]
          },
          "metadata": {
            "tags": [],
            "needs_background": "light"
          }
        }
      ]
    },
    {
      "cell_type": "code",
      "metadata": {
        "colab": {
          "base_uri": "https://localhost:8080/"
        },
        "id": "szGSNybms7Qz",
        "outputId": "b7bd1457-0d5d-46bb-c69f-52798c185f6e"
      },
      "source": [
        "inv_yhat.size"
      ],
      "execution_count": 178,
      "outputs": [
        {
          "output_type": "execute_result",
          "data": {
            "text/plain": [
              "351"
            ]
          },
          "metadata": {
            "tags": []
          },
          "execution_count": 178
        }
      ]
    },
    {
      "cell_type": "code",
      "metadata": {
        "colab": {
          "base_uri": "https://localhost:8080/"
        },
        "id": "xtiwM5H4mCJD",
        "outputId": "c858152c-7418-44f0-82ff-34c61c987b68"
      },
      "source": [
        "lt = inv_yhat[-365:]\r\n",
        "len(lt)"
      ],
      "execution_count": 148,
      "outputs": [
        {
          "output_type": "execute_result",
          "data": {
            "text/plain": [
              "351"
            ]
          },
          "metadata": {
            "tags": []
          },
          "execution_count": 148
        }
      ]
    },
    {
      "cell_type": "code",
      "metadata": {
        "colab": {
          "base_uri": "https://localhost:8080/"
        },
        "id": "0tDylXDArhmX",
        "outputId": "87196b24-f0ff-42d6-a183-241eb33f18ff"
      },
      "source": [
        "type(lt)"
      ],
      "execution_count": 161,
      "outputs": [
        {
          "output_type": "execute_result",
          "data": {
            "text/plain": [
              "numpy.ndarray"
            ]
          },
          "metadata": {
            "tags": []
          },
          "execution_count": 161
        }
      ]
    },
    {
      "cell_type": "code",
      "metadata": {
        "id": "zdj4vd38nUxB"
      },
      "source": [
        "flo = lt.astype(float)"
      ],
      "execution_count": 162,
      "outputs": []
    },
    {
      "cell_type": "code",
      "metadata": {
        "colab": {
          "base_uri": "https://localhost:8080/"
        },
        "id": "H_hBLwDVr0Tv",
        "outputId": "196de54b-0514-4027-c8e1-ec5e78e0de24"
      },
      "source": [
        "flo.shape"
      ],
      "execution_count": 164,
      "outputs": [
        {
          "output_type": "execute_result",
          "data": {
            "text/plain": [
              "(351,)"
            ]
          },
          "metadata": {
            "tags": []
          },
          "execution_count": 164
        }
      ]
    },
    {
      "cell_type": "code",
      "metadata": {
        "id": "WIwhdmAF8U9Y"
      },
      "source": [
        "seq_len = 50\r\n",
        "sequence_length = seq_len + 1\r\n",
        "\r\n",
        "result = []\r\n",
        "for index in range(len(flo) - sequence_length):\r\n",
        "    result.append(flo[index: index + sequence_length])"
      ],
      "execution_count": 165,
      "outputs": []
    },
    {
      "cell_type": "code",
      "metadata": {
        "id": "3-wlu6aG-ai1",
        "colab": {
          "base_uri": "https://localhost:8080/"
        },
        "outputId": "6f43d4c0-bb77-4c52-819f-57b2264b6443"
      },
      "source": [
        "# z-score 정규화\r\n",
        "normalized_data = []\r\n",
        "window_mean = []\r\n",
        "window_std = []\r\n",
        "\r\n",
        "for window in result:\r\n",
        "    normalized_window = [((p - np.mean(window)) / np.std(window)) for p in window]\r\n",
        "    normalized_data.append(normalized_window)\r\n",
        "    window_mean.append(np.mean(window))\r\n",
        "    window_std.append(np.std(window))\r\n",
        "\r\n",
        "result = np.array(normalized_data)\r\n",
        "\r\n",
        "x_test = result[:, :-1]\r\n",
        "x_test = np.reshape(x_test, (x_test.shape[0], x_test.shape[1], 1))\r\n",
        "y_test = result[:, -1]\r\n",
        "\r\n",
        "x_test.shape"
      ],
      "execution_count": 166,
      "outputs": [
        {
          "output_type": "execute_result",
          "data": {
            "text/plain": [
              "(300, 50, 1)"
            ]
          },
          "metadata": {
            "tags": []
          },
          "execution_count": 166
        }
      ]
    },
    {
      "cell_type": "code",
      "metadata": {
        "colab": {
          "base_uri": "https://localhost:8080/"
        },
        "id": "XfvgewdwsIiA",
        "outputId": "c189be08-0065-4cb8-a7e8-67435103aa14"
      },
      "source": [
        "model2 = Sequential()\r\n",
        "\r\n",
        "model2.add(LSTM(50, return_sequences=True, input_shape=(50, 1)))\r\n",
        "\r\n",
        "model2.add(LSTM(32, return_sequences=False))\r\n",
        "\r\n",
        "model2.add(Dense(1, activation='linear'))\r\n",
        "\r\n",
        "model2.compile(loss='mse', optimizer='adam')\r\n",
        "\r\n",
        "model2.summary()"
      ],
      "execution_count": 170,
      "outputs": [
        {
          "output_type": "stream",
          "text": [
            "Model: \"sequential_3\"\n",
            "_________________________________________________________________\n",
            "Layer (type)                 Output Shape              Param #   \n",
            "=================================================================\n",
            "lstm_3 (LSTM)                (None, 50, 50)            10400     \n",
            "_________________________________________________________________\n",
            "lstm_4 (LSTM)                (None, 32)                10624     \n",
            "_________________________________________________________________\n",
            "dense_3 (Dense)              (None, 1)                 33        \n",
            "=================================================================\n",
            "Total params: 21,057\n",
            "Trainable params: 21,057\n",
            "Non-trainable params: 0\n",
            "_________________________________________________________________\n"
          ],
          "name": "stdout"
        }
      ]
    },
    {
      "cell_type": "code",
      "metadata": {
        "id": "IhnRdBKwlcg6"
      },
      "source": [
        "pred = model2.predict(x_test)"
      ],
      "execution_count": 171,
      "outputs": []
    },
    {
      "cell_type": "code",
      "metadata": {
        "id": "WN8weVMwfLMJ"
      },
      "source": [
        "\r\n",
        "# 복원\r\n",
        "pred_result = []\r\n",
        "pred_y = []\r\n",
        "for i in range(len(pred)):\r\n",
        "    n1 = (pred[i] * window_std[i]) + window_mean[i]\r\n",
        "    n2 = (y_test[i] * window_std[i]) + window_mean[i]\r\n",
        "    pred_result.append(n1)\r\n",
        "    pred_y.append(n2)"
      ],
      "execution_count": 172,
      "outputs": []
    },
    {
      "cell_type": "code",
      "metadata": {
        "colab": {
          "base_uri": "https://localhost:8080/",
          "height": 592
        },
        "id": "XEgFi3PTmPb0",
        "outputId": "87c1ee3f-71ce-4d50-cbef-a06e20ad41fc"
      },
      "source": [
        "\r\n",
        "fig = plt.figure(facecolor='white', figsize=(20, 10))\r\n",
        "ax = fig.add_subplot(111)\r\n",
        "ax.plot(pred_result, label='Prediction')\r\n",
        "ax.legend()\r\n",
        "plt.show()\r\n"
      ],
      "execution_count": 173,
      "outputs": [
        {
          "output_type": "display_data",
          "data": {
            "image/png": "[encoded data removed]",
            "text/plain": [
              "<Figure size 1440x720 with 1 Axes>"
            ]
          },
          "metadata": {
            "tags": []
          }
        }
      ]
    },
    {
      "cell_type": "code",
      "metadata": {
        "colab": {
          "base_uri": "https://localhost:8080/"
        },
        "id": "r0As3cXusU0D",
        "outputId": "dcee0b36-2950-40a9-8d4c-9ac39143368d"
      },
      "source": [
        "print('환율', '%0.4f'%float(pred_result[-1]))"
      ],
      "execution_count": 176,
      "outputs": [
        {
          "output_type": "stream",
          "text": [
            "환율 1090.9640\n"
          ],
          "name": "stdout"
        }
      ]
    },
    {
      "cell_type": "code",
      "metadata": {
        "id": "YLlnroEnsb1I"
      },
      "source": [
        ""
      ],
      "execution_count": null,
      "outputs": []
    }
  ]
}