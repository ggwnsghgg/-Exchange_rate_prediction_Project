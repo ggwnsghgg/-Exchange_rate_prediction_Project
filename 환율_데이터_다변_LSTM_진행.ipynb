{
  "nbformat": 4,
  "nbformat_minor": 0,
  "metadata": {
    "colab": {
      "name": "환율 데이터 다변 LSTM 진행.ipynb",
      "provenance": [],
      "collapsed_sections": [],
      "authorship_tag": "ABX9TyNYyxE9X2XR8N+nmLwMrTNb",
      "include_colab_link": true
    },
    "kernelspec": {
      "name": "python3",
      "display_name": "Python 3"
    }
  },
  "cells": [
    {
      "cell_type": "markdown",
      "metadata": {
        "id": "view-in-github",
        "colab_type": "text"
      },
      "source": [
        "<a href=\"https://colab.research.google.com/github/ggwnsghgg/Exchange_rate_prediction_Project/blob/main/%ED%99%98%EC%9C%A8_%EB%8D%B0%EC%9D%B4%ED%84%B0_%EB%8B%A4%EB%B3%80_LSTM_%EC%A7%84%ED%96%89.ipynb\" target=\"_parent\"><img src=\"https://colab.research.google.com/assets/colab-badge.svg\" alt=\"Open In Colab\"/></a>"
      ]
    },
    {
      "cell_type": "code",
      "metadata": {
        "id": "2qS5BR_TQJQO"
      },
      "source": [
        "import tensorflow as tf\r\n",
        "from tensorflow.keras.callbacks import CSVLogger, EarlyStopping\r\n",
        "\r\n",
        "import matplotlib.pyplot as plt\r\n",
        "import matplotlib as mpl\r\n",
        "import seaborn as sns\r\n",
        "import numpy as np\r\n",
        "import os \r\n",
        "import pandas as pd\r\n",
        "from google.colab import files\r\n",
        "import warnings\r\n",
        "from pandas import DataFrame\r\n",
        "from keras.models import Sequential\r\n",
        "from keras.layers import LSTM\r\n",
        "from keras.layers import Dense\r\n",
        "from keras.layers import concatenate\r\n",
        "from math import sqrt\r\n",
        "from sklearn import preprocessing\r\n",
        "import matplotlib.pyplot as plt\r\n",
        "from keras.utils import np_utils\r\n",
        "\r\n",
        "\r\n",
        "warnings.simplefilter('ignore')\r\n",
        "\r\n",
        "mpl.rcParams['figure.figsize'] = (8, 6)\r\n",
        "mpl.rcParams['axes.grid'] = False"
      ],
      "execution_count": 1,
      "outputs": []
    },
    {
      "cell_type": "code",
      "metadata": {
        "colab": {
          "resources": {
            "http://localhost:8080/nbextensions/google.colab/files.js": {
              "data": "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",
              "ok": true,
              "headers": [
                [
                  "content-type",
                  "application/javascript"
                ]
              ],
              "status": 200,
              "status_text": ""
            }
          },
          "base_uri": "https://localhost:8080/",
          "height": 76
        },
        "id": "ccnYRMeMQbsI",
        "outputId": "a9d61615-446e-4f19-dca8-1ad26244dbb8"
      },
      "source": [
        "myfile = files.upload()"
      ],
      "execution_count": 2,
      "outputs": [
        {
          "output_type": "display_data",
          "data": {
            "text/html": [
              "\n",
              "     <input type=\"file\" id=\"files-905f6088-b477-435e-a0a5-bf9149d56ece\" name=\"files[]\" multiple disabled\n",
              "        style=\"border:none\" />\n",
              "     <output id=\"result-905f6088-b477-435e-a0a5-bf9149d56ece\">\n",
              "      Upload widget is only available when the cell has been executed in the\n",
              "      current browser session. Please rerun this cell to enable.\n",
              "      </output>\n",
              "      <script src=\"/nbextensions/google.colab/files.js\"></script> "
            ],
            "text/plain": [
              "<IPython.core.display.HTML object>"
            ]
          },
          "metadata": {
            "tags": []
          }
        },
        {
          "output_type": "stream",
          "text": [
            "Saving test.csv to test.csv\n"
          ],
          "name": "stdout"
        }
      ]
    },
    {
      "cell_type": "code",
      "metadata": {
        "colab": {
          "base_uri": "https://localhost:8080/",
          "height": 216
        },
        "id": "vD0kDBrdQTRS",
        "outputId": "beb816a9-ace5-4c73-e3c4-de0803eef91c"
      },
      "source": [
        "#데이터 읽자\r\n",
        "#천단위 콤마 제거 해주자 나중에 또 하기 귀찮으니까!(결정적으로 float형 유지를 위해)\r\n",
        "df = pd.read_csv('test.csv', thousands = ',')\r\n",
        "print(df.shape)\r\n",
        "df.tail()"
      ],
      "execution_count": 3,
      "outputs": [
        {
          "output_type": "stream",
          "text": [
            "(1762, 8)\n"
          ],
          "name": "stdout"
        },
        {
          "output_type": "execute_result",
          "data": {
            "text/html": [
              "<div>\n",
              "<style scoped>\n",
              "    .dataframe tbody tr th:only-of-type {\n",
              "        vertical-align: middle;\n",
              "    }\n",
              "\n",
              "    .dataframe tbody tr th {\n",
              "        vertical-align: top;\n",
              "    }\n",
              "\n",
              "    .dataframe thead th {\n",
              "        text-align: right;\n",
              "    }\n",
              "</style>\n",
              "<table border=\"1\" class=\"dataframe\">\n",
              "  <thead>\n",
              "    <tr style=\"text-align: right;\">\n",
              "      <th></th>\n",
              "      <th>Date</th>\n",
              "      <th>ExchangeRate</th>\n",
              "      <th>KRX100</th>\n",
              "      <th>KORIBOR</th>\n",
              "      <th>LIBOR</th>\n",
              "      <th>달러지수 (종가)</th>\n",
              "      <th>콜금리</th>\n",
              "      <th>KOSPI</th>\n",
              "    </tr>\n",
              "  </thead>\n",
              "  <tbody>\n",
              "    <tr>\n",
              "      <th>1757</th>\n",
              "      <td>2021.02.17</td>\n",
              "      <td>1,099.70</td>\n",
              "      <td>6764.11</td>\n",
              "      <td>0.87</td>\n",
              "      <td>NaN</td>\n",
              "      <td>90.95</td>\n",
              "      <td>0.47</td>\n",
              "      <td>3,133.73</td>\n",
              "    </tr>\n",
              "    <tr>\n",
              "      <th>1758</th>\n",
              "      <td>2021.02.18</td>\n",
              "      <td>1,107.70</td>\n",
              "      <td>6652.76</td>\n",
              "      <td>0.87</td>\n",
              "      <td>NaN</td>\n",
              "      <td>90.59</td>\n",
              "      <td>0.49</td>\n",
              "      <td>3,086.66</td>\n",
              "    </tr>\n",
              "    <tr>\n",
              "      <th>1759</th>\n",
              "      <td>2021.02.19</td>\n",
              "      <td>1,105.70</td>\n",
              "      <td>6712.32</td>\n",
              "      <td>0.86</td>\n",
              "      <td>NaN</td>\n",
              "      <td>90.36</td>\n",
              "      <td>0.51</td>\n",
              "      <td>3,107.62</td>\n",
              "    </tr>\n",
              "    <tr>\n",
              "      <th>1760</th>\n",
              "      <td>2021.02.22</td>\n",
              "      <td>1,107.10</td>\n",
              "      <td>6635.92</td>\n",
              "      <td>0.86</td>\n",
              "      <td>NaN</td>\n",
              "      <td>90.01</td>\n",
              "      <td>0.50</td>\n",
              "      <td>3,079.75</td>\n",
              "    </tr>\n",
              "    <tr>\n",
              "      <th>1761</th>\n",
              "      <td>2021.02.23</td>\n",
              "      <td>1,106.50</td>\n",
              "      <td>6607.24</td>\n",
              "      <td>0.86</td>\n",
              "      <td>NaN</td>\n",
              "      <td>90.17</td>\n",
              "      <td>0.49</td>\n",
              "      <td>3,070.09</td>\n",
              "    </tr>\n",
              "  </tbody>\n",
              "</table>\n",
              "</div>"
            ],
            "text/plain": [
              "            Date ExchangeRate   KRX100  ...  달러지수 (종가)   콜금리     KOSPI\n",
              "1757  2021.02.17     1,099.70  6764.11  ...      90.95  0.47  3,133.73\n",
              "1758  2021.02.18     1,107.70  6652.76  ...      90.59  0.49  3,086.66\n",
              "1759  2021.02.19     1,105.70  6712.32  ...      90.36  0.51  3,107.62\n",
              "1760  2021.02.22     1,107.10  6635.92  ...      90.01  0.50  3,079.75\n",
              "1761  2021.02.23     1,106.50  6607.24  ...      90.17  0.49  3,070.09\n",
              "\n",
              "[5 rows x 8 columns]"
            ]
          },
          "metadata": {
            "tags": []
          },
          "execution_count": 3
        }
      ]
    },
    {
      "cell_type": "code",
      "metadata": {
        "id": "0WTJ3S5OQWA9"
      },
      "source": [
        "\r\n",
        "#열이름 한국어인거 영어로 변경하자\r\n",
        "name = [\"Date\", \"ExchangeRate\",\"KRX100\", \"KORIBOR\", \"LIBOR\", \"DollarRate\",\r\n",
        "       \"CallRate\",\"KOSPI\"]\r\n",
        "df1= df.rename(columns = dict(zip(df.columns,name)))"
      ],
      "execution_count": 4,
      "outputs": []
    },
    {
      "cell_type": "code",
      "metadata": {
        "colab": {
          "base_uri": "https://localhost:8080/",
          "height": 198
        },
        "id": "mZS5qd7aQ2KC",
        "outputId": "17eb5efe-da86-40b7-f6f9-7e8db426c551"
      },
      "source": [
        "#천단위 쉼표 제거\r\n",
        "df1['ExchangeRate'] = df1['ExchangeRate'].str.replace(',','')\r\n",
        "df1['KOSPI'] = df1['KOSPI'].str.replace(',','')\r\n",
        "df1.tail()"
      ],
      "execution_count": 5,
      "outputs": [
        {
          "output_type": "execute_result",
          "data": {
            "text/html": [
              "<div>\n",
              "<style scoped>\n",
              "    .dataframe tbody tr th:only-of-type {\n",
              "        vertical-align: middle;\n",
              "    }\n",
              "\n",
              "    .dataframe tbody tr th {\n",
              "        vertical-align: top;\n",
              "    }\n",
              "\n",
              "    .dataframe thead th {\n",
              "        text-align: right;\n",
              "    }\n",
              "</style>\n",
              "<table border=\"1\" class=\"dataframe\">\n",
              "  <thead>\n",
              "    <tr style=\"text-align: right;\">\n",
              "      <th></th>\n",
              "      <th>Date</th>\n",
              "      <th>ExchangeRate</th>\n",
              "      <th>KRX100</th>\n",
              "      <th>KORIBOR</th>\n",
              "      <th>LIBOR</th>\n",
              "      <th>DollarRate</th>\n",
              "      <th>CallRate</th>\n",
              "      <th>KOSPI</th>\n",
              "    </tr>\n",
              "  </thead>\n",
              "  <tbody>\n",
              "    <tr>\n",
              "      <th>1757</th>\n",
              "      <td>2021.02.17</td>\n",
              "      <td>1099.70</td>\n",
              "      <td>6764.11</td>\n",
              "      <td>0.87</td>\n",
              "      <td>NaN</td>\n",
              "      <td>90.95</td>\n",
              "      <td>0.47</td>\n",
              "      <td>3133.73</td>\n",
              "    </tr>\n",
              "    <tr>\n",
              "      <th>1758</th>\n",
              "      <td>2021.02.18</td>\n",
              "      <td>1107.70</td>\n",
              "      <td>6652.76</td>\n",
              "      <td>0.87</td>\n",
              "      <td>NaN</td>\n",
              "      <td>90.59</td>\n",
              "      <td>0.49</td>\n",
              "      <td>3086.66</td>\n",
              "    </tr>\n",
              "    <tr>\n",
              "      <th>1759</th>\n",
              "      <td>2021.02.19</td>\n",
              "      <td>1105.70</td>\n",
              "      <td>6712.32</td>\n",
              "      <td>0.86</td>\n",
              "      <td>NaN</td>\n",
              "      <td>90.36</td>\n",
              "      <td>0.51</td>\n",
              "      <td>3107.62</td>\n",
              "    </tr>\n",
              "    <tr>\n",
              "      <th>1760</th>\n",
              "      <td>2021.02.22</td>\n",
              "      <td>1107.10</td>\n",
              "      <td>6635.92</td>\n",
              "      <td>0.86</td>\n",
              "      <td>NaN</td>\n",
              "      <td>90.01</td>\n",
              "      <td>0.50</td>\n",
              "      <td>3079.75</td>\n",
              "    </tr>\n",
              "    <tr>\n",
              "      <th>1761</th>\n",
              "      <td>2021.02.23</td>\n",
              "      <td>1106.50</td>\n",
              "      <td>6607.24</td>\n",
              "      <td>0.86</td>\n",
              "      <td>NaN</td>\n",
              "      <td>90.17</td>\n",
              "      <td>0.49</td>\n",
              "      <td>3070.09</td>\n",
              "    </tr>\n",
              "  </tbody>\n",
              "</table>\n",
              "</div>"
            ],
            "text/plain": [
              "            Date ExchangeRate   KRX100  ...  DollarRate  CallRate    KOSPI\n",
              "1757  2021.02.17      1099.70  6764.11  ...       90.95      0.47  3133.73\n",
              "1758  2021.02.18      1107.70  6652.76  ...       90.59      0.49  3086.66\n",
              "1759  2021.02.19      1105.70  6712.32  ...       90.36      0.51  3107.62\n",
              "1760  2021.02.22      1107.10  6635.92  ...       90.01      0.50  3079.75\n",
              "1761  2021.02.23      1106.50  6607.24  ...       90.17      0.49  3070.09\n",
              "\n",
              "[5 rows x 8 columns]"
            ]
          },
          "metadata": {
            "tags": []
          },
          "execution_count": 5
        }
      ]
    },
    {
      "cell_type": "code",
      "metadata": {
        "id": "054-Q5loQ4h0"
      },
      "source": [
        "\r\n",
        "#오브젝트형 데이터 실수로 형변환\r\n",
        "df1[\"KOSPI\"] = pd.to_numeric(df1.KOSPI, errors='coerce')\r\n",
        "df1[\"ExchangeRate\"] = pd.to_numeric(df1.ExchangeRate, errors='coerce')"
      ],
      "execution_count": 6,
      "outputs": []
    },
    {
      "cell_type": "code",
      "metadata": {
        "colab": {
          "base_uri": "https://localhost:8080/"
        },
        "id": "SUmLLPPQRKQf",
        "outputId": "52339da3-303f-4d59-bad8-1b446484ddb0"
      },
      "source": [
        "#결측값 확인\r\n",
        "df1.isna().sum()"
      ],
      "execution_count": 7,
      "outputs": [
        {
          "output_type": "execute_result",
          "data": {
            "text/plain": [
              "Date             0\n",
              "ExchangeRate     1\n",
              "KRX100           6\n",
              "KORIBOR          0\n",
              "LIBOR           92\n",
              "DollarRate       7\n",
              "CallRate         0\n",
              "KOSPI            7\n",
              "dtype: int64"
            ]
          },
          "metadata": {
            "tags": []
          },
          "execution_count": 7
        }
      ]
    },
    {
      "cell_type": "code",
      "metadata": {
        "colab": {
          "base_uri": "https://localhost:8080/",
          "height": 198
        },
        "id": "HmDgNfT2RLcD",
        "outputId": "3c88d305-a46a-46bd-bacf-e361a8b7c086"
      },
      "source": [
        "#결측치를 값에 선형 비례하는식으로 결측값을 보간해봤다\r\n",
        "df_intp = df1.interpolate(method = 'values')\r\n",
        "\r\n",
        "df_intp.tail()"
      ],
      "execution_count": 8,
      "outputs": [
        {
          "output_type": "execute_result",
          "data": {
            "text/html": [
              "<div>\n",
              "<style scoped>\n",
              "    .dataframe tbody tr th:only-of-type {\n",
              "        vertical-align: middle;\n",
              "    }\n",
              "\n",
              "    .dataframe tbody tr th {\n",
              "        vertical-align: top;\n",
              "    }\n",
              "\n",
              "    .dataframe thead th {\n",
              "        text-align: right;\n",
              "    }\n",
              "</style>\n",
              "<table border=\"1\" class=\"dataframe\">\n",
              "  <thead>\n",
              "    <tr style=\"text-align: right;\">\n",
              "      <th></th>\n",
              "      <th>Date</th>\n",
              "      <th>ExchangeRate</th>\n",
              "      <th>KRX100</th>\n",
              "      <th>KORIBOR</th>\n",
              "      <th>LIBOR</th>\n",
              "      <th>DollarRate</th>\n",
              "      <th>CallRate</th>\n",
              "      <th>KOSPI</th>\n",
              "    </tr>\n",
              "  </thead>\n",
              "  <tbody>\n",
              "    <tr>\n",
              "      <th>1757</th>\n",
              "      <td>2021.02.17</td>\n",
              "      <td>1099.7</td>\n",
              "      <td>6764.11</td>\n",
              "      <td>0.87</td>\n",
              "      <td>0.0815</td>\n",
              "      <td>90.95</td>\n",
              "      <td>0.47</td>\n",
              "      <td>3133.73</td>\n",
              "    </tr>\n",
              "    <tr>\n",
              "      <th>1758</th>\n",
              "      <td>2021.02.18</td>\n",
              "      <td>1107.7</td>\n",
              "      <td>6652.76</td>\n",
              "      <td>0.87</td>\n",
              "      <td>0.0815</td>\n",
              "      <td>90.59</td>\n",
              "      <td>0.49</td>\n",
              "      <td>3086.66</td>\n",
              "    </tr>\n",
              "    <tr>\n",
              "      <th>1759</th>\n",
              "      <td>2021.02.19</td>\n",
              "      <td>1105.7</td>\n",
              "      <td>6712.32</td>\n",
              "      <td>0.86</td>\n",
              "      <td>0.0815</td>\n",
              "      <td>90.36</td>\n",
              "      <td>0.51</td>\n",
              "      <td>3107.62</td>\n",
              "    </tr>\n",
              "    <tr>\n",
              "      <th>1760</th>\n",
              "      <td>2021.02.22</td>\n",
              "      <td>1107.1</td>\n",
              "      <td>6635.92</td>\n",
              "      <td>0.86</td>\n",
              "      <td>0.0815</td>\n",
              "      <td>90.01</td>\n",
              "      <td>0.50</td>\n",
              "      <td>3079.75</td>\n",
              "    </tr>\n",
              "    <tr>\n",
              "      <th>1761</th>\n",
              "      <td>2021.02.23</td>\n",
              "      <td>1106.5</td>\n",
              "      <td>6607.24</td>\n",
              "      <td>0.86</td>\n",
              "      <td>0.0815</td>\n",
              "      <td>90.17</td>\n",
              "      <td>0.49</td>\n",
              "      <td>3070.09</td>\n",
              "    </tr>\n",
              "  </tbody>\n",
              "</table>\n",
              "</div>"
            ],
            "text/plain": [
              "            Date  ExchangeRate   KRX100  ...  DollarRate  CallRate    KOSPI\n",
              "1757  2021.02.17        1099.7  6764.11  ...       90.95      0.47  3133.73\n",
              "1758  2021.02.18        1107.7  6652.76  ...       90.59      0.49  3086.66\n",
              "1759  2021.02.19        1105.7  6712.32  ...       90.36      0.51  3107.62\n",
              "1760  2021.02.22        1107.1  6635.92  ...       90.01      0.50  3079.75\n",
              "1761  2021.02.23        1106.5  6607.24  ...       90.17      0.49  3070.09\n",
              "\n",
              "[5 rows x 8 columns]"
            ]
          },
          "metadata": {
            "tags": []
          },
          "execution_count": 8
        }
      ]
    },
    {
      "cell_type": "code",
      "metadata": {
        "id": "vp8FN5VRRNCi"
      },
      "source": [
        "#날짜 데이터타임형식으로 미리 변경해놓자\r\n",
        "df_intp['Date'] = pd.to_datetime(df_intp['Date'], errors='coerce')"
      ],
      "execution_count": 9,
      "outputs": []
    },
    {
      "cell_type": "code",
      "metadata": {
        "colab": {
          "base_uri": "https://localhost:8080/",
          "height": 198
        },
        "id": "WM-KIXwHRPPg",
        "outputId": "782066a6-bfe1-4e43-86c7-ecf5b778bf70"
      },
      "source": [
        "df_intp.head()"
      ],
      "execution_count": 10,
      "outputs": [
        {
          "output_type": "execute_result",
          "data": {
            "text/html": [
              "<div>\n",
              "<style scoped>\n",
              "    .dataframe tbody tr th:only-of-type {\n",
              "        vertical-align: middle;\n",
              "    }\n",
              "\n",
              "    .dataframe tbody tr th {\n",
              "        vertical-align: top;\n",
              "    }\n",
              "\n",
              "    .dataframe thead th {\n",
              "        text-align: right;\n",
              "    }\n",
              "</style>\n",
              "<table border=\"1\" class=\"dataframe\">\n",
              "  <thead>\n",
              "    <tr style=\"text-align: right;\">\n",
              "      <th></th>\n",
              "      <th>Date</th>\n",
              "      <th>ExchangeRate</th>\n",
              "      <th>KRX100</th>\n",
              "      <th>KORIBOR</th>\n",
              "      <th>LIBOR</th>\n",
              "      <th>DollarRate</th>\n",
              "      <th>CallRate</th>\n",
              "      <th>KOSPI</th>\n",
              "    </tr>\n",
              "  </thead>\n",
              "  <tbody>\n",
              "    <tr>\n",
              "      <th>0</th>\n",
              "      <td>2014-01-02</td>\n",
              "      <td>1055.3</td>\n",
              "      <td>4263.64</td>\n",
              "      <td>2.78</td>\n",
              "      <td>0.0956</td>\n",
              "      <td>80.79</td>\n",
              "      <td>2.51</td>\n",
              "      <td>1967.19</td>\n",
              "    </tr>\n",
              "    <tr>\n",
              "      <th>1</th>\n",
              "      <td>2014-01-03</td>\n",
              "      <td>1050.4</td>\n",
              "      <td>4209.03</td>\n",
              "      <td>2.78</td>\n",
              "      <td>0.0950</td>\n",
              "      <td>80.96</td>\n",
              "      <td>2.50</td>\n",
              "      <td>1946.14</td>\n",
              "    </tr>\n",
              "    <tr>\n",
              "      <th>2</th>\n",
              "      <td>2014-01-06</td>\n",
              "      <td>1054.1</td>\n",
              "      <td>4221.13</td>\n",
              "      <td>2.77</td>\n",
              "      <td>0.0945</td>\n",
              "      <td>80.81</td>\n",
              "      <td>2.48</td>\n",
              "      <td>1953.28</td>\n",
              "    </tr>\n",
              "    <tr>\n",
              "      <th>3</th>\n",
              "      <td>2014-01-07</td>\n",
              "      <td>1062.2</td>\n",
              "      <td>4233.05</td>\n",
              "      <td>2.75</td>\n",
              "      <td>0.0926</td>\n",
              "      <td>80.98</td>\n",
              "      <td>2.50</td>\n",
              "      <td>1959.44</td>\n",
              "    </tr>\n",
              "    <tr>\n",
              "      <th>4</th>\n",
              "      <td>2014-01-08</td>\n",
              "      <td>1067.9</td>\n",
              "      <td>4232.26</td>\n",
              "      <td>2.75</td>\n",
              "      <td>0.0925</td>\n",
              "      <td>81.16</td>\n",
              "      <td>2.49</td>\n",
              "      <td>1958.96</td>\n",
              "    </tr>\n",
              "  </tbody>\n",
              "</table>\n",
              "</div>"
            ],
            "text/plain": [
              "        Date  ExchangeRate   KRX100  ...  DollarRate  CallRate    KOSPI\n",
              "0 2014-01-02        1055.3  4263.64  ...       80.79      2.51  1967.19\n",
              "1 2014-01-03        1050.4  4209.03  ...       80.96      2.50  1946.14\n",
              "2 2014-01-06        1054.1  4221.13  ...       80.81      2.48  1953.28\n",
              "3 2014-01-07        1062.2  4233.05  ...       80.98      2.50  1959.44\n",
              "4 2014-01-08        1067.9  4232.26  ...       81.16      2.49  1958.96\n",
              "\n",
              "[5 rows x 8 columns]"
            ]
          },
          "metadata": {
            "tags": []
          },
          "execution_count": 10
        }
      ]
    },
    {
      "cell_type": "code",
      "metadata": {
        "colab": {
          "base_uri": "https://localhost:8080/",
          "height": 228
        },
        "id": "dlxu8kvjRQ3C",
        "outputId": "22fc8e26-c3cf-45f1-de73-8e9a2090c4e0"
      },
      "source": [
        "#날짜가 인덱스인 경우도 생성 해놓자\r\n",
        "df_date = df_intp.set_index('Date')\r\n",
        "df_date.head()"
      ],
      "execution_count": 11,
      "outputs": [
        {
          "output_type": "execute_result",
          "data": {
            "text/html": [
              "<div>\n",
              "<style scoped>\n",
              "    .dataframe tbody tr th:only-of-type {\n",
              "        vertical-align: middle;\n",
              "    }\n",
              "\n",
              "    .dataframe tbody tr th {\n",
              "        vertical-align: top;\n",
              "    }\n",
              "\n",
              "    .dataframe thead th {\n",
              "        text-align: right;\n",
              "    }\n",
              "</style>\n",
              "<table border=\"1\" class=\"dataframe\">\n",
              "  <thead>\n",
              "    <tr style=\"text-align: right;\">\n",
              "      <th></th>\n",
              "      <th>ExchangeRate</th>\n",
              "      <th>KRX100</th>\n",
              "      <th>KORIBOR</th>\n",
              "      <th>LIBOR</th>\n",
              "      <th>DollarRate</th>\n",
              "      <th>CallRate</th>\n",
              "      <th>KOSPI</th>\n",
              "    </tr>\n",
              "    <tr>\n",
              "      <th>Date</th>\n",
              "      <th></th>\n",
              "      <th></th>\n",
              "      <th></th>\n",
              "      <th></th>\n",
              "      <th></th>\n",
              "      <th></th>\n",
              "      <th></th>\n",
              "    </tr>\n",
              "  </thead>\n",
              "  <tbody>\n",
              "    <tr>\n",
              "      <th>2014-01-02</th>\n",
              "      <td>1055.3</td>\n",
              "      <td>4263.64</td>\n",
              "      <td>2.78</td>\n",
              "      <td>0.0956</td>\n",
              "      <td>80.79</td>\n",
              "      <td>2.51</td>\n",
              "      <td>1967.19</td>\n",
              "    </tr>\n",
              "    <tr>\n",
              "      <th>2014-01-03</th>\n",
              "      <td>1050.4</td>\n",
              "      <td>4209.03</td>\n",
              "      <td>2.78</td>\n",
              "      <td>0.0950</td>\n",
              "      <td>80.96</td>\n",
              "      <td>2.50</td>\n",
              "      <td>1946.14</td>\n",
              "    </tr>\n",
              "    <tr>\n",
              "      <th>2014-01-06</th>\n",
              "      <td>1054.1</td>\n",
              "      <td>4221.13</td>\n",
              "      <td>2.77</td>\n",
              "      <td>0.0945</td>\n",
              "      <td>80.81</td>\n",
              "      <td>2.48</td>\n",
              "      <td>1953.28</td>\n",
              "    </tr>\n",
              "    <tr>\n",
              "      <th>2014-01-07</th>\n",
              "      <td>1062.2</td>\n",
              "      <td>4233.05</td>\n",
              "      <td>2.75</td>\n",
              "      <td>0.0926</td>\n",
              "      <td>80.98</td>\n",
              "      <td>2.50</td>\n",
              "      <td>1959.44</td>\n",
              "    </tr>\n",
              "    <tr>\n",
              "      <th>2014-01-08</th>\n",
              "      <td>1067.9</td>\n",
              "      <td>4232.26</td>\n",
              "      <td>2.75</td>\n",
              "      <td>0.0925</td>\n",
              "      <td>81.16</td>\n",
              "      <td>2.49</td>\n",
              "      <td>1958.96</td>\n",
              "    </tr>\n",
              "  </tbody>\n",
              "</table>\n",
              "</div>"
            ],
            "text/plain": [
              "            ExchangeRate   KRX100  KORIBOR  ...  DollarRate  CallRate    KOSPI\n",
              "Date                                        ...                               \n",
              "2014-01-02        1055.3  4263.64     2.78  ...       80.79      2.51  1967.19\n",
              "2014-01-03        1050.4  4209.03     2.78  ...       80.96      2.50  1946.14\n",
              "2014-01-06        1054.1  4221.13     2.77  ...       80.81      2.48  1953.28\n",
              "2014-01-07        1062.2  4233.05     2.75  ...       80.98      2.50  1959.44\n",
              "2014-01-08        1067.9  4232.26     2.75  ...       81.16      2.49  1958.96\n",
              "\n",
              "[5 rows x 7 columns]"
            ]
          },
          "metadata": {
            "tags": []
          },
          "execution_count": 11
        }
      ]
    },
    {
      "cell_type": "code",
      "metadata": {
        "colab": {
          "base_uri": "https://localhost:8080/",
          "height": 610
        },
        "id": "RlZfhwxIRSBk",
        "outputId": "f90a310b-f841-4400-ae24-1be661e4d93e"
      },
      "source": [
        "#시각화 해보자\r\n",
        "df_intp.plot(y='ExchangeRate',figsize = (20,10))"
      ],
      "execution_count": 12,
      "outputs": [
        {
          "output_type": "execute_result",
          "data": {
            "text/plain": [
              "<matplotlib.axes._subplots.AxesSubplot at 0x7ffa1f1864d0>"
            ]
          },
          "metadata": {
            "tags": []
          },
          "execution_count": 12
        },
        {
          "output_type": "display_data",
          "data": {
            "image/png": "[encoded data removed]",
            "text/plain": [
              "<Figure size 1440x720 with 1 Axes>"
            ]
          },
          "metadata": {
            "tags": [],
            "needs_background": "light"
          }
        }
      ]
    },
    {
      "cell_type": "code",
      "metadata": {
        "colab": {
          "base_uri": "https://localhost:8080/",
          "height": 437
        },
        "id": "WWU_upj8RTHM",
        "outputId": "c02da0b9-4215-4055-9036-e58eaae02f79"
      },
      "source": [
        "from sklearn.preprocessing import MinMaxScaler\r\n",
        "\r\n",
        "#scaler 객체 생성\r\n",
        "scaler = MinMaxScaler()\r\n",
        "\r\n",
        "#데이터셋 변환\r\n",
        "scaler.fit(df_date)\r\n",
        "date_scaler = scaler.transform(df_date)\r\n",
        "\r\n",
        "#transform 변환을 하면 배열 형식으로 바뀌는데 그걸 다시 데이터 프레임 형식으로 넘기자\r\n",
        "df_scaler = pd.DataFrame(date_scaler, columns = df_date.columns, index = df_date.index)\r\n",
        "df_scaler"
      ],
      "execution_count": 13,
      "outputs": [
        {
          "output_type": "execute_result",
          "data": {
            "text/html": [
              "<div>\n",
              "<style scoped>\n",
              "    .dataframe tbody tr th:only-of-type {\n",
              "        vertical-align: middle;\n",
              "    }\n",
              "\n",
              "    .dataframe tbody tr th {\n",
              "        vertical-align: top;\n",
              "    }\n",
              "\n",
              "    .dataframe thead th {\n",
              "        text-align: right;\n",
              "    }\n",
              "</style>\n",
              "<table border=\"1\" class=\"dataframe\">\n",
              "  <thead>\n",
              "    <tr style=\"text-align: right;\">\n",
              "      <th></th>\n",
              "      <th>ExchangeRate</th>\n",
              "      <th>KRX100</th>\n",
              "      <th>KORIBOR</th>\n",
              "      <th>LIBOR</th>\n",
              "      <th>DollarRate</th>\n",
              "      <th>CallRate</th>\n",
              "      <th>KOSPI</th>\n",
              "    </tr>\n",
              "    <tr>\n",
              "      <th>Date</th>\n",
              "      <th></th>\n",
              "      <th></th>\n",
              "      <th></th>\n",
              "      <th></th>\n",
              "      <th></th>\n",
              "      <th></th>\n",
              "      <th></th>\n",
              "    </tr>\n",
              "  </thead>\n",
              "  <tbody>\n",
              "    <tr>\n",
              "      <th>2014-01-02</th>\n",
              "      <td>0.171091</td>\n",
              "      <td>0.277568</td>\n",
              "      <td>1.000000</td>\n",
              "      <td>0.019069</td>\n",
              "      <td>0.064449</td>\n",
              "      <td>0.995215</td>\n",
              "      <td>0.290947</td>\n",
              "    </tr>\n",
              "    <tr>\n",
              "      <th>2014-01-03</th>\n",
              "      <td>0.153024</td>\n",
              "      <td>0.262975</td>\n",
              "      <td>1.000000</td>\n",
              "      <td>0.018814</td>\n",
              "      <td>0.071518</td>\n",
              "      <td>0.990431</td>\n",
              "      <td>0.278928</td>\n",
              "    </tr>\n",
              "    <tr>\n",
              "      <th>2014-01-06</th>\n",
              "      <td>0.166667</td>\n",
              "      <td>0.266208</td>\n",
              "      <td>0.995025</td>\n",
              "      <td>0.018601</td>\n",
              "      <td>0.065281</td>\n",
              "      <td>0.980861</td>\n",
              "      <td>0.283005</td>\n",
              "    </tr>\n",
              "    <tr>\n",
              "      <th>2014-01-07</th>\n",
              "      <td>0.196534</td>\n",
              "      <td>0.269393</td>\n",
              "      <td>0.985075</td>\n",
              "      <td>0.017793</td>\n",
              "      <td>0.072349</td>\n",
              "      <td>0.990431</td>\n",
              "      <td>0.286522</td>\n",
              "    </tr>\n",
              "    <tr>\n",
              "      <th>2014-01-08</th>\n",
              "      <td>0.217552</td>\n",
              "      <td>0.269182</td>\n",
              "      <td>0.985075</td>\n",
              "      <td>0.017751</td>\n",
              "      <td>0.079834</td>\n",
              "      <td>0.985646</td>\n",
              "      <td>0.286248</td>\n",
              "    </tr>\n",
              "    <tr>\n",
              "      <th>...</th>\n",
              "      <td>...</td>\n",
              "      <td>...</td>\n",
              "      <td>...</td>\n",
              "      <td>...</td>\n",
              "      <td>...</td>\n",
              "      <td>...</td>\n",
              "      <td>...</td>\n",
              "    </tr>\n",
              "    <tr>\n",
              "      <th>2021-02-17</th>\n",
              "      <td>0.334808</td>\n",
              "      <td>0.945766</td>\n",
              "      <td>0.049751</td>\n",
              "      <td>0.013074</td>\n",
              "      <td>0.486902</td>\n",
              "      <td>0.019139</td>\n",
              "      <td>0.957027</td>\n",
              "    </tr>\n",
              "    <tr>\n",
              "      <th>2021-02-18</th>\n",
              "      <td>0.364307</td>\n",
              "      <td>0.916010</td>\n",
              "      <td>0.049751</td>\n",
              "      <td>0.013074</td>\n",
              "      <td>0.471933</td>\n",
              "      <td>0.028708</td>\n",
              "      <td>0.930151</td>\n",
              "    </tr>\n",
              "    <tr>\n",
              "      <th>2021-02-19</th>\n",
              "      <td>0.356932</td>\n",
              "      <td>0.931926</td>\n",
              "      <td>0.044776</td>\n",
              "      <td>0.013074</td>\n",
              "      <td>0.462370</td>\n",
              "      <td>0.038278</td>\n",
              "      <td>0.942119</td>\n",
              "    </tr>\n",
              "    <tr>\n",
              "      <th>2021-02-22</th>\n",
              "      <td>0.362094</td>\n",
              "      <td>0.911510</td>\n",
              "      <td>0.044776</td>\n",
              "      <td>0.013074</td>\n",
              "      <td>0.447817</td>\n",
              "      <td>0.033493</td>\n",
              "      <td>0.926205</td>\n",
              "    </tr>\n",
              "    <tr>\n",
              "      <th>2021-02-23</th>\n",
              "      <td>0.359882</td>\n",
              "      <td>0.903846</td>\n",
              "      <td>0.044776</td>\n",
              "      <td>0.013074</td>\n",
              "      <td>0.454470</td>\n",
              "      <td>0.028708</td>\n",
              "      <td>0.920690</td>\n",
              "    </tr>\n",
              "  </tbody>\n",
              "</table>\n",
              "<p>1762 rows × 7 columns</p>\n",
              "</div>"
            ],
            "text/plain": [
              "            ExchangeRate    KRX100   KORIBOR  ...  DollarRate  CallRate     KOSPI\n",
              "Date                                          ...                                \n",
              "2014-01-02      0.171091  0.277568  1.000000  ...    0.064449  0.995215  0.290947\n",
              "2014-01-03      0.153024  0.262975  1.000000  ...    0.071518  0.990431  0.278928\n",
              "2014-01-06      0.166667  0.266208  0.995025  ...    0.065281  0.980861  0.283005\n",
              "2014-01-07      0.196534  0.269393  0.985075  ...    0.072349  0.990431  0.286522\n",
              "2014-01-08      0.217552  0.269182  0.985075  ...    0.079834  0.985646  0.286248\n",
              "...                  ...       ...       ...  ...         ...       ...       ...\n",
              "2021-02-17      0.334808  0.945766  0.049751  ...    0.486902  0.019139  0.957027\n",
              "2021-02-18      0.364307  0.916010  0.049751  ...    0.471933  0.028708  0.930151\n",
              "2021-02-19      0.356932  0.931926  0.044776  ...    0.462370  0.038278  0.942119\n",
              "2021-02-22      0.362094  0.911510  0.044776  ...    0.447817  0.033493  0.926205\n",
              "2021-02-23      0.359882  0.903846  0.044776  ...    0.454470  0.028708  0.920690\n",
              "\n",
              "[1762 rows x 7 columns]"
            ]
          },
          "metadata": {
            "tags": []
          },
          "execution_count": 13
        }
      ]
    },
    {
      "cell_type": "code",
      "metadata": {
        "id": "G5wXL40HSDZa"
      },
      "source": [
        "def series_to_supervised(data, n_in=1, n_out=1, dropnan=True):\r\n",
        "  n_vars = 1 if type(data) is list else data.shape[1]\r\n",
        "  df = DataFrame(data)\r\n",
        "  cols, names = list(), list()\r\n",
        "  # input sequence (t-n, ... t-1)\r\n",
        "  for i in range(n_in, 0, -1):\r\n",
        "      cols.append(df.shift(i))\r\n",
        "      names += [('var%d(t-%d)' % (j+1, i)) for j in range(n_vars)]\r\n",
        "  # forecast sequence (t, t+1, ... t+n)\r\n",
        "  for i in range(0, n_out):\r\n",
        "      cols.append(df.shift(-i))\r\n",
        "      if i == 0:\r\n",
        "          names += [('var%d(t)' % (j+1)) for j in range(n_vars)]\r\n",
        "      else:\r\n",
        "          names += [('var%d(t+%d)' % (j+1, i)) for j in range(n_vars)]\r\n",
        "  # put it all together\r\n",
        "  agg = pd.concat(cols, axis=1)\r\n",
        "  agg.columns = names\r\n",
        "  # drop rows with NaN values\r\n",
        "  if dropnan:\r\n",
        "      agg.dropna(inplace=True)\r\n",
        "  return agg"
      ],
      "execution_count": 14,
      "outputs": []
    },
    {
      "cell_type": "code",
      "metadata": {
        "id": "5jiEoXpQnSEW"
      },
      "source": [
        "reframed = series_to_supervised(df_scaler, 1, 1) #t-1시점,t시점 데이터를 한 행으로 둔다"
      ],
      "execution_count": 49,
      "outputs": []
    },
    {
      "cell_type": "code",
      "metadata": {
        "colab": {
          "base_uri": "https://localhost:8080/",
          "height": 437
        },
        "id": "N6K5hKASnvHI",
        "outputId": "4c11913a-da21-4dc5-84d0-fc08defab226"
      },
      "source": [
        "reframed"
      ],
      "execution_count": 50,
      "outputs": [
        {
          "output_type": "execute_result",
          "data": {
            "text/html": [
              "<div>\n",
              "<style scoped>\n",
              "    .dataframe tbody tr th:only-of-type {\n",
              "        vertical-align: middle;\n",
              "    }\n",
              "\n",
              "    .dataframe tbody tr th {\n",
              "        vertical-align: top;\n",
              "    }\n",
              "\n",
              "    .dataframe thead th {\n",
              "        text-align: right;\n",
              "    }\n",
              "</style>\n",
              "<table border=\"1\" class=\"dataframe\">\n",
              "  <thead>\n",
              "    <tr style=\"text-align: right;\">\n",
              "      <th></th>\n",
              "      <th>var1(t-1)</th>\n",
              "      <th>var2(t-1)</th>\n",
              "      <th>var3(t-1)</th>\n",
              "      <th>var4(t-1)</th>\n",
              "      <th>var5(t-1)</th>\n",
              "      <th>var6(t-1)</th>\n",
              "      <th>var7(t-1)</th>\n",
              "      <th>var1(t)</th>\n",
              "      <th>var2(t)</th>\n",
              "      <th>var3(t)</th>\n",
              "      <th>var4(t)</th>\n",
              "      <th>var5(t)</th>\n",
              "      <th>var6(t)</th>\n",
              "      <th>var7(t)</th>\n",
              "    </tr>\n",
              "    <tr>\n",
              "      <th>Date</th>\n",
              "      <th></th>\n",
              "      <th></th>\n",
              "      <th></th>\n",
              "      <th></th>\n",
              "      <th></th>\n",
              "      <th></th>\n",
              "      <th></th>\n",
              "      <th></th>\n",
              "      <th></th>\n",
              "      <th></th>\n",
              "      <th></th>\n",
              "      <th></th>\n",
              "      <th></th>\n",
              "      <th></th>\n",
              "    </tr>\n",
              "  </thead>\n",
              "  <tbody>\n",
              "    <tr>\n",
              "      <th>2014-01-03</th>\n",
              "      <td>0.171091</td>\n",
              "      <td>0.277568</td>\n",
              "      <td>1.000000</td>\n",
              "      <td>0.019069</td>\n",
              "      <td>0.064449</td>\n",
              "      <td>0.995215</td>\n",
              "      <td>0.290947</td>\n",
              "      <td>0.153024</td>\n",
              "      <td>0.262975</td>\n",
              "      <td>1.000000</td>\n",
              "      <td>0.018814</td>\n",
              "      <td>0.071518</td>\n",
              "      <td>0.990431</td>\n",
              "      <td>0.278928</td>\n",
              "    </tr>\n",
              "    <tr>\n",
              "      <th>2014-01-06</th>\n",
              "      <td>0.153024</td>\n",
              "      <td>0.262975</td>\n",
              "      <td>1.000000</td>\n",
              "      <td>0.018814</td>\n",
              "      <td>0.071518</td>\n",
              "      <td>0.990431</td>\n",
              "      <td>0.278928</td>\n",
              "      <td>0.166667</td>\n",
              "      <td>0.266208</td>\n",
              "      <td>0.995025</td>\n",
              "      <td>0.018601</td>\n",
              "      <td>0.065281</td>\n",
              "      <td>0.980861</td>\n",
              "      <td>0.283005</td>\n",
              "    </tr>\n",
              "    <tr>\n",
              "      <th>2014-01-07</th>\n",
              "      <td>0.166667</td>\n",
              "      <td>0.266208</td>\n",
              "      <td>0.995025</td>\n",
              "      <td>0.018601</td>\n",
              "      <td>0.065281</td>\n",
              "      <td>0.980861</td>\n",
              "      <td>0.283005</td>\n",
              "      <td>0.196534</td>\n",
              "      <td>0.269393</td>\n",
              "      <td>0.985075</td>\n",
              "      <td>0.017793</td>\n",
              "      <td>0.072349</td>\n",
              "      <td>0.990431</td>\n",
              "      <td>0.286522</td>\n",
              "    </tr>\n",
              "    <tr>\n",
              "      <th>2014-01-08</th>\n",
              "      <td>0.196534</td>\n",
              "      <td>0.269393</td>\n",
              "      <td>0.985075</td>\n",
              "      <td>0.017793</td>\n",
              "      <td>0.072349</td>\n",
              "      <td>0.990431</td>\n",
              "      <td>0.286522</td>\n",
              "      <td>0.217552</td>\n",
              "      <td>0.269182</td>\n",
              "      <td>0.985075</td>\n",
              "      <td>0.017751</td>\n",
              "      <td>0.079834</td>\n",
              "      <td>0.985646</td>\n",
              "      <td>0.286248</td>\n",
              "    </tr>\n",
              "    <tr>\n",
              "      <th>2014-01-09</th>\n",
              "      <td>0.217552</td>\n",
              "      <td>0.269182</td>\n",
              "      <td>0.985075</td>\n",
              "      <td>0.017751</td>\n",
              "      <td>0.079834</td>\n",
              "      <td>0.985646</td>\n",
              "      <td>0.286248</td>\n",
              "      <td>0.210546</td>\n",
              "      <td>0.260407</td>\n",
              "      <td>0.980100</td>\n",
              "      <td>0.017496</td>\n",
              "      <td>0.079002</td>\n",
              "      <td>0.985646</td>\n",
              "      <td>0.278911</td>\n",
              "    </tr>\n",
              "    <tr>\n",
              "      <th>...</th>\n",
              "      <td>...</td>\n",
              "      <td>...</td>\n",
              "      <td>...</td>\n",
              "      <td>...</td>\n",
              "      <td>...</td>\n",
              "      <td>...</td>\n",
              "      <td>...</td>\n",
              "      <td>...</td>\n",
              "      <td>...</td>\n",
              "      <td>...</td>\n",
              "      <td>...</td>\n",
              "      <td>...</td>\n",
              "      <td>...</td>\n",
              "      <td>...</td>\n",
              "    </tr>\n",
              "    <tr>\n",
              "      <th>2021-02-17</th>\n",
              "      <td>0.347345</td>\n",
              "      <td>0.966433</td>\n",
              "      <td>0.049751</td>\n",
              "      <td>0.013074</td>\n",
              "      <td>0.468607</td>\n",
              "      <td>0.033493</td>\n",
              "      <td>0.973883</td>\n",
              "      <td>0.334808</td>\n",
              "      <td>0.945766</td>\n",
              "      <td>0.049751</td>\n",
              "      <td>0.013074</td>\n",
              "      <td>0.486902</td>\n",
              "      <td>0.019139</td>\n",
              "      <td>0.957027</td>\n",
              "    </tr>\n",
              "    <tr>\n",
              "      <th>2021-02-18</th>\n",
              "      <td>0.334808</td>\n",
              "      <td>0.945766</td>\n",
              "      <td>0.049751</td>\n",
              "      <td>0.013074</td>\n",
              "      <td>0.486902</td>\n",
              "      <td>0.019139</td>\n",
              "      <td>0.957027</td>\n",
              "      <td>0.364307</td>\n",
              "      <td>0.916010</td>\n",
              "      <td>0.049751</td>\n",
              "      <td>0.013074</td>\n",
              "      <td>0.471933</td>\n",
              "      <td>0.028708</td>\n",
              "      <td>0.930151</td>\n",
              "    </tr>\n",
              "    <tr>\n",
              "      <th>2021-02-19</th>\n",
              "      <td>0.364307</td>\n",
              "      <td>0.916010</td>\n",
              "      <td>0.049751</td>\n",
              "      <td>0.013074</td>\n",
              "      <td>0.471933</td>\n",
              "      <td>0.028708</td>\n",
              "      <td>0.930151</td>\n",
              "      <td>0.356932</td>\n",
              "      <td>0.931926</td>\n",
              "      <td>0.044776</td>\n",
              "      <td>0.013074</td>\n",
              "      <td>0.462370</td>\n",
              "      <td>0.038278</td>\n",
              "      <td>0.942119</td>\n",
              "    </tr>\n",
              "    <tr>\n",
              "      <th>2021-02-22</th>\n",
              "      <td>0.356932</td>\n",
              "      <td>0.931926</td>\n",
              "      <td>0.044776</td>\n",
              "      <td>0.013074</td>\n",
              "      <td>0.462370</td>\n",
              "      <td>0.038278</td>\n",
              "      <td>0.942119</td>\n",
              "      <td>0.362094</td>\n",
              "      <td>0.911510</td>\n",
              "      <td>0.044776</td>\n",
              "      <td>0.013074</td>\n",
              "      <td>0.447817</td>\n",
              "      <td>0.033493</td>\n",
              "      <td>0.926205</td>\n",
              "    </tr>\n",
              "    <tr>\n",
              "      <th>2021-02-23</th>\n",
              "      <td>0.362094</td>\n",
              "      <td>0.911510</td>\n",
              "      <td>0.044776</td>\n",
              "      <td>0.013074</td>\n",
              "      <td>0.447817</td>\n",
              "      <td>0.033493</td>\n",
              "      <td>0.926205</td>\n",
              "      <td>0.359882</td>\n",
              "      <td>0.903846</td>\n",
              "      <td>0.044776</td>\n",
              "      <td>0.013074</td>\n",
              "      <td>0.454470</td>\n",
              "      <td>0.028708</td>\n",
              "      <td>0.920690</td>\n",
              "    </tr>\n",
              "  </tbody>\n",
              "</table>\n",
              "<p>1761 rows × 14 columns</p>\n",
              "</div>"
            ],
            "text/plain": [
              "            var1(t-1)  var2(t-1)  var3(t-1)  ...   var5(t)   var6(t)   var7(t)\n",
              "Date                                         ...                              \n",
              "2014-01-03   0.171091   0.277568   1.000000  ...  0.071518  0.990431  0.278928\n",
              "2014-01-06   0.153024   0.262975   1.000000  ...  0.065281  0.980861  0.283005\n",
              "2014-01-07   0.166667   0.266208   0.995025  ...  0.072349  0.990431  0.286522\n",
              "2014-01-08   0.196534   0.269393   0.985075  ...  0.079834  0.985646  0.286248\n",
              "2014-01-09   0.217552   0.269182   0.985075  ...  0.079002  0.985646  0.278911\n",
              "...               ...        ...        ...  ...       ...       ...       ...\n",
              "2021-02-17   0.347345   0.966433   0.049751  ...  0.486902  0.019139  0.957027\n",
              "2021-02-18   0.334808   0.945766   0.049751  ...  0.471933  0.028708  0.930151\n",
              "2021-02-19   0.364307   0.916010   0.049751  ...  0.462370  0.038278  0.942119\n",
              "2021-02-22   0.356932   0.931926   0.044776  ...  0.447817  0.033493  0.926205\n",
              "2021-02-23   0.362094   0.911510   0.044776  ...  0.454470  0.028708  0.920690\n",
              "\n",
              "[1761 rows x 14 columns]"
            ]
          },
          "metadata": {
            "tags": []
          },
          "execution_count": 50
        }
      ]
    },
    {
      "cell_type": "code",
      "metadata": {
        "id": "vvmVI6SgrEBd"
      },
      "source": [
        "values = reframed.values\r\n",
        "n_train_hours = 600 #1년치 데이터만 가져온다\r\n",
        "train = values[:n_train_hours, :]\r\n",
        "test = values[n_train_hours:, :]\r\n",
        "# split into input and outputs\r\n",
        "train_X, train_y = train[:, :-1], train[:, -1]\r\n",
        "test_X, test_y = test[:, :-1], test[:, -1]\r\n",
        "# reshape input to be 3D [samples, timesteps, features]\r\n",
        "train_X = train_X.reshape((train_X.shape[0], 1, train_X.shape[1]))\r\n",
        "test_X = test_X.reshape((test_X.shape[0], 1, test_X.shape[1]))"
      ],
      "execution_count": 59,
      "outputs": []
    },
    {
      "cell_type": "code",
      "metadata": {
        "colab": {
          "base_uri": "https://localhost:8080/"
        },
        "id": "8hzP2Tjg1IzJ",
        "outputId": "555e142e-b1b8-487f-ea90-e39ebee79769"
      },
      "source": [
        "test_X.shape"
      ],
      "execution_count": 60,
      "outputs": [
        {
          "output_type": "execute_result",
          "data": {
            "text/plain": [
              "(1161, 1, 13)"
            ]
          },
          "metadata": {
            "tags": []
          },
          "execution_count": 60
        }
      ]
    },
    {
      "cell_type": "code",
      "metadata": {
        "id": "6BlHEKxKrGEj"
      },
      "source": [
        "model = Sequential()\r\n",
        "model.add(LSTM(50, input_shape=(train_X.shape[1], train_X.shape[2])))\r\n",
        "model.add(Dense(1))\r\n",
        "model.compile(loss='mse', optimizer='adam')"
      ],
      "execution_count": 61,
      "outputs": []
    },
    {
      "cell_type": "code",
      "metadata": {
        "id": "wCtI31QxrI4X",
        "colab": {
          "base_uri": "https://localhost:8080/"
        },
        "outputId": "9684ca7b-b887-4f0d-b507-0af5537d7833"
      },
      "source": [
        "history = model.fit(train_X, train_y, epochs=50, batch_size=72, \r\n",
        "        validation_data=(test_X, test_y), verbose=2, shuffle=False)"
      ],
      "execution_count": 62,
      "outputs": [
        {
          "output_type": "stream",
          "text": [
            "Epoch 1/50\n",
            "9/9 - 3s - loss: 0.0791 - val_loss: 0.1100\n",
            "Epoch 2/50\n",
            "9/9 - 0s - loss: 0.0239 - val_loss: 0.0516\n",
            "Epoch 3/50\n",
            "9/9 - 0s - loss: 0.0046 - val_loss: 0.0340\n",
            "Epoch 4/50\n",
            "9/9 - 0s - loss: 0.0034 - val_loss: 0.0321\n",
            "Epoch 5/50\n",
            "9/9 - 0s - loss: 0.0027 - val_loss: 0.0335\n",
            "Epoch 6/50\n",
            "9/9 - 0s - loss: 0.0015 - val_loss: 0.0374\n",
            "Epoch 7/50\n",
            "9/9 - 0s - loss: 0.0015 - val_loss: 0.0393\n",
            "Epoch 8/50\n",
            "9/9 - 0s - loss: 0.0015 - val_loss: 0.0383\n",
            "Epoch 9/50\n",
            "9/9 - 0s - loss: 0.0014 - val_loss: 0.0370\n",
            "Epoch 10/50\n",
            "9/9 - 0s - loss: 0.0013 - val_loss: 0.0366\n",
            "Epoch 11/50\n",
            "9/9 - 0s - loss: 0.0013 - val_loss: 0.0369\n",
            "Epoch 12/50\n",
            "9/9 - 0s - loss: 0.0012 - val_loss: 0.0372\n",
            "Epoch 13/50\n",
            "9/9 - 0s - loss: 0.0012 - val_loss: 0.0369\n",
            "Epoch 14/50\n",
            "9/9 - 0s - loss: 0.0012 - val_loss: 0.0366\n",
            "Epoch 15/50\n",
            "9/9 - 0s - loss: 0.0012 - val_loss: 0.0362\n",
            "Epoch 16/50\n",
            "9/9 - 0s - loss: 0.0012 - val_loss: 0.0360\n",
            "Epoch 17/50\n",
            "9/9 - 0s - loss: 0.0011 - val_loss: 0.0357\n",
            "Epoch 18/50\n",
            "9/9 - 0s - loss: 0.0011 - val_loss: 0.0354\n",
            "Epoch 19/50\n",
            "9/9 - 0s - loss: 0.0011 - val_loss: 0.0350\n",
            "Epoch 20/50\n",
            "9/9 - 0s - loss: 0.0011 - val_loss: 0.0347\n",
            "Epoch 21/50\n",
            "9/9 - 0s - loss: 0.0011 - val_loss: 0.0343\n",
            "Epoch 22/50\n",
            "9/9 - 0s - loss: 0.0010 - val_loss: 0.0340\n",
            "Epoch 23/50\n",
            "9/9 - 0s - loss: 0.0010 - val_loss: 0.0336\n",
            "Epoch 24/50\n",
            "9/9 - 0s - loss: 0.0010 - val_loss: 0.0332\n",
            "Epoch 25/50\n",
            "9/9 - 0s - loss: 9.9927e-04 - val_loss: 0.0328\n",
            "Epoch 26/50\n",
            "9/9 - 0s - loss: 9.8299e-04 - val_loss: 0.0325\n",
            "Epoch 27/50\n",
            "9/9 - 0s - loss: 9.6703e-04 - val_loss: 0.0321\n",
            "Epoch 28/50\n",
            "9/9 - 0s - loss: 9.5139e-04 - val_loss: 0.0317\n",
            "Epoch 29/50\n",
            "9/9 - 0s - loss: 9.3609e-04 - val_loss: 0.0313\n",
            "Epoch 30/50\n",
            "9/9 - 0s - loss: 9.2112e-04 - val_loss: 0.0309\n",
            "Epoch 31/50\n",
            "9/9 - 0s - loss: 9.0647e-04 - val_loss: 0.0305\n",
            "Epoch 32/50\n",
            "9/9 - 0s - loss: 8.9216e-04 - val_loss: 0.0301\n",
            "Epoch 33/50\n",
            "9/9 - 0s - loss: 8.7816e-04 - val_loss: 0.0296\n",
            "Epoch 34/50\n",
            "9/9 - 0s - loss: 8.6449e-04 - val_loss: 0.0292\n",
            "Epoch 35/50\n",
            "9/9 - 0s - loss: 8.5113e-04 - val_loss: 0.0288\n",
            "Epoch 36/50\n",
            "9/9 - 0s - loss: 8.3807e-04 - val_loss: 0.0284\n",
            "Epoch 37/50\n",
            "9/9 - 0s - loss: 8.2531e-04 - val_loss: 0.0280\n",
            "Epoch 38/50\n",
            "9/9 - 0s - loss: 8.1285e-04 - val_loss: 0.0275\n",
            "Epoch 39/50\n",
            "9/9 - 0s - loss: 8.0066e-04 - val_loss: 0.0271\n",
            "Epoch 40/50\n",
            "9/9 - 0s - loss: 7.8875e-04 - val_loss: 0.0267\n",
            "Epoch 41/50\n",
            "9/9 - 0s - loss: 7.7711e-04 - val_loss: 0.0262\n",
            "Epoch 42/50\n",
            "9/9 - 0s - loss: 7.6572e-04 - val_loss: 0.0258\n",
            "Epoch 43/50\n",
            "9/9 - 0s - loss: 7.5459e-04 - val_loss: 0.0254\n",
            "Epoch 44/50\n",
            "9/9 - 0s - loss: 7.4369e-04 - val_loss: 0.0250\n",
            "Epoch 45/50\n",
            "9/9 - 0s - loss: 7.3302e-04 - val_loss: 0.0245\n",
            "Epoch 46/50\n",
            "9/9 - 0s - loss: 7.2257e-04 - val_loss: 0.0241\n",
            "Epoch 47/50\n",
            "9/9 - 0s - loss: 7.1234e-04 - val_loss: 0.0237\n",
            "Epoch 48/50\n",
            "9/9 - 0s - loss: 7.0231e-04 - val_loss: 0.0233\n",
            "Epoch 49/50\n",
            "9/9 - 0s - loss: 6.9248e-04 - val_loss: 0.0229\n",
            "Epoch 50/50\n",
            "9/9 - 0s - loss: 6.8284e-04 - val_loss: 0.0224\n"
          ],
          "name": "stdout"
        }
      ]
    },
    {
      "cell_type": "code",
      "metadata": {
        "colab": {
          "base_uri": "https://localhost:8080/"
        },
        "id": "tDBTlvYr-yaw",
        "outputId": "da11567e-4bad-4383-f0ac-4c7838386b3b"
      },
      "source": [
        "print(history.history.keys())"
      ],
      "execution_count": 63,
      "outputs": [
        {
          "output_type": "stream",
          "text": [
            "dict_keys(['loss', 'val_loss'])\n"
          ],
          "name": "stdout"
        }
      ]
    },
    {
      "cell_type": "code",
      "metadata": {
        "id": "JcBvc30crJBm",
        "colab": {
          "base_uri": "https://localhost:8080/",
          "height": 265
        },
        "outputId": "44de7569-860e-4506-e653-544bf4392763"
      },
      "source": [
        "plt.plot(history.history['loss'], label='train')\r\n",
        "plt.plot(history.history['val_loss'], label='test')\r\n",
        "plt.legend()\r\n",
        "plt.show()"
      ],
      "execution_count": 64,
      "outputs": [
        {
          "output_type": "display_data",
          "data": {
            "image/png": "[encoded data removed]",
            "text/plain": [
              "<Figure size 432x288 with 1 Axes>"
            ]
          },
          "metadata": {
            "tags": [],
            "needs_background": "light"
          }
        }
      ]
    },
    {
      "cell_type": "code",
      "metadata": {
        "colab": {
          "base_uri": "https://localhost:8080/",
          "height": 373
        },
        "id": "PTQHipIcH6Ol",
        "outputId": "a4eabf38-5789-455c-d731-2a9320dabb5b"
      },
      "source": [
        "# make a prediction\r\n",
        "yhat = model.predict(test_X)\r\n",
        "test_X = test_X.reshape((test_X.shape[0], test_X.shape[2]))\r\n",
        "# invert scaling for forecast\r\n",
        "inv_yhat = concatenate((yhat, test_X[:, 1:]), axis=1)\r\n",
        "inv_yhat = scaler.inverse_transform(inv_yhat)\r\n",
        "inv_yhat = inv_yhat[:,0]\r\n",
        "# invert scaling for actual\r\n",
        "test_y = test_y.reshape((len(test_y), 1))\r\n",
        "inv_y = concatenate((test_y, test_X[:, 1:]), axis=1)\r\n",
        "inv_y = scaler.inverse_transform(inv_y)\r\n",
        "inv_y = inv_y[:,0]\r\n",
        "# calculate RMSE\r\n",
        "rmse = sqrt(mean_squared_error(inv_y, inv_yhat))"
      ],
      "execution_count": 57,
      "outputs": [
        {
          "output_type": "error",
          "ename": "ValueError",
          "evalue": "ignored",
          "traceback": [
            "\u001b[0;31m---------------------------------------------------------------------------\u001b[0m",
            "\u001b[0;31mValueError\u001b[0m                                Traceback (most recent call last)",
            "\u001b[0;32m<ipython-input-57-6b1b269a0bbc>\u001b[0m in \u001b[0;36m<module>\u001b[0;34m()\u001b[0m\n\u001b[1;32m      4\u001b[0m \u001b[0;31m# invert scaling for forecast\u001b[0m\u001b[0;34m\u001b[0m\u001b[0;34m\u001b[0m\u001b[0;34m\u001b[0m\u001b[0m\n\u001b[1;32m      5\u001b[0m \u001b[0minv_yhat\u001b[0m \u001b[0;34m=\u001b[0m \u001b[0mconcatenate\u001b[0m\u001b[0;34m(\u001b[0m\u001b[0;34m(\u001b[0m\u001b[0myhat\u001b[0m\u001b[0;34m,\u001b[0m \u001b[0mtest_X\u001b[0m\u001b[0;34m[\u001b[0m\u001b[0;34m:\u001b[0m\u001b[0;34m,\u001b[0m \u001b[0;36m1\u001b[0m\u001b[0;34m:\u001b[0m\u001b[0;34m]\u001b[0m\u001b[0;34m)\u001b[0m\u001b[0;34m,\u001b[0m \u001b[0maxis\u001b[0m\u001b[0;34m=\u001b[0m\u001b[0;36m1\u001b[0m\u001b[0;34m)\u001b[0m\u001b[0;34m\u001b[0m\u001b[0;34m\u001b[0m\u001b[0m\n\u001b[0;32m----> 6\u001b[0;31m \u001b[0minv_yhat\u001b[0m \u001b[0;34m=\u001b[0m \u001b[0mscaler\u001b[0m\u001b[0;34m.\u001b[0m\u001b[0minverse_transform\u001b[0m\u001b[0;34m(\u001b[0m\u001b[0minv_yhat\u001b[0m\u001b[0;34m)\u001b[0m\u001b[0;34m\u001b[0m\u001b[0;34m\u001b[0m\u001b[0m\n\u001b[0m\u001b[1;32m      7\u001b[0m \u001b[0minv_yhat\u001b[0m \u001b[0;34m=\u001b[0m \u001b[0minv_yhat\u001b[0m\u001b[0;34m[\u001b[0m\u001b[0;34m:\u001b[0m\u001b[0;34m,\u001b[0m\u001b[0;36m0\u001b[0m\u001b[0;34m]\u001b[0m\u001b[0;34m\u001b[0m\u001b[0;34m\u001b[0m\u001b[0m\n\u001b[1;32m      8\u001b[0m \u001b[0;31m# invert scaling for actual\u001b[0m\u001b[0;34m\u001b[0m\u001b[0;34m\u001b[0m\u001b[0;34m\u001b[0m\u001b[0m\n",
            "\u001b[0;32m/usr/local/lib/python3.7/dist-packages/sklearn/preprocessing/_data.py\u001b[0m in \u001b[0;36minverse_transform\u001b[0;34m(self, X)\u001b[0m\n\u001b[1;32m    434\u001b[0m                         force_all_finite=\"allow-nan\")\n\u001b[1;32m    435\u001b[0m \u001b[0;34m\u001b[0m\u001b[0m\n\u001b[0;32m--> 436\u001b[0;31m         \u001b[0mX\u001b[0m \u001b[0;34m-=\u001b[0m \u001b[0mself\u001b[0m\u001b[0;34m.\u001b[0m\u001b[0mmin_\u001b[0m\u001b[0;34m\u001b[0m\u001b[0;34m\u001b[0m\u001b[0m\n\u001b[0m\u001b[1;32m    437\u001b[0m         \u001b[0mX\u001b[0m \u001b[0;34m/=\u001b[0m \u001b[0mself\u001b[0m\u001b[0;34m.\u001b[0m\u001b[0mscale_\u001b[0m\u001b[0;34m\u001b[0m\u001b[0;34m\u001b[0m\u001b[0m\n\u001b[1;32m    438\u001b[0m         \u001b[0;32mreturn\u001b[0m \u001b[0mX\u001b[0m\u001b[0;34m\u001b[0m\u001b[0;34m\u001b[0m\u001b[0m\n",
            "\u001b[0;31mValueError\u001b[0m: operands could not be broadcast together with shapes (1361,13) (7,) (1361,13) "
          ]
        }
      ]
    },
    {
      "cell_type": "code",
      "metadata": {
        "id": "Ol7491iKRiYK"
      },
      "source": [
        "train_size = int(0.8 * len(df_scaler))\r\n",
        "train = df_scaler.iloc[:train_size, :]\r\n",
        "\r\n",
        "x_train, y_train = pd.DataFrame(df_scaler.iloc[:train_size, [0,1,2,3,4,5,6]]),pd.DataFrame(df_scaler.iloc[:train_size, 0])\r\n",
        "x_test, y_test = pd.DataFrame(df_scaler.iloc[train_size:, [0,1,2,3,4,5,6]]), pd.DataFrame(df_scaler.iloc[train_size:, 0])\r\n",
        "\r\n",
        "x_test.head()"
      ],
      "execution_count": null,
      "outputs": []
    },
    {
      "cell_type": "code",
      "metadata": {
        "id": "hn0Z8jrkR3b3"
      },
      "source": [
        ""
      ],
      "execution_count": null,
      "outputs": []
    }
  ]
}