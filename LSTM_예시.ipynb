{
  "nbformat": 4,
  "nbformat_minor": 0,
  "metadata": {
    "colab": {
      "name": "LSTM 예시.ipynb",
      "provenance": [],
      "collapsed_sections": [],
      "authorship_tag": "ABX9TyNFpUy/9IqQhVL1SFAhMsTW",
      "include_colab_link": true
    },
    "kernelspec": {
      "name": "python3",
      "display_name": "Python 3"
    }
  },
  "cells": [
    {
      "cell_type": "markdown",
      "metadata": {
        "id": "view-in-github",
        "colab_type": "text"
      },
      "source": [
        "<a href=\"https://colab.research.google.com/github/ggwnsghgg/Exchange_rate_prediction_Project/blob/main/LSTM_%EC%98%88%EC%8B%9C.ipynb\" target=\"_parent\"><img src=\"https://colab.research.google.com/assets/colab-badge.svg\" alt=\"Open In Colab\"/></a>"
      ]
    },
    {
      "cell_type": "code",
      "metadata": {
        "id": "81FhMZg349IC"
      },
      "source": [
        "import numpy as np\r\n",
        "import matplotlib.pyplot as plt\r\n",
        "import pandas as pd\r\n",
        "from sklearn.preprocessing import MinMaxScaler"
      ],
      "execution_count": 90,
      "outputs": []
    },
    {
      "cell_type": "code",
      "metadata": {
        "id": "mMSgsEsG49vB",
        "colab": {
          "base_uri": "https://localhost:8080/"
        },
        "outputId": "8fc40ee0-0c1a-46da-9c02-ff3d32fccc06"
      },
      "source": [
        "from google.colab import drive\r\n",
        "drive.mount('/content/drive')"
      ],
      "execution_count": 91,
      "outputs": [
        {
          "output_type": "stream",
          "text": [
            "Drive already mounted at /content/drive; to attempt to forcibly remount, call drive.mount(\"/content/drive\", force_remount=True).\n"
          ],
          "name": "stdout"
        }
      ]
    },
    {
      "cell_type": "code",
      "metadata": {
        "id": "CdoqP2GqkyiF"
      },
      "source": [
        "filename = '/content/drive/My Drive/Test_data.csv'"
      ],
      "execution_count": 92,
      "outputs": []
    },
    {
      "cell_type": "code",
      "metadata": {
        "id": "w9KZnz7156qM",
        "colab": {
          "base_uri": "https://localhost:8080/",
          "height": 198
        },
        "outputId": "f15b3b08-5e12-4315-c962-df1c88511a18"
      },
      "source": [
        "data = pd.read_csv(filename)\r\n",
        "data.head()"
      ],
      "execution_count": 93,
      "outputs": [
        {
          "output_type": "execute_result",
          "data": {
            "text/html": [
              "<div>\n",
              "<style scoped>\n",
              "    .dataframe tbody tr th:only-of-type {\n",
              "        vertical-align: middle;\n",
              "    }\n",
              "\n",
              "    .dataframe tbody tr th {\n",
              "        vertical-align: top;\n",
              "    }\n",
              "\n",
              "    .dataframe thead th {\n",
              "        text-align: right;\n",
              "    }\n",
              "</style>\n",
              "<table border=\"1\" class=\"dataframe\">\n",
              "  <thead>\n",
              "    <tr style=\"text-align: right;\">\n",
              "      <th></th>\n",
              "      <th>Date</th>\n",
              "      <th>ExchangeRate</th>\n",
              "      <th>Swap Rate -1Y</th>\n",
              "      <th>KORIBOR</th>\n",
              "      <th>LIBOR</th>\n",
              "      <th>달러지수 (종가)</th>\n",
              "      <th>콜금리</th>\n",
              "      <th>KOSPI</th>\n",
              "    </tr>\n",
              "  </thead>\n",
              "  <tbody>\n",
              "    <tr>\n",
              "      <th>0</th>\n",
              "      <td>2014.01.02</td>\n",
              "      <td>1.06</td>\n",
              "      <td>0.0956</td>\n",
              "      <td>2.78</td>\n",
              "      <td>0.0956</td>\n",
              "      <td>80.79</td>\n",
              "      <td>2.51</td>\n",
              "      <td>1.967.19</td>\n",
              "    </tr>\n",
              "    <tr>\n",
              "      <th>1</th>\n",
              "      <td>2014.01.03</td>\n",
              "      <td>1.05</td>\n",
              "      <td>0.0950</td>\n",
              "      <td>2.78</td>\n",
              "      <td>0.0950</td>\n",
              "      <td>80.96</td>\n",
              "      <td>2.50</td>\n",
              "      <td>1.946.14</td>\n",
              "    </tr>\n",
              "    <tr>\n",
              "      <th>2</th>\n",
              "      <td>2014.01.06</td>\n",
              "      <td>1.05</td>\n",
              "      <td>0.0945</td>\n",
              "      <td>2.77</td>\n",
              "      <td>0.0945</td>\n",
              "      <td>80.81</td>\n",
              "      <td>2.48</td>\n",
              "      <td>1.953.28</td>\n",
              "    </tr>\n",
              "    <tr>\n",
              "      <th>3</th>\n",
              "      <td>2014.01.07</td>\n",
              "      <td>1.06</td>\n",
              "      <td>0.0926</td>\n",
              "      <td>2.75</td>\n",
              "      <td>0.0926</td>\n",
              "      <td>80.98</td>\n",
              "      <td>2.50</td>\n",
              "      <td>1.959.44</td>\n",
              "    </tr>\n",
              "    <tr>\n",
              "      <th>4</th>\n",
              "      <td>2014.01.08</td>\n",
              "      <td>1.07</td>\n",
              "      <td>0.0925</td>\n",
              "      <td>2.75</td>\n",
              "      <td>0.0925</td>\n",
              "      <td>81.16</td>\n",
              "      <td>2.49</td>\n",
              "      <td>1.958.96</td>\n",
              "    </tr>\n",
              "  </tbody>\n",
              "</table>\n",
              "</div>"
            ],
            "text/plain": [
              "         Date  ExchangeRate  Swap Rate -1Y  ...  달러지수 (종가)   콜금리     KOSPI\n",
              "0  2014.01.02          1.06         0.0956  ...      80.79  2.51  1.967.19\n",
              "1  2014.01.03          1.05         0.0950  ...      80.96  2.50  1.946.14\n",
              "2  2014.01.06          1.05         0.0945  ...      80.81  2.48  1.953.28\n",
              "3  2014.01.07          1.06         0.0926  ...      80.98  2.50  1.959.44\n",
              "4  2014.01.08          1.07         0.0925  ...      81.16  2.49  1.958.96\n",
              "\n",
              "[5 rows x 8 columns]"
            ]
          },
          "metadata": {
            "tags": []
          },
          "execution_count": 93
        }
      ]
    },
    {
      "cell_type": "code",
      "metadata": {
        "colab": {
          "base_uri": "https://localhost:8080/"
        },
        "id": "i4J0tTW1svWF",
        "outputId": "022a7d10-9d0a-4f44-deca-8e12a1982eac"
      },
      "source": [
        "data.isnull().sum()"
      ],
      "execution_count": 94,
      "outputs": [
        {
          "output_type": "execute_result",
          "data": {
            "text/plain": [
              "Date              0\n",
              "ExchangeRate      0\n",
              "Swap Rate -1Y    88\n",
              "KORIBOR           0\n",
              "LIBOR            92\n",
              "달러지수 (종가)         7\n",
              "콜금리               0\n",
              "KOSPI             7\n",
              "dtype: int64"
            ]
          },
          "metadata": {
            "tags": []
          },
          "execution_count": 94
        }
      ]
    },
    {
      "cell_type": "code",
      "metadata": {
        "id": "eGLGDAmrwvzb",
        "colab": {
          "base_uri": "https://localhost:8080/"
        },
        "outputId": "559cb397-ea9e-46ac-8f28-320e2941dbed"
      },
      "source": [
        "data.interpolate(inplace=True)\r\n",
        "data.isnull().sum()"
      ],
      "execution_count": 95,
      "outputs": [
        {
          "output_type": "execute_result",
          "data": {
            "text/plain": [
              "Date             0\n",
              "ExchangeRate     0\n",
              "Swap Rate -1Y    0\n",
              "KORIBOR          0\n",
              "LIBOR            0\n",
              "달러지수 (종가)        0\n",
              "콜금리              0\n",
              "KOSPI            7\n",
              "dtype: int64"
            ]
          },
          "metadata": {
            "tags": []
          },
          "execution_count": 95
        }
      ]
    },
    {
      "cell_type": "code",
      "metadata": {
        "colab": {
          "base_uri": "https://localhost:8080/",
          "height": 283
        },
        "id": "3McVca1G46q_",
        "outputId": "e0fb757d-ba1d-4456-958c-72cae444c7b5"
      },
      "source": [
        "plt.plot(data['ExchangeRate'])"
      ],
      "execution_count": 96,
      "outputs": [
        {
          "output_type": "execute_result",
          "data": {
            "text/plain": [
              "[<matplotlib.lines.Line2D at 0x7f1d361ae890>]"
            ]
          },
          "metadata": {
            "tags": []
          },
          "execution_count": 96
        },
        {
          "output_type": "display_data",
          "data": {
            "image/png": "[encoded data removed]",
            "text/plain": [
              "<Figure size 432x288 with 1 Axes>"
            ]
          },
          "metadata": {
            "tags": [],
            "needs_background": "light"
          }
        }
      ]
    },
    {
      "cell_type": "code",
      "metadata": {
        "id": "8X8hHxjU5sFR",
        "colab": {
          "base_uri": "https://localhost:8080/"
        },
        "outputId": "2bcdb151-d15d-4aeb-b3d4-7e396d923d69"
      },
      "source": [
        " df = data['ExchangeRate']\r\n",
        " print(df)"
      ],
      "execution_count": 97,
      "outputs": [
        {
          "output_type": "stream",
          "text": [
            "0       1.06\n",
            "1       1.05\n",
            "2       1.05\n",
            "3       1.06\n",
            "4       1.07\n",
            "        ... \n",
            "1757    1.10\n",
            "1758    1.11\n",
            "1759    1.11\n",
            "1760    1.11\n",
            "1761    1.11\n",
            "Name: ExchangeRate, Length: 1762, dtype: float64\n"
          ],
          "name": "stdout"
        }
      ]
    },
    {
      "cell_type": "code",
      "metadata": {
        "id": "EDWf4O0viwou"
      },
      "source": [
        "# create windows\r\n",
        "# 최근 50일간의 데이터를 확인하여 내일을 예측\r\n",
        "seq_len = 360\r\n",
        "sequence_length = seq_len + 1\r\n",
        "\r\n",
        "result = []\r\n",
        "for index in range(len(df) - sequence_length):\r\n",
        "    result.append(df[index: index + sequence_length])"
      ],
      "execution_count": 134,
      "outputs": []
    },
    {
      "cell_type": "code",
      "metadata": {
        "colab": {
          "base_uri": "https://localhost:8080/"
        },
        "id": "rvmSHO_Q6sb9",
        "outputId": "ae080625-5a48-44b1-ff1e-acbec08bc367"
      },
      "source": [
        "# z-score 정규화\r\n",
        "normalized_data = []\r\n",
        "window_mean = []\r\n",
        "window_std = []\r\n",
        "\r\n",
        "for window in result:\r\n",
        "    normalized_window = [((p - np.mean(window)) / np.std(window)) for p in window]\r\n",
        "    normalized_data.append(normalized_window)\r\n",
        "    window_mean.append(np.mean(window))\r\n",
        "    window_std.append(np.std(window))\r\n",
        "\r\n",
        "result = np.array(normalized_data)\r\n",
        "\r\n",
        "# split train and test data\r\n",
        "row = int(round(result.shape[0] * 0.9))\r\n",
        "train = result[:row, :]\r\n",
        "# shuffle을 해도, 51개의 묶음은 변하지 않으므로 상관없음\r\n",
        "# 50일(x)로 1일(y) 예측\r\n",
        "np.random.shuffle(train)\r\n",
        "\r\n",
        "x_train = train[:, :-1]\r\n",
        "x_train = np.reshape(x_train, (x_train.shape[0], x_train.shape[1], 1))\r\n",
        "y_train = train[:, -1]\r\n",
        "\r\n",
        "x_test = result[row:, :-1]\r\n",
        "x_test = np.reshape(x_test, (x_test.shape[0], x_test.shape[1], 1))\r\n",
        "y_test = result[row:, -1]\r\n",
        "\r\n",
        "x_train.shape, x_test.shape"
      ],
      "execution_count": 135,
      "outputs": [
        {
          "output_type": "execute_result",
          "data": {
            "text/plain": [
              "((1261, 360, 1), (140, 360, 1))"
            ]
          },
          "metadata": {
            "tags": []
          },
          "execution_count": 135
        }
      ]
    },
    {
      "cell_type": "code",
      "metadata": {
        "colab": {
          "base_uri": "https://localhost:8080/"
        },
        "id": "4LjNVVpai9aT",
        "outputId": "d2880157-2b84-4f78-cf18-1dd9622e4b68"
      },
      "source": [
        "model = Sequential()\r\n",
        "\r\n",
        "model.add(LSTM(50, return_sequences=True, input_shape=(50, 1)))\r\n",
        "\r\n",
        "model.add(LSTM(32, return_sequences=False))\r\n",
        "\r\n",
        "model.add(Dense(1, activation='linear'))\r\n",
        "\r\n",
        "model.compile(loss='mse', optimizer='adam')\r\n",
        "\r\n",
        "model.summary()"
      ],
      "execution_count": 136,
      "outputs": [
        {
          "output_type": "stream",
          "text": [
            "Model: \"sequential_3\"\n",
            "_________________________________________________________________\n",
            "Layer (type)                 Output Shape              Param #   \n",
            "=================================================================\n",
            "lstm_4 (LSTM)                (None, 50, 50)            10400     \n",
            "_________________________________________________________________\n",
            "lstm_5 (LSTM)                (None, 32)                10624     \n",
            "_________________________________________________________________\n",
            "dense_3 (Dense)              (None, 1)                 33        \n",
            "=================================================================\n",
            "Total params: 21,057\n",
            "Trainable params: 21,057\n",
            "Non-trainable params: 0\n",
            "_________________________________________________________________\n"
          ],
          "name": "stdout"
        }
      ]
    },
    {
      "cell_type": "code",
      "metadata": {
        "colab": {
          "base_uri": "https://localhost:8080/"
        },
        "id": "YyLizs2ejAp4",
        "outputId": "f859c18a-8806-4975-edb7-b02befa4dc35"
      },
      "source": [
        "model.fit(x_train, y_train,\r\n",
        "    validation_data=(x_test, y_test),\r\n",
        "    batch_size=10,\r\n",
        "    epochs=10)"
      ],
      "execution_count": 137,
      "outputs": [
        {
          "output_type": "stream",
          "text": [
            "Epoch 1/10\n",
            "WARNING:tensorflow:Model was constructed with shape (None, 50, 1) for input KerasTensor(type_spec=TensorSpec(shape=(None, 50, 1), dtype=tf.float32, name='lstm_4_input'), name='lstm_4_input', description=\"created by layer 'lstm_4_input'\"), but it was called on an input with incompatible shape (None, 360, 1).\n",
            "WARNING:tensorflow:Model was constructed with shape (None, 50, 1) for input KerasTensor(type_spec=TensorSpec(shape=(None, 50, 1), dtype=tf.float32, name='lstm_4_input'), name='lstm_4_input', description=\"created by layer 'lstm_4_input'\"), but it was called on an input with incompatible shape (None, 360, 1).\n",
            "127/127 [==============================] - ETA: 0s - loss: 0.4285WARNING:tensorflow:Model was constructed with shape (None, 50, 1) for input KerasTensor(type_spec=TensorSpec(shape=(None, 50, 1), dtype=tf.float32, name='lstm_4_input'), name='lstm_4_input', description=\"created by layer 'lstm_4_input'\"), but it was called on an input with incompatible shape (10, 360, 1).\n",
            "127/127 [==============================] - 34s 247ms/step - loss: 0.4270 - val_loss: 0.1892\n",
            "Epoch 2/10\n",
            "127/127 [==============================] - 33s 256ms/step - loss: 0.1196 - val_loss: 0.1150\n",
            "Epoch 3/10\n",
            "127/127 [==============================] - 33s 262ms/step - loss: 0.0805 - val_loss: 0.0780\n",
            "Epoch 4/10\n",
            "127/127 [==============================] - 33s 263ms/step - loss: 0.0684 - val_loss: 0.1315\n",
            "Epoch 5/10\n",
            "127/127 [==============================] - 34s 271ms/step - loss: 0.0637 - val_loss: 0.0918\n",
            "Epoch 6/10\n",
            "127/127 [==============================] - 35s 274ms/step - loss: 0.0543 - val_loss: 0.0569\n",
            "Epoch 7/10\n",
            "127/127 [==============================] - 34s 271ms/step - loss: 0.0533 - val_loss: 0.0559\n",
            "Epoch 8/10\n",
            "127/127 [==============================] - 33s 258ms/step - loss: 0.0525 - val_loss: 0.0890\n",
            "Epoch 9/10\n",
            "127/127 [==============================] - 33s 264ms/step - loss: 0.0545 - val_loss: 0.0583\n",
            "Epoch 10/10\n",
            "127/127 [==============================] - 35s 273ms/step - loss: 0.0475 - val_loss: 0.0743\n"
          ],
          "name": "stdout"
        },
        {
          "output_type": "execute_result",
          "data": {
            "text/plain": [
              "<tensorflow.python.keras.callbacks.History at 0x7f1d00d0e690>"
            ]
          },
          "metadata": {
            "tags": []
          },
          "execution_count": 137
        }
      ]
    },
    {
      "cell_type": "code",
      "metadata": {
        "colab": {
          "base_uri": "https://localhost:8080/"
        },
        "id": "MokFuBIflFqL",
        "outputId": "f13651fc-ffdb-4dd8-85a7-35cf4cb1e833"
      },
      "source": [
        "pred = model.predict(x_test)"
      ],
      "execution_count": 138,
      "outputs": [
        {
          "output_type": "stream",
          "text": [
            "WARNING:tensorflow:Model was constructed with shape (None, 50, 1) for input KerasTensor(type_spec=TensorSpec(shape=(None, 50, 1), dtype=tf.float32, name='lstm_4_input'), name='lstm_4_input', description=\"created by layer 'lstm_4_input'\"), but it was called on an input with incompatible shape (None, 360, 1).\n"
          ],
          "name": "stdout"
        }
      ]
    },
    {
      "cell_type": "code",
      "metadata": {
        "id": "nrMItOcKlHqt"
      },
      "source": [
        "# 복원\r\n",
        "pred_result = []\r\n",
        "pred_y = []\r\n",
        "for i in range(len(pred)):\r\n",
        "    n1 = (pred[i] * window_std[i]) + window_mean[i]\r\n",
        "    n2 = (y_test[i] * window_std[i]) + window_mean[i]\r\n",
        "    pred_result.append(n1)\r\n",
        "    pred_y.append(n2)"
      ],
      "execution_count": 139,
      "outputs": []
    },
    {
      "cell_type": "code",
      "metadata": {
        "colab": {
          "base_uri": "https://localhost:8080/",
          "height": 594
        },
        "id": "QmqzoB47lJmn",
        "outputId": "0a50a71a-83e0-4964-a8ba-b8a384aa5430"
      },
      "source": [
        "\r\n",
        "fig = plt.figure(facecolor='white', figsize=(20, 10))\r\n",
        "ax = fig.add_subplot(111)\r\n",
        "ax.plot(pred_y, label='True')\r\n",
        "ax.plot(pred_result, label='Prediction')\r\n",
        "ax.legend()\r\n",
        "plt.show()"
      ],
      "execution_count": 140,
      "outputs": [
        {
          "output_type": "display_data",
          "data": {
            "image/png": "[encoded data removed]",
            "text/plain": [
              "<Figure size 1440x720 with 1 Axes>"
            ]
          },
          "metadata": {
            "tags": []
          }
        }
      ]
    },
    {
      "cell_type": "code",
      "metadata": {
        "id": "gidsluDk6xv6"
      },
      "source": [
        ""
      ],
      "execution_count": 146,
      "outputs": []
    },
    {
      "cell_type": "code",
      "metadata": {
        "id": "OUtXzdAu66cE"
      },
      "source": [
        ""
      ],
      "execution_count": 146,
      "outputs": []
    },
    {
      "cell_type": "code",
      "metadata": {
        "id": "lmc0y8oze-BT"
      },
      "source": [
        ""
      ],
      "execution_count": 146,
      "outputs": []
    },
    {
      "cell_type": "code",
      "metadata": {
        "id": "SW0KgBKGCHg6"
      },
      "source": [
        ""
      ],
      "execution_count": 146,
      "outputs": []
    },
    {
      "cell_type": "code",
      "metadata": {
        "id": "W0ei4RxoCWhE"
      },
      "source": [
        ""
      ],
      "execution_count": 146,
      "outputs": []
    },
    {
      "cell_type": "code",
      "metadata": {
        "id": "Q0D2k39DCy7s"
      },
      "source": [
        ""
      ],
      "execution_count": 146,
      "outputs": []
    },
    {
      "cell_type": "code",
      "metadata": {
        "id": "z3S-hSiR68Gl"
      },
      "source": [
        ""
      ],
      "execution_count": 146,
      "outputs": []
    },
    {
      "cell_type": "code",
      "metadata": {
        "id": "llhxKuoJBp9t"
      },
      "source": [
        ""
      ],
      "execution_count": 146,
      "outputs": []
    },
    {
      "cell_type": "code",
      "metadata": {
        "id": "p_-tITKBB0mK"
      },
      "source": [
        ""
      ],
      "execution_count": 146,
      "outputs": []
    },
    {
      "cell_type": "code",
      "metadata": {
        "id": "Ga0QIWNVDWTC"
      },
      "source": [
        ""
      ],
      "execution_count": 146,
      "outputs": []
    },
    {
      "cell_type": "code",
      "metadata": {
        "id": "cz8oOiAEDdMa"
      },
      "source": [
        ""
      ],
      "execution_count": 146,
      "outputs": []
    },
    {
      "cell_type": "code",
      "metadata": {
        "id": "h5r9Ww72Dgor"
      },
      "source": [
        ""
      ],
      "execution_count": null,
      "outputs": []
    }
  ]
}