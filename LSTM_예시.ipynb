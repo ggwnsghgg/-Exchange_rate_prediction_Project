{
  "nbformat": 4,
  "nbformat_minor": 0,
  "metadata": {
    "colab": {
      "name": "LSTM 예시.ipynb",
      "provenance": [],
      "collapsed_sections": [],
      "authorship_tag": "ABX9TyMzO+yGWw0mMwga0kRfvYEU",
      "include_colab_link": true
    },
    "kernelspec": {
      "name": "python3",
      "display_name": "Python 3"
    }
  },
  "cells": [
    {
      "cell_type": "markdown",
      "metadata": {
        "id": "view-in-github",
        "colab_type": "text"
      },
      "source": [
        "<a href=\"https://colab.research.google.com/github/ggwnsghgg/Exchange_rate_prediction_Project/blob/main/LSTM_%EC%98%88%EC%8B%9C.ipynb\" target=\"_parent\"><img src=\"https://colab.research.google.com/assets/colab-badge.svg\" alt=\"Open In Colab\"/></a>"
      ]
    },
    {
      "cell_type": "code",
      "metadata": {
        "id": "81FhMZg349IC"
      },
      "source": [
        "import numpy as np\r\n",
        "import matplotlib.pyplot as plt\r\n",
        "import pandas as pd\r\n",
        "from sklearn.preprocessing import MinMaxScaler"
      ],
      "execution_count": 4,
      "outputs": []
    },
    {
      "cell_type": "code",
      "metadata": {
        "id": "mMSgsEsG49vB",
        "colab": {
          "base_uri": "https://localhost:8080/"
        },
        "outputId": "e14e9fca-d257-4289-a724-b6f84462bcd9"
      },
      "source": [
        "from google.colab import drive\r\n",
        "drive.mount('/content/drive')"
      ],
      "execution_count": 1,
      "outputs": [
        {
          "output_type": "stream",
          "text": [
            "Mounted at /content/drive\n"
          ],
          "name": "stdout"
        }
      ]
    },
    {
      "cell_type": "code",
      "metadata": {
        "id": "CdoqP2GqkyiF"
      },
      "source": [
        "filename = '/content/drive/My Drive/test.csv'"
      ],
      "execution_count": 2,
      "outputs": []
    },
    {
      "cell_type": "code",
      "metadata": {
        "id": "w9KZnz7156qM",
        "colab": {
          "base_uri": "https://localhost:8080/",
          "height": 204
        },
        "outputId": "af0827b1-e8af-46c9-8552-dcb0c49adca7"
      },
      "source": [
        "data = pd.read_csv(filename)\r\n",
        "data.head()"
      ],
      "execution_count": 5,
      "outputs": [
        {
          "output_type": "execute_result",
          "data": {
            "text/html": [
              "<div>\n",
              "<style scoped>\n",
              "    .dataframe tbody tr th:only-of-type {\n",
              "        vertical-align: middle;\n",
              "    }\n",
              "\n",
              "    .dataframe tbody tr th {\n",
              "        vertical-align: top;\n",
              "    }\n",
              "\n",
              "    .dataframe thead th {\n",
              "        text-align: right;\n",
              "    }\n",
              "</style>\n",
              "<table border=\"1\" class=\"dataframe\">\n",
              "  <thead>\n",
              "    <tr style=\"text-align: right;\">\n",
              "      <th></th>\n",
              "      <th>Date</th>\n",
              "      <th>ExchangeRate</th>\n",
              "      <th>BID</th>\n",
              "      <th>OFFER</th>\n",
              "      <th>KORIBOR</th>\n",
              "      <th>LIBOR</th>\n",
              "      <th>Dollar</th>\n",
              "      <th>Call</th>\n",
              "      <th>KOSPI</th>\n",
              "    </tr>\n",
              "  </thead>\n",
              "  <tbody>\n",
              "    <tr>\n",
              "      <th>0</th>\n",
              "      <td>2018.02.26</td>\n",
              "      <td>1,078.50</td>\n",
              "      <td>-1370</td>\n",
              "      <td>-870</td>\n",
              "      <td>1.99</td>\n",
              "      <td>1.4475</td>\n",
              "      <td>89.85</td>\n",
              "      <td>1.48</td>\n",
              "      <td>2,457.65</td>\n",
              "    </tr>\n",
              "    <tr>\n",
              "      <th>1</th>\n",
              "      <td>2018.02.27</td>\n",
              "      <td>1,073.70</td>\n",
              "      <td>-1390</td>\n",
              "      <td>-890</td>\n",
              "      <td>2.00</td>\n",
              "      <td>1.4475</td>\n",
              "      <td>90.36</td>\n",
              "      <td>1.50</td>\n",
              "      <td>2,456.14</td>\n",
              "    </tr>\n",
              "    <tr>\n",
              "      <th>2</th>\n",
              "      <td>2018.02.28</td>\n",
              "      <td>1,071.00</td>\n",
              "      <td>-1400</td>\n",
              "      <td>-900</td>\n",
              "      <td>2.00</td>\n",
              "      <td>1.4425</td>\n",
              "      <td>90.61</td>\n",
              "      <td>1.51</td>\n",
              "      <td>2,427.36</td>\n",
              "    </tr>\n",
              "    <tr>\n",
              "      <th>3</th>\n",
              "      <td>2018.03.02</td>\n",
              "      <td>1,081.90</td>\n",
              "      <td>-1400</td>\n",
              "      <td>-900</td>\n",
              "      <td>2.00</td>\n",
              "      <td>1.4475</td>\n",
              "      <td>89.94</td>\n",
              "      <td>1.50</td>\n",
              "      <td>2,402.16</td>\n",
              "    </tr>\n",
              "    <tr>\n",
              "      <th>4</th>\n",
              "      <td>2018.03.05</td>\n",
              "      <td>1,081.30</td>\n",
              "      <td>-1360</td>\n",
              "      <td>-860</td>\n",
              "      <td>2.01</td>\n",
              "      <td>1.4475</td>\n",
              "      <td>90.08</td>\n",
              "      <td>1.46</td>\n",
              "      <td>2,375.06</td>\n",
              "    </tr>\n",
              "  </tbody>\n",
              "</table>\n",
              "</div>"
            ],
            "text/plain": [
              "         Date ExchangeRate   BID  OFFER  ...   LIBOR  Dollar  Call     KOSPI\n",
              "0  2018.02.26     1,078.50 -1370   -870  ...  1.4475   89.85  1.48  2,457.65\n",
              "1  2018.02.27     1,073.70 -1390   -890  ...  1.4475   90.36  1.50  2,456.14\n",
              "2  2018.02.28     1,071.00 -1400   -900  ...  1.4425   90.61  1.51  2,427.36\n",
              "3  2018.03.02     1,081.90 -1400   -900  ...  1.4475   89.94  1.50  2,402.16\n",
              "4  2018.03.05     1,081.30 -1360   -860  ...  1.4475   90.08  1.46  2,375.06\n",
              "\n",
              "[5 rows x 9 columns]"
            ]
          },
          "metadata": {
            "tags": []
          },
          "execution_count": 5
        }
      ]
    },
    {
      "cell_type": "code",
      "metadata": {
        "id": "eGLGDAmrwvzb"
      },
      "source": [
        "# 결측치 제거\r\n",
        "dataset = data.dropna()"
      ],
      "execution_count": 6,
      "outputs": []
    },
    {
      "cell_type": "code",
      "metadata": {
        "colab": {
          "base_uri": "https://localhost:8080/",
          "height": 419
        },
        "id": "kTJZh5Vv4r6I",
        "outputId": "b48e4f5f-d517-4fb3-c591-b8bd976a0812"
      },
      "source": [
        "data"
      ],
      "execution_count": 7,
      "outputs": [
        {
          "output_type": "execute_result",
          "data": {
            "text/html": [
              "<div>\n",
              "<style scoped>\n",
              "    .dataframe tbody tr th:only-of-type {\n",
              "        vertical-align: middle;\n",
              "    }\n",
              "\n",
              "    .dataframe tbody tr th {\n",
              "        vertical-align: top;\n",
              "    }\n",
              "\n",
              "    .dataframe thead th {\n",
              "        text-align: right;\n",
              "    }\n",
              "</style>\n",
              "<table border=\"1\" class=\"dataframe\">\n",
              "  <thead>\n",
              "    <tr style=\"text-align: right;\">\n",
              "      <th></th>\n",
              "      <th>Date</th>\n",
              "      <th>ExchangeRate</th>\n",
              "      <th>BID</th>\n",
              "      <th>OFFER</th>\n",
              "      <th>KORIBOR</th>\n",
              "      <th>LIBOR</th>\n",
              "      <th>Dollar</th>\n",
              "      <th>Call</th>\n",
              "      <th>KOSPI</th>\n",
              "    </tr>\n",
              "  </thead>\n",
              "  <tbody>\n",
              "    <tr>\n",
              "      <th>0</th>\n",
              "      <td>2018.02.26</td>\n",
              "      <td>1,078.50</td>\n",
              "      <td>-1370</td>\n",
              "      <td>-870</td>\n",
              "      <td>1.99</td>\n",
              "      <td>1.4475</td>\n",
              "      <td>89.85</td>\n",
              "      <td>1.48</td>\n",
              "      <td>2,457.65</td>\n",
              "    </tr>\n",
              "    <tr>\n",
              "      <th>1</th>\n",
              "      <td>2018.02.27</td>\n",
              "      <td>1,073.70</td>\n",
              "      <td>-1390</td>\n",
              "      <td>-890</td>\n",
              "      <td>2.00</td>\n",
              "      <td>1.4475</td>\n",
              "      <td>90.36</td>\n",
              "      <td>1.50</td>\n",
              "      <td>2,456.14</td>\n",
              "    </tr>\n",
              "    <tr>\n",
              "      <th>2</th>\n",
              "      <td>2018.02.28</td>\n",
              "      <td>1,071.00</td>\n",
              "      <td>-1400</td>\n",
              "      <td>-900</td>\n",
              "      <td>2.00</td>\n",
              "      <td>1.4425</td>\n",
              "      <td>90.61</td>\n",
              "      <td>1.51</td>\n",
              "      <td>2,427.36</td>\n",
              "    </tr>\n",
              "    <tr>\n",
              "      <th>3</th>\n",
              "      <td>2018.03.02</td>\n",
              "      <td>1,081.90</td>\n",
              "      <td>-1400</td>\n",
              "      <td>-900</td>\n",
              "      <td>2.00</td>\n",
              "      <td>1.4475</td>\n",
              "      <td>89.94</td>\n",
              "      <td>1.50</td>\n",
              "      <td>2,402.16</td>\n",
              "    </tr>\n",
              "    <tr>\n",
              "      <th>4</th>\n",
              "      <td>2018.03.05</td>\n",
              "      <td>1,081.30</td>\n",
              "      <td>-1360</td>\n",
              "      <td>-860</td>\n",
              "      <td>2.01</td>\n",
              "      <td>1.4475</td>\n",
              "      <td>90.08</td>\n",
              "      <td>1.46</td>\n",
              "      <td>2,375.06</td>\n",
              "    </tr>\n",
              "    <tr>\n",
              "      <th>...</th>\n",
              "      <td>...</td>\n",
              "      <td>...</td>\n",
              "      <td>...</td>\n",
              "      <td>...</td>\n",
              "      <td>...</td>\n",
              "      <td>...</td>\n",
              "      <td>...</td>\n",
              "      <td>...</td>\n",
              "      <td>...</td>\n",
              "    </tr>\n",
              "    <tr>\n",
              "      <th>734</th>\n",
              "      <td>2021.02.17</td>\n",
              "      <td>1,099.70</td>\n",
              "      <td>-315</td>\n",
              "      <td>155</td>\n",
              "      <td>0.87</td>\n",
              "      <td>NaN</td>\n",
              "      <td>90.95</td>\n",
              "      <td>0.47</td>\n",
              "      <td>3,133.73</td>\n",
              "    </tr>\n",
              "    <tr>\n",
              "      <th>735</th>\n",
              "      <td>2021.02.18</td>\n",
              "      <td>1,107.70</td>\n",
              "      <td>-305</td>\n",
              "      <td>165</td>\n",
              "      <td>0.87</td>\n",
              "      <td>NaN</td>\n",
              "      <td>90.59</td>\n",
              "      <td>0.49</td>\n",
              "      <td>3,086.66</td>\n",
              "    </tr>\n",
              "    <tr>\n",
              "      <th>736</th>\n",
              "      <td>2021.02.19</td>\n",
              "      <td>1,105.70</td>\n",
              "      <td>-305</td>\n",
              "      <td>165</td>\n",
              "      <td>0.86</td>\n",
              "      <td>NaN</td>\n",
              "      <td>90.36</td>\n",
              "      <td>0.51</td>\n",
              "      <td>3,107.62</td>\n",
              "    </tr>\n",
              "    <tr>\n",
              "      <th>737</th>\n",
              "      <td>2021.02.22</td>\n",
              "      <td>1,107.10</td>\n",
              "      <td>-305</td>\n",
              "      <td>165</td>\n",
              "      <td>0.86</td>\n",
              "      <td>NaN</td>\n",
              "      <td>90.01</td>\n",
              "      <td>0.50</td>\n",
              "      <td>3,079.75</td>\n",
              "    </tr>\n",
              "    <tr>\n",
              "      <th>738</th>\n",
              "      <td>2021.02.23</td>\n",
              "      <td>1,106.50</td>\n",
              "      <td>-315</td>\n",
              "      <td>155</td>\n",
              "      <td>0.86</td>\n",
              "      <td>NaN</td>\n",
              "      <td>90.17</td>\n",
              "      <td>0.49</td>\n",
              "      <td>3,070.09</td>\n",
              "    </tr>\n",
              "  </tbody>\n",
              "</table>\n",
              "<p>739 rows × 9 columns</p>\n",
              "</div>"
            ],
            "text/plain": [
              "           Date ExchangeRate   BID  OFFER  ...   LIBOR  Dollar  Call     KOSPI\n",
              "0    2018.02.26     1,078.50 -1370   -870  ...  1.4475   89.85  1.48  2,457.65\n",
              "1    2018.02.27     1,073.70 -1390   -890  ...  1.4475   90.36  1.50  2,456.14\n",
              "2    2018.02.28     1,071.00 -1400   -900  ...  1.4425   90.61  1.51  2,427.36\n",
              "3    2018.03.02     1,081.90 -1400   -900  ...  1.4475   89.94  1.50  2,402.16\n",
              "4    2018.03.05     1,081.30 -1360   -860  ...  1.4475   90.08  1.46  2,375.06\n",
              "..          ...          ...   ...    ...  ...     ...     ...   ...       ...\n",
              "734  2021.02.17     1,099.70  -315    155  ...     NaN   90.95  0.47  3,133.73\n",
              "735  2021.02.18     1,107.70  -305    165  ...     NaN   90.59  0.49  3,086.66\n",
              "736  2021.02.19     1,105.70  -305    165  ...     NaN   90.36  0.51  3,107.62\n",
              "737  2021.02.22     1,107.10  -305    165  ...     NaN   90.01  0.50  3,079.75\n",
              "738  2021.02.23     1,106.50  -315    155  ...     NaN   90.17  0.49  3,070.09\n",
              "\n",
              "[739 rows x 9 columns]"
            ]
          },
          "metadata": {
            "tags": []
          },
          "execution_count": 7
        }
      ]
    },
    {
      "cell_type": "code",
      "metadata": {
        "colab": {
          "base_uri": "https://localhost:8080/",
          "height": 297
        },
        "id": "3McVca1G46q_",
        "outputId": "04a9d5b8-b62e-4a79-c669-2fdc0add7f48"
      },
      "source": [
        " "
      ],
      "execution_count": null,
      "outputs": [
        {
          "output_type": "execute_result",
          "data": {
            "text/html": [
              "<div>\n",
              "<style scoped>\n",
              "    .dataframe tbody tr th:only-of-type {\n",
              "        vertical-align: middle;\n",
              "    }\n",
              "\n",
              "    .dataframe tbody tr th {\n",
              "        vertical-align: top;\n",
              "    }\n",
              "\n",
              "    .dataframe thead th {\n",
              "        text-align: right;\n",
              "    }\n",
              "</style>\n",
              "<table border=\"1\" class=\"dataframe\">\n",
              "  <thead>\n",
              "    <tr style=\"text-align: right;\">\n",
              "      <th></th>\n",
              "      <th>대미환산율</th>\n",
              "    </tr>\n",
              "  </thead>\n",
              "  <tbody>\n",
              "    <tr>\n",
              "      <th>count</th>\n",
              "      <td>4327.0</td>\n",
              "    </tr>\n",
              "    <tr>\n",
              "      <th>mean</th>\n",
              "      <td>1.0</td>\n",
              "    </tr>\n",
              "    <tr>\n",
              "      <th>std</th>\n",
              "      <td>0.0</td>\n",
              "    </tr>\n",
              "    <tr>\n",
              "      <th>min</th>\n",
              "      <td>1.0</td>\n",
              "    </tr>\n",
              "    <tr>\n",
              "      <th>25%</th>\n",
              "      <td>1.0</td>\n",
              "    </tr>\n",
              "    <tr>\n",
              "      <th>50%</th>\n",
              "      <td>1.0</td>\n",
              "    </tr>\n",
              "    <tr>\n",
              "      <th>75%</th>\n",
              "      <td>1.0</td>\n",
              "    </tr>\n",
              "    <tr>\n",
              "      <th>max</th>\n",
              "      <td>1.0</td>\n",
              "    </tr>\n",
              "  </tbody>\n",
              "</table>\n",
              "</div>"
            ],
            "text/plain": [
              "        대미환산율\n",
              "count  4327.0\n",
              "mean      1.0\n",
              "std       0.0\n",
              "min       1.0\n",
              "25%       1.0\n",
              "50%       1.0\n",
              "75%       1.0\n",
              "max       1.0"
            ]
          },
          "metadata": {
            "tags": []
          },
          "execution_count": 11
        }
      ]
    },
    {
      "cell_type": "code",
      "metadata": {
        "id": "8X8hHxjU5sFR"
      },
      "source": [
        ""
      ],
      "execution_count": null,
      "outputs": []
    }
  ]
}